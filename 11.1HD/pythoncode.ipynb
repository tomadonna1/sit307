{
 "cells": [
  {
   "cell_type": "code",
   "execution_count": 1340,
   "metadata": {
    "_cell_guid": "b1076dfc-b9ad-4769-8c92-a6c4dae69d19",
    "_uuid": "8f2839f25d086af736a60e9eeb907d3b93b6e0e5"
   },
   "outputs": [],
   "source": [
    "import cudf\n",
    "from sklearn.preprocessing import LabelEncoder\n",
    "import pandas as pd\n",
    "from sklearn.preprocessing import QuantileTransformer\n",
    "from cuml.neighbors import KNeighborsClassifier\n",
    "from sklearn.model_selection import train_test_split\n",
    "from cuml.metrics import accuracy_score\n",
    "from sklearn.metrics import confusion_matrix, classification_report, roc_auc_score, roc_curve\n",
    "from cuml.svm import SVC\n",
    "from cuml import LogisticRegression\n",
    "from imblearn.over_sampling import RandomOverSampler\n",
    "import numpy as np\n",
    "import cupy as cp\n",
    "from cuml.ensemble import RandomForestClassifier\n",
    "from cuml.model_selection import GridSearchCV\n",
    "import sklearn.ensemble \n",
    "from xgboost import XGBClassifier\n",
    "import shap\n",
    "from sklearn.model_selection import cross_val_score\n",
    "import cuml\n",
    "from sklearn.tree import DecisionTreeClassifier\n",
    "from sklearn import tree\n",
    "import matplotlib.pyplot as plt\n",
    "import seaborn as sns\n",
    "from sklearn.impute import KNNImputer\n",
    "from sklearn.ensemble import VotingClassifier\n",
    "from lightgbm import LGBMClassifier\n",
    "from sklearn.ensemble import StackingClassifier\n",
    "import tensorflow as tf\n",
    "from tensorflow.keras.callbacks import EarlyStopping\n",
    "from tensorflow.keras.utils import to_categorical\n",
    "from scipy import stats\n",
    "from sklearn.pipeline import Pipeline\n",
    "from sklearn.preprocessing import StandardScaler\n",
    "from imblearn.over_sampling import SMOTE\n",
    "from sklearn.model_selection import RandomizedSearchCV, cross_val_score, StratifiedKFold, cross_val_predict\n",
    "\n",
    "import warnings\n",
    "\n",
    "warnings.filterwarnings(\"ignore\")"
   ]
  },
  {
   "cell_type": "markdown",
   "metadata": {},
   "source": [
    "# Data Preprocessing\n",
    "missing values, outliers detection, scaling, balancing labels. Use both z score and iqr to classify outliers. Then replace those outliers and missing values with median. Use SMOTE for balancing labels."
   ]
  },
  {
   "cell_type": "code",
   "execution_count": 1341,
   "metadata": {},
   "outputs": [
    {
     "data": {
      "text/html": [
       "<div>\n",
       "<style scoped>\n",
       "    .dataframe tbody tr th:only-of-type {\n",
       "        vertical-align: middle;\n",
       "    }\n",
       "\n",
       "    .dataframe tbody tr th {\n",
       "        vertical-align: top;\n",
       "    }\n",
       "\n",
       "    .dataframe thead th {\n",
       "        text-align: right;\n",
       "    }\n",
       "</style>\n",
       "<table border=\"1\" class=\"dataframe\">\n",
       "  <thead>\n",
       "    <tr style=\"text-align: right;\">\n",
       "      <th></th>\n",
       "      <th>Pregnancies</th>\n",
       "      <th>Glucose</th>\n",
       "      <th>BloodPressure</th>\n",
       "      <th>SkinThickness</th>\n",
       "      <th>Insulin</th>\n",
       "      <th>BMI</th>\n",
       "      <th>DiabetesPedigreeFunction</th>\n",
       "      <th>Age</th>\n",
       "      <th>Outcome</th>\n",
       "    </tr>\n",
       "  </thead>\n",
       "  <tbody>\n",
       "    <tr>\n",
       "      <th>0</th>\n",
       "      <td>6</td>\n",
       "      <td>148</td>\n",
       "      <td>72</td>\n",
       "      <td>35</td>\n",
       "      <td>0</td>\n",
       "      <td>33.6</td>\n",
       "      <td>0.627</td>\n",
       "      <td>50</td>\n",
       "      <td>1</td>\n",
       "    </tr>\n",
       "    <tr>\n",
       "      <th>1</th>\n",
       "      <td>1</td>\n",
       "      <td>85</td>\n",
       "      <td>66</td>\n",
       "      <td>29</td>\n",
       "      <td>0</td>\n",
       "      <td>26.6</td>\n",
       "      <td>0.351</td>\n",
       "      <td>31</td>\n",
       "      <td>0</td>\n",
       "    </tr>\n",
       "    <tr>\n",
       "      <th>2</th>\n",
       "      <td>8</td>\n",
       "      <td>183</td>\n",
       "      <td>64</td>\n",
       "      <td>0</td>\n",
       "      <td>0</td>\n",
       "      <td>23.3</td>\n",
       "      <td>0.672</td>\n",
       "      <td>32</td>\n",
       "      <td>1</td>\n",
       "    </tr>\n",
       "    <tr>\n",
       "      <th>3</th>\n",
       "      <td>1</td>\n",
       "      <td>89</td>\n",
       "      <td>66</td>\n",
       "      <td>23</td>\n",
       "      <td>94</td>\n",
       "      <td>28.1</td>\n",
       "      <td>0.167</td>\n",
       "      <td>21</td>\n",
       "      <td>0</td>\n",
       "    </tr>\n",
       "    <tr>\n",
       "      <th>4</th>\n",
       "      <td>0</td>\n",
       "      <td>137</td>\n",
       "      <td>40</td>\n",
       "      <td>35</td>\n",
       "      <td>168</td>\n",
       "      <td>43.1</td>\n",
       "      <td>2.288</td>\n",
       "      <td>33</td>\n",
       "      <td>1</td>\n",
       "    </tr>\n",
       "  </tbody>\n",
       "</table>\n",
       "</div>"
      ],
      "text/plain": [
       "   Pregnancies  Glucose  BloodPressure  SkinThickness  Insulin   BMI  \\\n",
       "0            6      148             72             35        0  33.6   \n",
       "1            1       85             66             29        0  26.6   \n",
       "2            8      183             64              0        0  23.3   \n",
       "3            1       89             66             23       94  28.1   \n",
       "4            0      137             40             35      168  43.1   \n",
       "\n",
       "   DiabetesPedigreeFunction  Age  Outcome  \n",
       "0                     0.627   50        1  \n",
       "1                     0.351   31        0  \n",
       "2                     0.672   32        1  \n",
       "3                     0.167   21        0  \n",
       "4                     2.288   33        1  "
      ]
     },
     "metadata": {},
     "output_type": "display_data"
    }
   ],
   "source": [
    "df = pd.read_csv('diabetes.csv')\n",
    "display(df.head())"
   ]
  },
  {
   "cell_type": "code",
   "execution_count": 1342,
   "metadata": {},
   "outputs": [
    {
     "name": "stdout",
     "output_type": "stream",
     "text": [
      "<class 'pandas.core.frame.DataFrame'>\n",
      "RangeIndex: 768 entries, 0 to 767\n",
      "Data columns (total 9 columns):\n",
      " #   Column                    Non-Null Count  Dtype  \n",
      "---  ------                    --------------  -----  \n",
      " 0   Pregnancies               768 non-null    float32\n",
      " 1   Glucose                   768 non-null    float32\n",
      " 2   BloodPressure             768 non-null    float32\n",
      " 3   SkinThickness             768 non-null    float32\n",
      " 4   Insulin                   768 non-null    float32\n",
      " 5   BMI                       768 non-null    float32\n",
      " 6   DiabetesPedigreeFunction  768 non-null    float32\n",
      " 7   Age                       768 non-null    float32\n",
      " 8   Outcome                   768 non-null    int64  \n",
      "dtypes: float32(8), int64(1)\n",
      "memory usage: 30.1 KB\n"
     ]
    }
   ],
   "source": [
    "# Convert all the features to float32\n",
    "for column in df.columns:\n",
    "    if column != 'Outcome':\n",
    "        df[column] = df[column].astype('float32')\n",
    "df.info()"
   ]
  },
  {
   "cell_type": "code",
   "execution_count": 1343,
   "metadata": {},
   "outputs": [
    {
     "name": "stdout",
     "output_type": "stream",
     "text": [
      "Pregnancies                 0\n",
      "Glucose                     0\n",
      "BloodPressure               0\n",
      "SkinThickness               0\n",
      "Insulin                     0\n",
      "BMI                         0\n",
      "DiabetesPedigreeFunction    0\n",
      "Age                         0\n",
      "Outcome                     0\n",
      "dtype: int64\n"
     ]
    }
   ],
   "source": [
    "# Check for null values\n",
    "null_values = df.isnull().sum()\n",
    "print(null_values)"
   ]
  },
  {
   "cell_type": "code",
   "execution_count": 1344,
   "metadata": {},
   "outputs": [],
   "source": [
    "# Replace all value that is 0 with NAN\n",
    "for column in df.columns:\n",
    "    if column != 'Outcome':\n",
    "        df[column].replace(0, np.nan, inplace=True)"
   ]
  },
  {
   "cell_type": "code",
   "execution_count": 1345,
   "metadata": {},
   "outputs": [],
   "source": [
    "def detect_outliers_z_iqr(df: pd.DataFrame, columns: list[str]) -> pd.DataFrame:\n",
    "    \"\"\"\n",
    "    Detect outliers using both z-score and iqr\n",
    "    - df (pd.DataFrame): input df\n",
    "    - columns (list[str]): columns selected\n",
    "\n",
    "    Returns:\n",
    "    - pd.DataFrame: applied outlier detection df\n",
    "    \"\"\"\n",
    "    df_copy = df.copy()\n",
    "    for column in columns:\n",
    "        # Z-score method\n",
    "        z_scores = np.abs(stats.zscore(df_copy[column]))\n",
    "        z_outliers = z_scores > 3\n",
    "\n",
    "        # IQR method\n",
    "        Q1 = df_copy[column].quantile(0.25)\n",
    "        Q3 = df_copy[column].quantile(0.75)\n",
    "        IQR = Q3 - Q1\n",
    "        iqr_outliers = (df_copy[column] < (Q1 - 1.5 * IQR)) | (df_copy[column] > (Q3 + 1.5 * IQR))\n",
    "\n",
    "        # Combine both method, true if outlier is in either method\n",
    "        outliers = z_outliers | iqr_outliers\n",
    "        \n",
    "        # Print debug info\n",
    "        print(f\"Column: {column}\")\n",
    "        print(f\"Z-score outliers: {df_copy[column][z_outliers].values}\")\n",
    "        print(f\"IQR outliers: {df_copy[column][iqr_outliers].values}\")\n",
    "        \n",
    "        # Replace outlier with nan\n",
    "        df_copy.loc[outliers, column] = np.nan\n",
    "        \n",
    "    return df_copy"
   ]
  },
  {
   "cell_type": "code",
   "execution_count": 1346,
   "metadata": {},
   "outputs": [
    {
     "name": "stdout",
     "output_type": "stream",
     "text": [
      "Column: Pregnancies\n",
      "Z-score outliers: []\n",
      "IQR outliers: [15. 17.]\n",
      "Column: Glucose\n",
      "Z-score outliers: []\n",
      "IQR outliers: []\n",
      "Column: BloodPressure\n",
      "Z-score outliers: []\n",
      "IQR outliers: [ 30. 110. 108. 122.  30. 110. 108. 110.  24.  38. 106. 106. 106. 114.]\n",
      "Column: SkinThickness\n",
      "Z-score outliers: []\n",
      "IQR outliers: [60. 63. 99.]\n",
      "Column: Insulin\n",
      "Z-score outliers: []\n",
      "IQR outliers: [543. 846. 495. 485. 495. 478. 744. 370. 680. 402. 375. 545. 465. 415.\n",
      " 579. 474. 480. 600. 440. 540. 480. 387. 392. 510.]\n",
      "Column: BMI\n",
      "Z-score outliers: []\n",
      "IQR outliers: [53.2 55.  67.1 52.3 52.3 52.9 59.4 57.3]\n",
      "Column: DiabetesPedigreeFunction\n",
      "Z-score outliers: [2.288 1.893 1.781 2.329 1.476 2.137 1.731 1.6   2.42  1.699 1.698]\n",
      "IQR outliers: [2.288 1.441 1.39  1.893 1.781 1.222 1.4   1.321 1.224 2.329 1.318 1.213\n",
      " 1.353 1.224 1.391 1.476 2.137 1.731 1.268 1.6   2.42  1.251 1.699 1.258\n",
      " 1.282 1.698 1.461 1.292 1.394]\n"
     ]
    }
   ],
   "source": [
    "columns = ['Pregnancies','Glucose', 'BloodPressure', 'SkinThickness', 'Insulin',\n",
    "       'BMI', 'DiabetesPedigreeFunction']\n",
    "df2 = detect_outliers_z_iqr(df, columns)"
   ]
  },
  {
   "cell_type": "markdown",
   "metadata": {},
   "source": [
    "The article said that zero values in element that has 0 beside the `Outcome` column as the input is the missing value. The reason for that is zero values are not biologically conveivable. Now we need to use both z score and iqr to classify outliers. Then replace the outliers and missing values with the median."
   ]
  },
  {
   "cell_type": "code",
   "execution_count": 1347,
   "metadata": {},
   "outputs": [],
   "source": [
    "# Replace NaN, 0, and 0.0 values with the median for each column\n",
    "for column in columns:\n",
    "    median_value = df2[column].median() \n",
    "    df2[column].replace([np.nan, 0, 0.0], median_value, inplace=True)"
   ]
  },
  {
   "cell_type": "code",
   "execution_count": 1348,
   "metadata": {},
   "outputs": [
    {
     "data": {
      "text/html": [
       "<div>\n",
       "<style scoped>\n",
       "    .dataframe tbody tr th:only-of-type {\n",
       "        vertical-align: middle;\n",
       "    }\n",
       "\n",
       "    .dataframe tbody tr th {\n",
       "        vertical-align: top;\n",
       "    }\n",
       "\n",
       "    .dataframe thead th {\n",
       "        text-align: right;\n",
       "    }\n",
       "</style>\n",
       "<table border=\"1\" class=\"dataframe\">\n",
       "  <thead>\n",
       "    <tr style=\"text-align: right;\">\n",
       "      <th></th>\n",
       "      <th>Pregnancies</th>\n",
       "      <th>Glucose</th>\n",
       "      <th>BloodPressure</th>\n",
       "      <th>SkinThickness</th>\n",
       "      <th>Insulin</th>\n",
       "      <th>BMI</th>\n",
       "      <th>DiabetesPedigreeFunction</th>\n",
       "      <th>Age</th>\n",
       "      <th>Outcome</th>\n",
       "    </tr>\n",
       "  </thead>\n",
       "  <tbody>\n",
       "    <tr>\n",
       "      <th>0</th>\n",
       "      <td>6.0</td>\n",
       "      <td>148.0</td>\n",
       "      <td>72.0</td>\n",
       "      <td>35.0</td>\n",
       "      <td>120.0</td>\n",
       "      <td>33.599998</td>\n",
       "      <td>0.627</td>\n",
       "      <td>50.0</td>\n",
       "      <td>1</td>\n",
       "    </tr>\n",
       "    <tr>\n",
       "      <th>1</th>\n",
       "      <td>1.0</td>\n",
       "      <td>85.0</td>\n",
       "      <td>66.0</td>\n",
       "      <td>29.0</td>\n",
       "      <td>120.0</td>\n",
       "      <td>26.600000</td>\n",
       "      <td>0.351</td>\n",
       "      <td>31.0</td>\n",
       "      <td>0</td>\n",
       "    </tr>\n",
       "    <tr>\n",
       "      <th>2</th>\n",
       "      <td>8.0</td>\n",
       "      <td>183.0</td>\n",
       "      <td>64.0</td>\n",
       "      <td>29.0</td>\n",
       "      <td>120.0</td>\n",
       "      <td>23.299999</td>\n",
       "      <td>0.672</td>\n",
       "      <td>32.0</td>\n",
       "      <td>1</td>\n",
       "    </tr>\n",
       "    <tr>\n",
       "      <th>3</th>\n",
       "      <td>1.0</td>\n",
       "      <td>89.0</td>\n",
       "      <td>66.0</td>\n",
       "      <td>23.0</td>\n",
       "      <td>94.0</td>\n",
       "      <td>28.100000</td>\n",
       "      <td>0.167</td>\n",
       "      <td>21.0</td>\n",
       "      <td>0</td>\n",
       "    </tr>\n",
       "    <tr>\n",
       "      <th>4</th>\n",
       "      <td>4.0</td>\n",
       "      <td>137.0</td>\n",
       "      <td>40.0</td>\n",
       "      <td>35.0</td>\n",
       "      <td>168.0</td>\n",
       "      <td>43.099998</td>\n",
       "      <td>0.356</td>\n",
       "      <td>33.0</td>\n",
       "      <td>1</td>\n",
       "    </tr>\n",
       "    <tr>\n",
       "      <th>...</th>\n",
       "      <td>...</td>\n",
       "      <td>...</td>\n",
       "      <td>...</td>\n",
       "      <td>...</td>\n",
       "      <td>...</td>\n",
       "      <td>...</td>\n",
       "      <td>...</td>\n",
       "      <td>...</td>\n",
       "      <td>...</td>\n",
       "    </tr>\n",
       "    <tr>\n",
       "      <th>763</th>\n",
       "      <td>10.0</td>\n",
       "      <td>101.0</td>\n",
       "      <td>76.0</td>\n",
       "      <td>48.0</td>\n",
       "      <td>180.0</td>\n",
       "      <td>32.900002</td>\n",
       "      <td>0.171</td>\n",
       "      <td>63.0</td>\n",
       "      <td>0</td>\n",
       "    </tr>\n",
       "    <tr>\n",
       "      <th>764</th>\n",
       "      <td>2.0</td>\n",
       "      <td>122.0</td>\n",
       "      <td>70.0</td>\n",
       "      <td>27.0</td>\n",
       "      <td>120.0</td>\n",
       "      <td>36.799999</td>\n",
       "      <td>0.340</td>\n",
       "      <td>27.0</td>\n",
       "      <td>0</td>\n",
       "    </tr>\n",
       "    <tr>\n",
       "      <th>765</th>\n",
       "      <td>5.0</td>\n",
       "      <td>121.0</td>\n",
       "      <td>72.0</td>\n",
       "      <td>23.0</td>\n",
       "      <td>112.0</td>\n",
       "      <td>26.200001</td>\n",
       "      <td>0.245</td>\n",
       "      <td>30.0</td>\n",
       "      <td>0</td>\n",
       "    </tr>\n",
       "    <tr>\n",
       "      <th>766</th>\n",
       "      <td>1.0</td>\n",
       "      <td>126.0</td>\n",
       "      <td>60.0</td>\n",
       "      <td>29.0</td>\n",
       "      <td>120.0</td>\n",
       "      <td>30.100000</td>\n",
       "      <td>0.349</td>\n",
       "      <td>47.0</td>\n",
       "      <td>1</td>\n",
       "    </tr>\n",
       "    <tr>\n",
       "      <th>767</th>\n",
       "      <td>1.0</td>\n",
       "      <td>93.0</td>\n",
       "      <td>70.0</td>\n",
       "      <td>31.0</td>\n",
       "      <td>120.0</td>\n",
       "      <td>30.400000</td>\n",
       "      <td>0.315</td>\n",
       "      <td>23.0</td>\n",
       "      <td>0</td>\n",
       "    </tr>\n",
       "  </tbody>\n",
       "</table>\n",
       "<p>768 rows × 9 columns</p>\n",
       "</div>"
      ],
      "text/plain": [
       "     Pregnancies  Glucose  BloodPressure  SkinThickness  Insulin        BMI  \\\n",
       "0            6.0    148.0           72.0           35.0    120.0  33.599998   \n",
       "1            1.0     85.0           66.0           29.0    120.0  26.600000   \n",
       "2            8.0    183.0           64.0           29.0    120.0  23.299999   \n",
       "3            1.0     89.0           66.0           23.0     94.0  28.100000   \n",
       "4            4.0    137.0           40.0           35.0    168.0  43.099998   \n",
       "..           ...      ...            ...            ...      ...        ...   \n",
       "763         10.0    101.0           76.0           48.0    180.0  32.900002   \n",
       "764          2.0    122.0           70.0           27.0    120.0  36.799999   \n",
       "765          5.0    121.0           72.0           23.0    112.0  26.200001   \n",
       "766          1.0    126.0           60.0           29.0    120.0  30.100000   \n",
       "767          1.0     93.0           70.0           31.0    120.0  30.400000   \n",
       "\n",
       "     DiabetesPedigreeFunction   Age  Outcome  \n",
       "0                       0.627  50.0        1  \n",
       "1                       0.351  31.0        0  \n",
       "2                       0.672  32.0        1  \n",
       "3                       0.167  21.0        0  \n",
       "4                       0.356  33.0        1  \n",
       "..                        ...   ...      ...  \n",
       "763                     0.171  63.0        0  \n",
       "764                     0.340  27.0        0  \n",
       "765                     0.245  30.0        0  \n",
       "766                     0.349  47.0        1  \n",
       "767                     0.315  23.0        0  \n",
       "\n",
       "[768 rows x 9 columns]"
      ]
     },
     "execution_count": 1348,
     "metadata": {},
     "output_type": "execute_result"
    }
   ],
   "source": [
    "df2"
   ]
  },
  {
   "cell_type": "code",
   "execution_count": 1349,
   "metadata": {},
   "outputs": [
    {
     "data": {
      "text/plain": [
       "((768, 9), (768, 9))"
      ]
     },
     "execution_count": 1349,
     "metadata": {},
     "output_type": "execute_result"
    }
   ],
   "source": [
    "df.shape, df2.shape"
   ]
  },
  {
   "cell_type": "code",
   "execution_count": 1350,
   "metadata": {},
   "outputs": [
    {
     "data": {
      "image/png": "[encoded data removed]",
      "text/plain": [
       "<Figure size 1600x600 with 2 Axes>"
      ]
     },
     "metadata": {},
     "output_type": "display_data"
    }
   ],
   "source": [
    "fig, axes = plt.subplots(nrows=1, ncols=2, figsize=(16, 6))\n",
    "\n",
    "# Original dataframe boxplot\n",
    "df[columns].boxplot(ax=axes[0])\n",
    "axes[0].set_title('Original dataframe boxplot')\n",
    "\n",
    "# Outlier removed dataframe boxplot\n",
    "df2[columns].boxplot(ax=axes[1])\n",
    "axes[1].set_title('Outlier removed dataframe boxplot')\n",
    "\n",
    "plt.tight_layout()\n",
    "plt.show()"
   ]
  },
  {
   "cell_type": "code",
   "execution_count": 1352,
   "metadata": {},
   "outputs": [
    {
     "data": {
      "text/plain": [
       "count    768.000000\n",
       "mean     126.075523\n",
       "std       51.909477\n",
       "min       14.000000\n",
       "25%      120.000000\n",
       "50%      120.000000\n",
       "75%      120.000000\n",
       "max      360.000000\n",
       "Name: Insulin, dtype: float64"
      ]
     },
     "execution_count": 1352,
     "metadata": {},
     "output_type": "execute_result"
    }
   ],
   "source": [
    "df2.Insulin.describe()"
   ]
  },
  {
   "cell_type": "markdown",
   "metadata": {},
   "source": [
    "The insulin feature seems to be highly concetrated around the value 120, and there are extreme values that pull the whiskers and make the plot look compressed."
   ]
  },
  {
   "cell_type": "code",
   "execution_count": 1087,
   "metadata": {},
   "outputs": [],
   "source": [
    "X = df2.drop('Outcome', axis=1)\n",
    "y = df2.Outcome"
   ]
  },
  {
   "cell_type": "code",
   "execution_count": 1088,
   "metadata": {},
   "outputs": [],
   "source": [
    "# Standardize the data\n",
    "scaler = StandardScaler()\n",
    "X = scaler.fit_transform(X)"
   ]
  },
  {
   "cell_type": "code",
   "execution_count": 1089,
   "metadata": {},
   "outputs": [
    {
     "data": {
      "text/plain": [
       "Outcome\n",
       "0    500\n",
       "1    268\n",
       "Name: count, dtype: int64"
      ]
     },
     "execution_count": 1089,
     "metadata": {},
     "output_type": "execute_result"
    }
   ],
   "source": [
    "y.value_counts()"
   ]
  },
  {
   "cell_type": "code",
   "execution_count": 1090,
   "metadata": {},
   "outputs": [
    {
     "data": {
      "text/plain": [
       "Outcome\n",
       "1    500\n",
       "0    500\n",
       "Name: count, dtype: int64"
      ]
     },
     "execution_count": 1090,
     "metadata": {},
     "output_type": "execute_result"
    }
   ],
   "source": [
    "# Oversample using SMOTE\n",
    "smote = SMOTE(random_state=42)\n",
    "X_resampled, y_resampled = smote.fit_resample(X, y)\n",
    "\n",
    "y_resampled.value_counts()"
   ]
  },
  {
   "cell_type": "code",
   "execution_count": 1091,
   "metadata": {},
   "outputs": [
    {
     "data": {
      "text/plain": [
       "((700, 8), (300, 8))"
      ]
     },
     "execution_count": 1091,
     "metadata": {},
     "output_type": "execute_result"
    }
   ],
   "source": [
    "# Split data based on the paper\n",
    "X_train, X_test, y_train, y_test = train_test_split(X_resampled, y_resampled, test_size=0.3, random_state=42)\n",
    "X_train.shape, X_test.shape"
   ]
  },
  {
   "cell_type": "markdown",
   "metadata": {},
   "source": [
    "I have used or tried to use the same preprocessing step as article."
   ]
  },
  {
   "cell_type": "markdown",
   "metadata": {},
   "source": [
    "# 1. Implement the paper ML based models\n",
    "They use DT, RF, SVM as base models. The base models are trained and each output their own prediction probability. These output then be fed into the meta learner or logistic regression to derive at the final output. The ensemble method is staking.\n",
    "\n",
    "I suppose they use hyperparameter tuning (include cross validation) to find the best model and combine them into the stacking model. \n",
    "\n",
    "Here is the output of their finding\n",
    "\n",
    "![picture](table4.png)\n",
    "\n",
    "## Random Forest"
   ]
  },
  {
   "cell_type": "markdown",
   "metadata": {},
   "source": [
    "### Train-test"
   ]
  },
  {
   "cell_type": "code",
   "execution_count": 1092,
   "metadata": {},
   "outputs": [
    {
     "name": "stdout",
     "output_type": "stream",
     "text": [
      "Test Accuracy: 78.33%\n",
      "Precision: 78.54%\n",
      "Recall: 78.33%\n",
      "F1-Score: 78.29%\n"
     ]
    }
   ],
   "source": [
    "rf = RandomForestClassifier(random_state=42)\n",
    "rf.fit(X_train, y_train)\n",
    "\n",
    "# y pred\n",
    "y_pred = rf.predict(X_test)\n",
    "accuracy = np.mean(y_pred == y_test) * 100\n",
    "print(f\"Test Accuracy: {accuracy:.2f}%\")\n",
    "\n",
    "# Classification report\n",
    "report = classification_report(y_test, y_pred, output_dict=True)\n",
    "\n",
    "precision = report['weighted avg']['precision'] * 100\n",
    "recall = report['weighted avg']['recall'] * 100\n",
    "f1_score = report['weighted avg']['f1-score'] * 100\n",
    "\n",
    "print(f\"Precision: {precision:.2f}%\")\n",
    "print(f\"Recall: {recall:.2f}%\")\n",
    "print(f\"F1-Score: {f1_score:.2f}%\")"
   ]
  },
  {
   "cell_type": "markdown",
   "metadata": {},
   "source": [
    "My stand alone RF performance has similar accuracy to the paper's stand alone RF. Only 1% difference, and I suspect this might be due to the randomness of splitting data."
   ]
  },
  {
   "cell_type": "markdown",
   "metadata": {},
   "source": [
    "### Cross-validation"
   ]
  },
  {
   "cell_type": "code",
   "execution_count": null,
   "metadata": {
    "execution": {
     "iopub.execute_input": "2024-10-02T02:57:18.240264Z",
     "iopub.status.busy": "2024-10-02T02:57:18.239881Z",
     "iopub.status.idle": "2024-10-02T03:05:56.831149Z",
     "shell.execute_reply": "2024-10-02T03:05:56.829890Z",
     "shell.execute_reply.started": "2024-10-02T02:57:18.240225Z"
    }
   },
   "outputs": [],
   "source": [
    "rf = RandomForestClassifier(random_state=42)\n",
    "\n",
    "# Ensure the data is in float32 format for cuML compatibility\n",
    "X_train = X_train.astype(cp.float32)\n",
    "X_test = X_test.astype(cp.float32)\n",
    "y_train = y_train.astype(cp.float32)\n",
    "y_test = y_test.astype(cp.float32)\n",
    "\n",
    "# Training\n",
    "param_grid = {\n",
    "    'n_estimators': np.arange(100, 500, 50),  # Explore values between 100 and 500, stepping by 50\n",
    "    'split_criterion': [0, 1],  # 0 = gini, 1 = entropy\n",
    "    'max_depth': np.arange(10, 50, 5),  # Range of tree depths from 5 to 50\n",
    "    'min_samples_split': np.arange(2, 20, 2),  # Minimum samples to split a node: 2 to 20, stepping by 2\n",
    "    'min_samples_leaf': np.arange(1, 10, 1)  # Minimum samples at a leaf node: 1 to 9\n",
    "}\n",
    "random_search = RandomizedSearchCV(estimator=rf, n_iter=100, param_distributions=param_grid, cv=5, random_state=42, n_jobs=-1)\n",
    "random_search.fit(X_train, y_train)\n",
    "\n",
    "# Best hyperparameter\n",
    "best_params = random_search.best_params_\n",
    "print(f\"Best parameters: {best_params}\")"
   ]
  },
  {
   "cell_type": "markdown",
   "metadata": {},
   "source": [
    "Best parameters: 'split_criterion': 1, 'n_estimators': 250, 'min_samples_split': 8, 'min_samples_leaf': 1, 'max_depth': 25"
   ]
  },
  {
   "cell_type": "code",
   "execution_count": 1093,
   "metadata": {},
   "outputs": [
    {
     "name": "stdout",
     "output_type": "stream",
     "text": [
      "Cross-validation accuracy: 0.8200 (± 0.0131)\n",
      "Test Accuracy: 78.33%\n",
      "Precision: 78.69%\n",
      "Recall: 78.33%\n",
      "F1-Score: 78.26%\n"
     ]
    }
   ],
   "source": [
    "# Best hyperparameter model\n",
    "rf = RandomForestClassifier(\n",
    "    max_depth = 25,\n",
    "    min_samples_leaf = 1,\n",
    "    min_samples_split = 8,\n",
    "    n_estimators = 250,\n",
    "    split_criterion = 1,\n",
    "    random_state = 42\n",
    ")\n",
    "cv_scores = cross_val_score(rf, X_train, y_train, cv=5, scoring='accuracy')\n",
    "print(f\"Cross-validation accuracy: {cv_scores.mean():.4f} (± {cv_scores.std():.4f})\")\n",
    "\n",
    "rf.fit(X_train, y_train)\n",
    "\n",
    "# y pred\n",
    "y_pred = rf.predict(X_test)\n",
    "accuracy = np.mean(y_pred == y_test) * 100\n",
    "print(f\"Test Accuracy: {accuracy:.2f}%\")\n",
    "\n",
    "# Classification report\n",
    "report = classification_report(y_test, y_pred, output_dict=True)\n",
    "\n",
    "precision = report['weighted avg']['precision'] * 100\n",
    "recall = report['weighted avg']['recall'] * 100\n",
    "f1_score = report['weighted avg']['f1-score'] * 100\n",
    "\n",
    "print(f\"Precision: {precision:.2f}%\")\n",
    "print(f\"Recall: {recall:.2f}%\")\n",
    "print(f\"F1-Score: {f1_score:.2f}%\")"
   ]
  },
  {
   "cell_type": "markdown",
   "metadata": {},
   "source": [
    "The cross validation and the default RF model is not much different. My cv model is a bit higher than the study, but again, its likely due to the randomness."
   ]
  },
  {
   "cell_type": "markdown",
   "metadata": {},
   "source": [
    "## Decision Tree\n"
   ]
  },
  {
   "cell_type": "markdown",
   "metadata": {},
   "source": [
    "### Train-set"
   ]
  },
  {
   "cell_type": "code",
   "execution_count": 1094,
   "metadata": {},
   "outputs": [
    {
     "name": "stdout",
     "output_type": "stream",
     "text": [
      "Test Accuracy: 71.33%\n",
      "Precision: 71.50%\n",
      "Recall: 71.33%\n",
      "F1-Score: 71.26%\n"
     ]
    }
   ],
   "source": [
    "clf=DecisionTreeClassifier(random_state=0)\n",
    "clf.fit(X_train,y_train)\n",
    "\n",
    "y_pred=clf.predict(X_test)\n",
    "accuracy = np.mean(y_pred == y_test) * 100\n",
    "print(f\"Test Accuracy: {accuracy:.2f}%\")\n",
    "\n",
    "# Classification report\n",
    "report = classification_report(y_test, y_pred, output_dict=True)\n",
    "\n",
    "precision = report['weighted avg']['precision'] * 100\n",
    "recall = report['weighted avg']['recall'] * 100\n",
    "f1_score = report['weighted avg']['f1-score'] * 100\n",
    "\n",
    "print(f\"Precision: {precision:.2f}%\")\n",
    "print(f\"Recall: {recall:.2f}%\")\n",
    "print(f\"F1-Score: {f1_score:.2f}%\")"
   ]
  },
  {
   "cell_type": "markdown",
   "metadata": {},
   "source": [
    "My stand alone DT is 6% higher than the study, which is a decent amout. I will run this with another random state to see if it was really due to randomness"
   ]
  },
  {
   "cell_type": "code",
   "execution_count": 1095,
   "metadata": {},
   "outputs": [
    {
     "name": "stdout",
     "output_type": "stream",
     "text": [
      "Test Accuracy: 71.33%\n",
      "Precision: 71.50%\n",
      "Recall: 71.33%\n",
      "F1-Score: 71.26%\n"
     ]
    }
   ],
   "source": [
    "clf=DecisionTreeClassifier(random_state=42)\n",
    "clf.fit(X_train,y_train)\n",
    "\n",
    "y_pred=clf.predict(X_test)\n",
    "accuracy = np.mean(y_pred == y_test) * 100\n",
    "print(f\"Test Accuracy: {accuracy:.2f}%\")\n",
    "\n",
    "# Classification report\n",
    "report = classification_report(y_test, y_pred, output_dict=True)\n",
    "\n",
    "precision = report['weighted avg']['precision'] * 100\n",
    "recall = report['weighted avg']['recall'] * 100\n",
    "f1_score = report['weighted avg']['f1-score'] * 100\n",
    "\n",
    "print(f\"Precision: {precision:.2f}%\")\n",
    "print(f\"Recall: {recall:.2f}%\")\n",
    "print(f\"F1-Score: {f1_score:.2f}%\")"
   ]
  },
  {
   "cell_type": "markdown",
   "metadata": {},
   "source": [
    "So it doesn't seem to be a randomness problem. My guess is that there are some different in the preprocessing step. I have read the dataset description and preprocessing (3.1 and 3.2) and implement based on the text, but there are still a decent different in the accuracy. Perhaps, in the outlier removing step, the boundary that consider which data is outlier is different. This might be the most logical explanation I can think of to explain the differences."
   ]
  },
  {
   "cell_type": "markdown",
   "metadata": {},
   "source": [
    "### Cross validation"
   ]
  },
  {
   "cell_type": "code",
   "execution_count": null,
   "metadata": {
    "execution": {
     "iopub.execute_input": "2024-10-02T03:05:58.929322Z",
     "iopub.status.busy": "2024-10-02T03:05:58.928978Z",
     "iopub.status.idle": "2024-10-02T03:07:21.578053Z",
     "shell.execute_reply": "2024-10-02T03:07:21.576987Z",
     "shell.execute_reply.started": "2024-10-02T03:05:58.929285Z"
    }
   },
   "outputs": [],
   "source": [
    "grid_param={\"criterion\":[\"gini\",\"entropy\"],\n",
    "             \"splitter\":[\"best\",\"random\"],\n",
    "             \"max_depth\":np.arange(10, 50, 5),\n",
    "             \"min_samples_leaf\":range(1,20,1),\n",
    "             \"min_samples_split\":range(2,20,1) \n",
    "            }\n",
    "grid_search=GridSearchCV(estimator=clf,param_grid=grid_param,cv=5,n_jobs=-1)\n",
    "grid_search.fit(X_train,y_train)\n",
    "print(grid_search.best_params_)"
   ]
  },
  {
   "cell_type": "code",
   "execution_count": 1096,
   "metadata": {},
   "outputs": [
    {
     "name": "stdout",
     "output_type": "stream",
     "text": [
      "Accuracy: 71.67%\n",
      "Precision: 71.67%\n",
      "Recall: 71.67%\n",
      "F1-Score: 71.66%\n"
     ]
    }
   ],
   "source": [
    "clf=DecisionTreeClassifier(criterion = 'entropy', max_depth = 10, min_samples_leaf = 19, min_samples_split = 2, splitter= 'best')\n",
    "clf.fit(X_train,y_train)\n",
    "y_predicted=clf.predict(X_test)\n",
    "\n",
    "# Classification report\n",
    "accuracy = accuracy_score(y_test,y_predicted) * 100\n",
    "print(f\"Accuracy: {accuracy:.2f}%\")\n",
    "\n",
    "report = classification_report(y_test, y_predicted, output_dict=True)\n",
    "\n",
    "precision = report['weighted avg']['precision'] * 100\n",
    "recall = report['weighted avg']['recall'] * 100\n",
    "f1_score = report['weighted avg']['f1-score'] * 100\n",
    "\n",
    "print(f\"Precision: {precision:.2f}%\")\n",
    "print(f\"Recall: {recall:.2f}%\")\n",
    "print(f\"F1-Score: {f1_score:.2f}%\")"
   ]
  },
  {
   "cell_type": "markdown",
   "metadata": {},
   "source": [
    "Not much different between my cv DT and stand alone DT. Mine DT seems to be higher than the study."
   ]
  },
  {
   "cell_type": "markdown",
   "metadata": {},
   "source": [
    "## SVM"
   ]
  },
  {
   "cell_type": "markdown",
   "metadata": {},
   "source": [
    "### Train set"
   ]
  },
  {
   "cell_type": "code",
   "execution_count": 1097,
   "metadata": {},
   "outputs": [
    {
     "name": "stdout",
     "output_type": "stream",
     "text": [
      "Accuracy: 79.33%\n",
      "Precision: 79.66%\n",
      "Recall: 79.33%\n",
      "F1-Score: 79.27%\n"
     ]
    }
   ],
   "source": [
    "svm = SVC()\n",
    "svm.fit(X_train, y_train)\n",
    "\n",
    "# Classification report\n",
    "y_pred = svm.predict(X_test)\n",
    "\n",
    "accuracy = accuracy_score(y_test,y_pred) * 100\n",
    "print(f\"Accuracy: {accuracy:.2f}%\")\n",
    "\n",
    "report = classification_report(y_test, y_pred, output_dict=True)\n",
    "\n",
    "precision = report['weighted avg']['precision'] * 100\n",
    "recall = report['weighted avg']['recall'] * 100\n",
    "f1_score = report['weighted avg']['f1-score'] * 100\n",
    "\n",
    "print(f\"Precision: {precision:.2f}%\")\n",
    "print(f\"Recall: {recall:.2f}%\")\n",
    "print(f\"F1-Score: {f1_score:.2f}%\")"
   ]
  },
  {
   "cell_type": "markdown",
   "metadata": {},
   "source": [
    "## Cross validation"
   ]
  },
  {
   "cell_type": "code",
   "execution_count": 1098,
   "metadata": {},
   "outputs": [
    {
     "name": "stdout",
     "output_type": "stream",
     "text": [
      "Best parameters: {'C': 2.1544346900318843, 'gamma': 'scale', 'kernel': 'rbf'}\n",
      "Test Accuracy: 0.8\n"
     ]
    }
   ],
   "source": [
    "# SVC model\n",
    "svm = SVC()\n",
    "\n",
    "# Grid search\n",
    "param_grid = {\n",
    "    'C': np.logspace(-3, 2, 10),\n",
    "    'kernel': ['rbf'],\n",
    "    'gamma': ['scale']\n",
    "}\n",
    "grid_search = GridSearchCV(svm, param_grid, cv=5)\n",
    "grid_search.fit(X_train, y_train)\n",
    "\n",
    "# Best hyperparameter\n",
    "best_params = grid_search.best_params_\n",
    "print(f\"Best parameters: {best_params}\")\n",
    "\n",
    "# Model accuracy\n",
    "best_model = grid_search.best_estimator_\n",
    "y_pred = best_model.predict(X_test)\n",
    "accuracy = np.mean(y_pred == y_test)\n",
    "print(f\"Test Accuracy: {accuracy}\")"
   ]
  },
  {
   "cell_type": "code",
   "execution_count": 1099,
   "metadata": {},
   "outputs": [
    {
     "name": "stdout",
     "output_type": "stream",
     "text": [
      "Test Accuracy: 80.00%\n",
      "Precision: 80.25%\n",
      "Recall: 80.00%\n",
      "F1-Score: 79.95%\n"
     ]
    }
   ],
   "source": [
    "# Classification report\n",
    "y_pred = best_model.predict(X_test)\n",
    "accuracy = np.mean(y_pred == y_test) * 100\n",
    "print(f\"Test Accuracy: {accuracy:.2f}%\")\n",
    "\n",
    "report = classification_report(y_test, y_pred, output_dict=True)\n",
    "\n",
    "precision = report['weighted avg']['precision'] * 100\n",
    "recall = report['weighted avg']['recall'] * 100\n",
    "f1_score = report['weighted avg']['f1-score'] * 100\n",
    "\n",
    "print(f\"Precision: {precision:.2f}%\")\n",
    "print(f\"Recall: {recall:.2f}%\")\n",
    "print(f\"F1-Score: {f1_score:.2f}%\")"
   ]
  },
  {
   "cell_type": "markdown",
   "metadata": {},
   "source": [
    "Similar to DT, my SVM (stand alone and cross validated) does a better job at classifiying than the research. "
   ]
  },
  {
   "cell_type": "markdown",
   "metadata": {},
   "source": [
    "## Stacking classifier"
   ]
  },
  {
   "cell_type": "markdown",
   "metadata": {},
   "source": [
    "### Train test"
   ]
  },
  {
   "cell_type": "code",
   "execution_count": 1100,
   "metadata": {},
   "outputs": [
    {
     "name": "stdout",
     "output_type": "stream",
     "text": [
      "[I] [13:42:49.288596] Unused keyword parameter: random_state during cuML estimator initialization\n",
      "Accuracy: 78.00%\n",
      "Precision: 78.39%\n",
      "Recall: 78.00%\n",
      "F1-Score: 77.91%\n"
     ]
    }
   ],
   "source": [
    "stacking_clf = StackingClassifier(\n",
    "    estimators=[\n",
    "        ('dt', DecisionTreeClassifier(random_state=42, criterion='gini', max_depth=10,\n",
    "                                     min_samples_leaf=6, min_samples_split=15, splitter='best')),\n",
    "        ('rf', RandomForestClassifier(random_state=42)),\n",
    "        ('svc', SVC(probability=True, C=2.1544346900318843,\n",
    "                   gamma='scale', kernel='rbf'))\n",
    "    ],\n",
    "    final_estimator=LogisticRegression(random_state=42),\n",
    ")\n",
    "stacking_clf.fit(X_train, y_train)\n",
    "\n",
    "# Classification report\n",
    "y_pred = stacking_clf.predict(X_test)\n",
    "\n",
    "accuracy = accuracy_score(y_test,y_pred) * 100\n",
    "print(f\"Accuracy: {accuracy:.2f}%\")\n",
    "\n",
    "report = classification_report(y_test, y_pred, output_dict=True)\n",
    "\n",
    "precision = report['weighted avg']['precision'] * 100\n",
    "recall = report['weighted avg']['recall'] * 100\n",
    "f1_score = report['weighted avg']['f1-score'] * 100\n",
    "\n",
    "print(f\"Precision: {precision:.2f}%\")\n",
    "print(f\"Recall: {recall:.2f}%\")\n",
    "print(f\"F1-Score: {f1_score:.2f}%\")"
   ]
  },
  {
   "cell_type": "markdown",
   "metadata": {},
   "source": [
    "### Cross validation"
   ]
  },
  {
   "cell_type": "code",
   "execution_count": 1101,
   "metadata": {},
   "outputs": [
    {
     "name": "stdout",
     "output_type": "stream",
     "text": [
      "[I] [13:42:56.555909] Unused keyword parameter: random_state during cuML estimator initialization\n",
      "Accuracy: 78.00%\n",
      "Precision: 78.39%\n",
      "Recall: 78.00%\n",
      "F1-Score: 77.91%\n"
     ]
    }
   ],
   "source": [
    "stacking_clf = StackingClassifier(\n",
    "    estimators=[\n",
    "        ('dt', DecisionTreeClassifier(random_state=42, criterion='gini', max_depth=10,\n",
    "                                     min_samples_leaf=6, min_samples_split=15, splitter='best')),\n",
    "        ('rf', RandomForestClassifier(random_state=42)),\n",
    "        ('svc', SVC(probability=True, C=2.1544346900318843,\n",
    "                   gamma='scale', kernel='rbf'))\n",
    "    ],\n",
    "    final_estimator=LogisticRegression(random_state=42),\n",
    "    cv=5\n",
    ")\n",
    "stacking_clf.fit(X_train, y_train)\n",
    "\n",
    "# Classification report\n",
    "y_pred = stacking_clf.predict(X_test)\n",
    "\n",
    "accuracy = accuracy_score(y_test,y_pred) * 100\n",
    "print(f\"Accuracy: {accuracy:.2f}%\")\n",
    "\n",
    "report = classification_report(y_test, y_pred, output_dict=True)\n",
    "\n",
    "precision = report['weighted avg']['precision'] * 100\n",
    "recall = report['weighted avg']['recall'] * 100\n",
    "f1_score = report['weighted avg']['f1-score'] * 100\n",
    "\n",
    "print(f\"Precision: {precision:.2f}%\")\n",
    "print(f\"Recall: {recall:.2f}%\")\n",
    "print(f\"F1-Score: {f1_score:.2f}%\")"
   ]
  },
  {
   "cell_type": "markdown",
   "metadata": {},
   "source": [
    "There doesn't seem to be any different between stand along and cross validating in stacking classifier. My stacking classifier does better prediction than the paper. The different is not much, but then again, this might be due to the combination of randomness and differences in the boundary of the outlier removal."
   ]
  },
  {
   "cell_type": "markdown",
   "metadata": {},
   "source": [
    "# 2. My solution to the problem"
   ]
  },
  {
   "cell_type": "markdown",
   "metadata": {},
   "source": [
    "## Data cleaning"
   ]
  },
  {
   "cell_type": "code",
   "execution_count": 1353,
   "metadata": {},
   "outputs": [
    {
     "data": {
      "text/html": [
       "<div>\n",
       "<style scoped>\n",
       "    .dataframe tbody tr th:only-of-type {\n",
       "        vertical-align: middle;\n",
       "    }\n",
       "\n",
       "    .dataframe tbody tr th {\n",
       "        vertical-align: top;\n",
       "    }\n",
       "\n",
       "    .dataframe thead th {\n",
       "        text-align: right;\n",
       "    }\n",
       "</style>\n",
       "<table border=\"1\" class=\"dataframe\">\n",
       "  <thead>\n",
       "    <tr style=\"text-align: right;\">\n",
       "      <th></th>\n",
       "      <th>Pregnancies</th>\n",
       "      <th>Glucose</th>\n",
       "      <th>BloodPressure</th>\n",
       "      <th>SkinThickness</th>\n",
       "      <th>Insulin</th>\n",
       "      <th>BMI</th>\n",
       "      <th>DiabetesPedigreeFunction</th>\n",
       "      <th>Age</th>\n",
       "      <th>Outcome</th>\n",
       "    </tr>\n",
       "  </thead>\n",
       "  <tbody>\n",
       "    <tr>\n",
       "      <th>0</th>\n",
       "      <td>6</td>\n",
       "      <td>148</td>\n",
       "      <td>72</td>\n",
       "      <td>35</td>\n",
       "      <td>0</td>\n",
       "      <td>33.6</td>\n",
       "      <td>0.627</td>\n",
       "      <td>50</td>\n",
       "      <td>1</td>\n",
       "    </tr>\n",
       "    <tr>\n",
       "      <th>1</th>\n",
       "      <td>1</td>\n",
       "      <td>85</td>\n",
       "      <td>66</td>\n",
       "      <td>29</td>\n",
       "      <td>0</td>\n",
       "      <td>26.6</td>\n",
       "      <td>0.351</td>\n",
       "      <td>31</td>\n",
       "      <td>0</td>\n",
       "    </tr>\n",
       "    <tr>\n",
       "      <th>2</th>\n",
       "      <td>8</td>\n",
       "      <td>183</td>\n",
       "      <td>64</td>\n",
       "      <td>0</td>\n",
       "      <td>0</td>\n",
       "      <td>23.3</td>\n",
       "      <td>0.672</td>\n",
       "      <td>32</td>\n",
       "      <td>1</td>\n",
       "    </tr>\n",
       "    <tr>\n",
       "      <th>3</th>\n",
       "      <td>1</td>\n",
       "      <td>89</td>\n",
       "      <td>66</td>\n",
       "      <td>23</td>\n",
       "      <td>94</td>\n",
       "      <td>28.1</td>\n",
       "      <td>0.167</td>\n",
       "      <td>21</td>\n",
       "      <td>0</td>\n",
       "    </tr>\n",
       "    <tr>\n",
       "      <th>4</th>\n",
       "      <td>0</td>\n",
       "      <td>137</td>\n",
       "      <td>40</td>\n",
       "      <td>35</td>\n",
       "      <td>168</td>\n",
       "      <td>43.1</td>\n",
       "      <td>2.288</td>\n",
       "      <td>33</td>\n",
       "      <td>1</td>\n",
       "    </tr>\n",
       "  </tbody>\n",
       "</table>\n",
       "</div>"
      ],
      "text/plain": [
       "   Pregnancies  Glucose  BloodPressure  SkinThickness  Insulin   BMI  \\\n",
       "0            6      148             72             35        0  33.6   \n",
       "1            1       85             66             29        0  26.6   \n",
       "2            8      183             64              0        0  23.3   \n",
       "3            1       89             66             23       94  28.1   \n",
       "4            0      137             40             35      168  43.1   \n",
       "\n",
       "   DiabetesPedigreeFunction  Age  Outcome  \n",
       "0                     0.627   50        1  \n",
       "1                     0.351   31        0  \n",
       "2                     0.672   32        1  \n",
       "3                     0.167   21        0  \n",
       "4                     2.288   33        1  "
      ]
     },
     "metadata": {},
     "output_type": "display_data"
    },
    {
     "name": "stdout",
     "output_type": "stream",
     "text": [
      "<class 'pandas.core.frame.DataFrame'>\n",
      "RangeIndex: 768 entries, 0 to 767\n",
      "Data columns (total 9 columns):\n",
      " #   Column                    Non-Null Count  Dtype  \n",
      "---  ------                    --------------  -----  \n",
      " 0   Pregnancies               768 non-null    int64  \n",
      " 1   Glucose                   768 non-null    int64  \n",
      " 2   BloodPressure             768 non-null    int64  \n",
      " 3   SkinThickness             768 non-null    int64  \n",
      " 4   Insulin                   768 non-null    int64  \n",
      " 5   BMI                       768 non-null    float64\n",
      " 6   DiabetesPedigreeFunction  768 non-null    float64\n",
      " 7   Age                       768 non-null    int64  \n",
      " 8   Outcome                   768 non-null    int64  \n",
      "dtypes: float64(2), int64(7)\n",
      "memory usage: 54.1 KB\n"
     ]
    },
    {
     "data": {
      "text/plain": [
       "None"
      ]
     },
     "metadata": {},
     "output_type": "display_data"
    }
   ],
   "source": [
    "df = pd.read_csv('diabetes.csv')\n",
    "display(df.head())\n",
    "display(df.info())"
   ]
  },
  {
   "cell_type": "code",
   "execution_count": 1354,
   "metadata": {},
   "outputs": [
    {
     "name": "stdout",
     "output_type": "stream",
     "text": [
      "<class 'pandas.core.frame.DataFrame'>\n",
      "RangeIndex: 768 entries, 0 to 767\n",
      "Data columns (total 9 columns):\n",
      " #   Column                    Non-Null Count  Dtype  \n",
      "---  ------                    --------------  -----  \n",
      " 0   Pregnancies               768 non-null    float32\n",
      " 1   Glucose                   768 non-null    float32\n",
      " 2   BloodPressure             768 non-null    float32\n",
      " 3   SkinThickness             768 non-null    float32\n",
      " 4   Insulin                   768 non-null    float32\n",
      " 5   BMI                       768 non-null    float32\n",
      " 6   DiabetesPedigreeFunction  768 non-null    float32\n",
      " 7   Age                       768 non-null    float32\n",
      " 8   Outcome                   768 non-null    int64  \n",
      "dtypes: float32(8), int64(1)\n",
      "memory usage: 30.1 KB\n"
     ]
    }
   ],
   "source": [
    "for column in df.columns:\n",
    "    if column != 'Outcome':\n",
    "        df[column] = df[column].astype('float32')\n",
    "df.info()"
   ]
  },
  {
   "cell_type": "markdown",
   "metadata": {},
   "source": [
    "They said that `Pregnancies` of 0 is not possible, but I just think that 0 means they have not been impregnated."
   ]
  },
  {
   "cell_type": "markdown",
   "metadata": {},
   "source": [
    "### Outliers removed"
   ]
  },
  {
   "cell_type": "code",
   "execution_count": 1355,
   "metadata": {},
   "outputs": [],
   "source": [
    "for column in df.columns:\n",
    "    if column not in ['Outcome', 'Pregnancies']:\n",
    "        df[column].replace(0, np.nan, inplace=True)"
   ]
  },
  {
   "cell_type": "code",
   "execution_count": 1356,
   "metadata": {},
   "outputs": [],
   "source": [
    "def detect_outliers_z_iqr(df: pd.DataFrame, columns: list[str]) -> pd.DataFrame:\n",
    "    \"\"\"\n",
    "    Detect outliers using both z-score and iqr\n",
    "    - df (pd.DataFrame): input df\n",
    "    - columns (list[str]): columns selected\n",
    "\n",
    "    Returns:\n",
    "    - pd.DataFrame: applied outlier detection df\n",
    "    \"\"\"\n",
    "    df_copy = df.copy()\n",
    "    for column in columns:\n",
    "        # Z-score method\n",
    "        z_scores = np.abs(stats.zscore(df_copy[column]))\n",
    "        z_outliers = z_scores > 3\n",
    "\n",
    "        # IQR method\n",
    "        Q1 = df_copy[column].quantile(0.25)\n",
    "        Q3 = df_copy[column].quantile(0.75)\n",
    "        IQR = Q3 - Q1\n",
    "        iqr_outliers = (df_copy[column] < (Q1 - 1.5 * IQR)) | (df_copy[column] > (Q3 + 1.5 * IQR))\n",
    "\n",
    "        # Combine both method, true if outlier is in either method\n",
    "        outliers = z_outliers | iqr_outliers\n",
    "        \n",
    "#         # Print debug info\n",
    "#         print(f\"Column: {column}\")\n",
    "#         print(f\"Z-score outliers: {df_copy[column][z_outliers].values}\")\n",
    "#         print(f\"IQR outliers: {df_copy[column][iqr_outliers].values}\")\n",
    "        \n",
    "        # Replace outlier with nan\n",
    "        df_copy.loc[outliers, column] = np.nan\n",
    "        \n",
    "    return df_copy"
   ]
  },
  {
   "cell_type": "code",
   "execution_count": 1357,
   "metadata": {},
   "outputs": [
    {
     "data": {
      "text/plain": [
       "Index(['Pregnancies', 'Glucose', 'BloodPressure', 'SkinThickness', 'Insulin',\n",
       "       'BMI', 'DiabetesPedigreeFunction', 'Age', 'Outcome'],\n",
       "      dtype='object')"
      ]
     },
     "execution_count": 1357,
     "metadata": {},
     "output_type": "execute_result"
    }
   ],
   "source": [
    "df.columns"
   ]
  },
  {
   "cell_type": "code",
   "execution_count": 1358,
   "metadata": {},
   "outputs": [],
   "source": [
    "columns = ['Pregnancies', 'Glucose', 'BloodPressure', 'SkinThickness', 'Insulin',\n",
    "       'BMI', 'DiabetesPedigreeFunction', 'Age']\n",
    "df2 = detect_outliers_z_iqr(df, columns)"
   ]
  },
  {
   "cell_type": "markdown",
   "metadata": {},
   "source": [
    "Clip `Insulin` to a reasonable range since I don't like extreme values."
   ]
  },
  {
   "cell_type": "code",
   "execution_count": 1359,
   "metadata": {},
   "outputs": [],
   "source": [
    "df2['Insulin'] = df['Insulin'].clip(upper=250.0)"
   ]
  },
  {
   "cell_type": "code",
   "execution_count": 1360,
   "metadata": {},
   "outputs": [],
   "source": [
    "# Replace NaN, inf, 0, and 0.0 values with the median for each column\n",
    "for column in columns:\n",
    "    median_value = df2[column].median() \n",
    "    df2[column].replace([np.nan, np.inf, -np.inf], median_value, inplace=True)"
   ]
  },
  {
   "cell_type": "markdown",
   "metadata": {},
   "source": [
    "#### Feature engineer"
   ]
  },
  {
   "cell_type": "code",
   "execution_count": 1361,
   "metadata": {},
   "outputs": [],
   "source": [
    "# Creating interaction features\n",
    "df2['Glucose_Insulin'] = df2['Glucose'] * df2['Insulin']\n",
    "df2['Glucose_Age'] = df2['Glucose'] * df2['Age']\n",
    "df2['SkinThickness_BMI'] = df2['SkinThickness'] * df2['BMI']\n",
    "df2['Glucose_BMI'] = df2['Glucose'] * df2['BMI']\n",
    "df2['Glucose_BloodPressure'] = df2['Glucose'] * df2['BloodPressure']\n",
    "df2['SkinThickness_BMI'] = df2['SkinThickness'] * df2['BMI']\n",
    "\n",
    "# Creating ratio features\n",
    "df2['Glucose_BMI_Ratio'] = df2['Glucose'] / df2['BMI']\n",
    "df2['BMI_squared_if_High_Glucose'] = np.where(df2['Glucose'] > 120, df2['BMI'] ** 2, df2['BMI'])"
   ]
  },
  {
   "cell_type": "markdown",
   "metadata": {},
   "source": [
    "### Oversample"
   ]
  },
  {
   "cell_type": "code",
   "execution_count": 1362,
   "metadata": {},
   "outputs": [],
   "source": [
    "X = df2.drop('Outcome', axis=1)\n",
    "y = df2.Outcome"
   ]
  },
  {
   "cell_type": "code",
   "execution_count": 1363,
   "metadata": {},
   "outputs": [
    {
     "data": {
      "text/plain": [
       "Outcome\n",
       "0    500\n",
       "1    268\n",
       "Name: count, dtype: int64"
      ]
     },
     "execution_count": 1363,
     "metadata": {},
     "output_type": "execute_result"
    }
   ],
   "source": [
    "y.value_counts()"
   ]
  },
  {
   "cell_type": "code",
   "execution_count": 1364,
   "metadata": {},
   "outputs": [
    {
     "data": {
      "text/plain": [
       "Index(['Pregnancies', 'Glucose', 'BloodPressure', 'SkinThickness', 'Insulin',\n",
       "       'BMI', 'DiabetesPedigreeFunction', 'Age', 'Glucose_Insulin',\n",
       "       'Glucose_Age', 'SkinThickness_BMI', 'Glucose_BMI',\n",
       "       'Glucose_BloodPressure', 'Glucose_BMI_Ratio',\n",
       "       'BMI_squared_if_High_Glucose'],\n",
       "      dtype='object')"
      ]
     },
     "execution_count": 1364,
     "metadata": {},
     "output_type": "execute_result"
    }
   ],
   "source": [
    "X.columns"
   ]
  },
  {
   "cell_type": "code",
   "execution_count": 1365,
   "metadata": {},
   "outputs": [],
   "source": [
    "X2 = X.drop(['BloodPressure', 'SkinThickness', 'Insulin'], axis=1)"
   ]
  },
  {
   "cell_type": "code",
   "execution_count": 1366,
   "metadata": {},
   "outputs": [
    {
     "data": {
      "text/plain": [
       "(1000, 12)"
      ]
     },
     "execution_count": 1366,
     "metadata": {},
     "output_type": "execute_result"
    }
   ],
   "source": [
    "# Apply oversampling\n",
    "ros = RandomOverSampler(sampling_strategy='auto', random_state=42)\n",
    "X_resampled, y_resampled = ros.fit_resample(X2, y)\n",
    "X_resampled.shape"
   ]
  },
  {
   "cell_type": "markdown",
   "metadata": {},
   "source": [
    "## Model training"
   ]
  },
  {
   "cell_type": "code",
   "execution_count": 1367,
   "metadata": {},
   "outputs": [
    {
     "data": {
      "text/plain": [
       "((700, 12), (300, 12))"
      ]
     },
     "execution_count": 1367,
     "metadata": {},
     "output_type": "execute_result"
    }
   ],
   "source": [
    "# Split data\n",
    "X_train, X_test, y_train, y_test = train_test_split(X_resampled, y_resampled, test_size=0.3, random_state=42)\n",
    "\n",
    "X_train = X_train.astype(cp.float32)\n",
    "X_test = X_test.astype(cp.float32)\n",
    "y_train = y_train.astype(cp.float32)\n",
    "y_test = y_test.astype(cp.float32)\n",
    "\n",
    "X_train.shape, X_test.shape"
   ]
  },
  {
   "cell_type": "markdown",
   "metadata": {},
   "source": [
    "### Random Forest"
   ]
  },
  {
   "cell_type": "code",
   "execution_count": 1369,
   "metadata": {},
   "outputs": [
    {
     "name": "stdout",
     "output_type": "stream",
     "text": [
      "Test Accuracy: 84.00%\n",
      "Precision: 84.60%\n",
      "Recall: 84.00%\n",
      "F1-Score: 83.92%\n"
     ]
    }
   ],
   "source": [
    "rf = sklearn.ensemble.RandomForestClassifier(random_state=42)\n",
    "rf.fit(X_train, y_train)\n",
    "\n",
    "# y pred\n",
    "y_pred = rf.predict(X_test)\n",
    "accuracy = np.mean(y_pred == y_test) * 100\n",
    "print(f\"Test Accuracy: {accuracy:.2f}%\")\n",
    "\n",
    "# Classification report\n",
    "report = classification_report(y_test, y_pred, output_dict=True)\n",
    "\n",
    "precision = report['weighted avg']['precision'] * 100\n",
    "recall = report['weighted avg']['recall'] * 100\n",
    "f1_score = report['weighted avg']['f1-score'] * 100\n",
    "\n",
    "print(f\"Precision: {precision:.2f}%\")\n",
    "print(f\"Recall: {recall:.2f}%\")\n",
    "print(f\"F1-Score: {f1_score:.2f}%\")"
   ]
  },
  {
   "cell_type": "code",
   "execution_count": 1371,
   "metadata": {},
   "outputs": [
    {
     "name": "stdout",
     "output_type": "stream",
     "text": [
      "              precision    recall  f1-score   support\n",
      "\n",
      "         0.0       0.89      0.77      0.83       149\n",
      "         1.0       0.80      0.91      0.85       151\n",
      "\n",
      "    accuracy                           0.84       300\n",
      "   macro avg       0.85      0.84      0.84       300\n",
      "weighted avg       0.85      0.84      0.84       300\n",
      "\n"
     ]
    }
   ],
   "source": [
    "report = classification_report(y_test, y_pred)\n",
    "print(report)"
   ]
  },
  {
   "cell_type": "markdown",
   "metadata": {},
   "source": [
    "### Gradient Boost"
   ]
  },
  {
   "cell_type": "code",
   "execution_count": 1373,
   "metadata": {},
   "outputs": [
    {
     "name": "stdout",
     "output_type": "stream",
     "text": [
      "Test Accuracy: 0.8433333039283752\n",
      "Precision: 85.15%\n",
      "Recall: 84.33%\n",
      "F1-Score: 84.23%\n"
     ]
    }
   ],
   "source": [
    "xgb = XGBClassifier(tree_method='gpu_hist')\n",
    "xgb.fit(X_train, y_train)\n",
    "\n",
    "# Predict on test set\n",
    "y_pred = xgb.predict(X_test)\n",
    "test_accuracy = accuracy_score(y_test, y_pred)\n",
    "print(f\"Test Accuracy: {test_accuracy}\")\n",
    "\n",
    "# Classification report\n",
    "report = classification_report(y_test, y_pred, output_dict=True)\n",
    "\n",
    "precision = report['weighted avg']['precision'] * 100\n",
    "recall = report['weighted avg']['recall'] * 100\n",
    "f1_score = report['weighted avg']['f1-score'] * 100\n",
    "\n",
    "print(f\"Precision: {precision:.2f}%\")\n",
    "print(f\"Recall: {recall:.2f}%\")\n",
    "print(f\"F1-Score: {f1_score:.2f}%\")"
   ]
  },
  {
   "cell_type": "code",
   "execution_count": 1374,
   "metadata": {},
   "outputs": [
    {
     "name": "stdout",
     "output_type": "stream",
     "text": [
      "              precision    recall  f1-score   support\n",
      "\n",
      "         0.0       0.90      0.77      0.83       149\n",
      "         1.0       0.80      0.92      0.86       151\n",
      "\n",
      "    accuracy                           0.84       300\n",
      "   macro avg       0.85      0.84      0.84       300\n",
      "weighted avg       0.85      0.84      0.84       300\n",
      "\n"
     ]
    }
   ],
   "source": [
    "report = classification_report(y_test, y_pred)\n",
    "print(report)"
   ]
  },
  {
   "cell_type": "code",
   "execution_count": 1375,
   "metadata": {},
   "outputs": [
    {
     "data": {
      "image/png": "[encoded data removed]",
      "text/plain": [
       "<Figure size 800x630 with 1 Axes>"
      ]
     },
     "metadata": {},
     "output_type": "display_data"
    }
   ],
   "source": [
    "explainer = shap.explainers.GPUTree(xgb, X_test.to_numpy())\n",
    "shap_values = explainer(X_test.to_numpy())\n",
    "shap_values = shap_values\n",
    "shap.summary_plot(shap_values, X_test, plot_type=\"bar\")"
   ]
  },
  {
   "cell_type": "markdown",
   "metadata": {},
   "source": [
    "### Stacking model"
   ]
  },
  {
   "cell_type": "code",
   "execution_count": 1376,
   "metadata": {},
   "outputs": [
    {
     "name": "stdout",
     "output_type": "stream",
     "text": [
      "[I] [18:09:34.274108] Unused keyword parameter: random_state during cuML estimator initialization\n",
      "Test Accuracy: 85.00%\n",
      "Precision: 85.44%\n",
      "Recall: 85.00%\n",
      "F1-Score: 84.95%\n"
     ]
    }
   ],
   "source": [
    "# Stacking model\n",
    "stacking_model = StackingClassifier(\n",
    "    estimators=[\n",
    "        ('rf', rf),\n",
    "        ('xgb', xgb),\n",
    "    ],\n",
    "    final_estimator=LogisticRegression(random_state=42),  # Meta-model\n",
    "    cv=5 \n",
    ")\n",
    "stacking_model.fit(X_train, y_train)\n",
    "\n",
    "# Y pred\n",
    "y_pred = stacking_model.predict(X_test)\n",
    "accuracy = np.mean(y_pred == y_test) * 100\n",
    "print(f\"Test Accuracy: {accuracy:.2f}%\")\n",
    "\n",
    "# Classification report\n",
    "report = classification_report(y_test, y_pred, output_dict=True)\n",
    "\n",
    "precision = report['weighted avg']['precision'] * 100\n",
    "recall = report['weighted avg']['recall'] * 100\n",
    "f1_score = report['weighted avg']['f1-score'] * 100\n",
    "\n",
    "print(f\"Precision: {precision:.2f}%\")\n",
    "print(f\"Recall: {recall:.2f}%\")\n",
    "print(f\"F1-Score: {f1_score:.2f}%\")"
   ]
  },
  {
   "cell_type": "code",
   "execution_count": 1377,
   "metadata": {},
   "outputs": [
    {
     "name": "stdout",
     "output_type": "stream",
     "text": [
      "              precision    recall  f1-score   support\n",
      "\n",
      "         0.0       0.89      0.79      0.84       149\n",
      "         1.0       0.82      0.91      0.86       151\n",
      "\n",
      "    accuracy                           0.85       300\n",
      "   macro avg       0.85      0.85      0.85       300\n",
      "weighted avg       0.85      0.85      0.85       300\n",
      "\n"
     ]
    }
   ],
   "source": [
    "report = classification_report(y_test, y_pred)\n",
    "print(report)"
   ]
  },
  {
   "cell_type": "markdown",
   "metadata": {},
   "source": [
    "### Hyperparameter tune model"
   ]
  },
  {
   "cell_type": "markdown",
   "metadata": {},
   "source": [
    "#### Random Forest"
   ]
  },
  {
   "cell_type": "code",
   "execution_count": 1334,
   "metadata": {},
   "outputs": [
    {
     "name": "stdout",
     "output_type": "stream",
     "text": [
      "Best parameters: {'split_criterion': 0, 'n_estimators': 200, 'min_samples_split': 4, 'min_samples_leaf': 1, 'max_depth': 20}\n"
     ]
    }
   ],
   "source": [
    "rf = RandomForestClassifier(random_state=42)\n",
    "\n",
    "# Training\n",
    "param_grid = {\n",
    "    'n_estimators': np.arange(100, 500, 50),  # Explore values between 100 and 500, stepping by 50\n",
    "    'split_criterion': [0, 1],  # 0 = gini, 1 = entropy\n",
    "    'max_depth': np.arange(10, 50, 5),  # Range of tree depths from 5 to 50\n",
    "    'min_samples_split': np.arange(2, 20, 2),  # Minimum samples to split a node: 2 to 20, stepping by 2\n",
    "    'min_samples_leaf': np.arange(1, 10, 1)  # Minimum samples at a leaf node: 1 to 9\n",
    "}\n",
    "random_search = RandomizedSearchCV(estimator=rf, n_iter=100, param_distributions=param_grid, cv=5, random_state=42, n_jobs=2)\n",
    "random_search.fit(X_train, y_train)\n",
    "\n",
    "# Best hyperparameter\n",
    "best_params = random_search.best_params_\n",
    "print(f\"Best parameters: {best_params}\")"
   ]
  },
  {
   "cell_type": "code",
   "execution_count": 1336,
   "metadata": {},
   "outputs": [
    {
     "name": "stdout",
     "output_type": "stream",
     "text": [
      "Test set accuracy: 0.8300\n"
     ]
    }
   ],
   "source": [
    "best_para = random_search.best_params_\n",
    "best_rf = RandomForestClassifier(**best_para, random_state=42)\n",
    "best_rf.fit(X_train, y_train)\n",
    "\n",
    "# y prediction\n",
    "y_pred = best_rf.predict(X_test)\n",
    "test_accuracy = accuracy_score(y_test, y_pred)\n",
    "print(f\"Test set accuracy: {test_accuracy:.4f}\")"
   ]
  },
  {
   "cell_type": "markdown",
   "metadata": {},
   "source": [
    "### Gradient Boost"
   ]
  },
  {
   "cell_type": "code",
   "execution_count": 1,
   "metadata": {
    "scrolled": true
   },
   "outputs": [],
   "source": [
    "xgb = XGBClassifier(tree_method='gpu_hist')\n",
    "\n",
    "# Define the expanded parameter grid\n",
    "param_dist = {\n",
    "    'learning_rate': [0.01, 0.05, 0.1, 0.15],\n",
    "    'n_estimators': [100, 200, 300, 400, 500],\n",
    "    'max_depth': [3, 6, 10, 15],\n",
    "    'subsample': [0.6, 0.8, 1],\n",
    "    'colsample_bytree': [0.6, 0.8, 1],\n",
    "    'min_child_weight': [1, 3, 5],\n",
    "    'gamma': [0, 0.1, 0.2, 0.3],\n",
    "    'reg_alpha': [0, 0.01, 0.05, 0.1],\n",
    "    'reg_lambda': [0.01, 0.05, 0.1, 0.5],\n",
    "}\n",
    "\n",
    "# Set up RandomizedSearchCV\n",
    "random_search = RandomizedSearchCV(\n",
    "    estimator=xgb,\n",
    "    param_distributions=param_dist,\n",
    "    scoring='accuracy',\n",
    "    cv=5,\n",
    "    n_iter=200, \n",
    "    n_jobs=2,\n",
    "    random_state=42\n",
    ")\n",
    "\n",
    "# Fit the model with early stopping\n",
    "random_search.fit(X_train, y_train, verbose=0)\n",
    "\n",
    "# Output best parameters and score\n",
    "print(\"Best Parameters:\", random_search.best_params_)\n",
    "print(\"Best Score:\", random_search.best_score_)"
   ]
  },
  {
   "cell_type": "markdown",
   "metadata": {},
   "source": [
    "Best Parameters: 'subsample': 0.8, 'reg_lambda': 0.5, 'reg_alpha': 0.01, 'n_estimators': 500, 'min_child_weight': 1, 'max_depth': 6, 'learning_rate': 0.05, 'gamma': 0.2, 'colsample_bytree': 0.6\n",
    "Best Score: 0.8371428571428572"
   ]
  },
  {
   "cell_type": "code",
   "execution_count": 1339,
   "metadata": {},
   "outputs": [
    {
     "name": "stdout",
     "output_type": "stream",
     "text": [
      "Test set accuracy: 0.8233\n"
     ]
    }
   ],
   "source": [
    "best_param = random_search.best_params_\n",
    "best_xgb = XGBClassifier(**best_param, tree_method='gpu_hist')\n",
    "best_xgb.fit(X_train, y_train)\n",
    "\n",
    "# y prediction\n",
    "y_pred = best_xgb.predict(X_test)\n",
    "test_accuracy = accuracy_score(y_test, y_pred)\n",
    "print(f\"Test set accuracy: {test_accuracy:.4f}\")"
   ]
  },
  {
   "cell_type": "markdown",
   "metadata": {},
   "source": [
    "Seems like hyperparameter tuning causes the tree models to overfit."
   ]
  },
  {
   "cell_type": "code",
   "execution_count": null,
   "metadata": {},
   "outputs": [],
   "source": []
  }
 ],
 "metadata": {
  "kaggle": {
   "accelerator": "tpu1vmV38",
   "dataSources": [
    {
     "datasetId": 228,
     "sourceId": 482,
     "sourceType": "datasetVersion"
    }
   ],
   "dockerImageVersionId": 30775,
   "isGpuEnabled": false,
   "isInternetEnabled": true,
   "language": "python",
   "sourceType": "notebook"
  },
  "kernelspec": {
   "display_name": "Python 3 (ipykernel)",
   "language": "python",
   "name": "python3"
  },
  "language_info": {
   "codemirror_mode": {
    "name": "ipython",
    "version": 3
   },
   "file_extension": ".py",
   "mimetype": "text/x-python",
   "name": "python",
   "nbconvert_exporter": "python",
   "pygments_lexer": "ipython3",
   "version": "3.11.5"
  }
 },
 "nbformat": 4,
 "nbformat_minor": 4
}
