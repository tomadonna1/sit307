{
 "cells": [
  {
   "cell_type": "markdown",
   "metadata": {},
   "source": [
    "# Supervised learning and Linear models\n",
    "I will cite external resources, Deakin resources will not be cited."
   ]
  },
  {
   "cell_type": "markdown",
   "metadata": {},
   "source": [
    "## Week 5: Fundamentals of supervised learning"
   ]
  },
  {
   "cell_type": "markdown",
   "metadata": {},
   "source": [
    "### 5.1 Regression"
   ]
  },
  {
   "cell_type": "markdown",
   "metadata": {},
   "source": [
    "#### 5.1.1 Concept\n",
    "The information below is from the Machine Learning Specialization (Ng, A., n.d.) course.\n",
    "\n",
    "Linear regression maps input data $\\mathbf{x}$ to labelled data $\\mathbf{y}$. The formula is:\n",
    "$$\n",
    "f_{\\mathbf{w}, b}(\\mathbf{x}) = \\mathbf{w}\\mathbf{x} + b\n",
    "$$\n",
    "\n",
    "Our goal is the find the best $w$ weights and $b$ bias. \n",
    "\n",
    "The cost function $J(\\mathbf{w},b)$ will help use choose the best weights and bias. To find the smallest cost, we need **gradient descent**. \n",
    "\n",
    "Note: $\\mathbf{w}$ is a vector or column matrix $\\mathbf{w} = \\begin{pmatrix}\n",
    "w_0 \\\\ \n",
    "w_1 \\\\\n",
    "\\cdots\\\\\n",
    "w_{n-1}\n",
    "\\end{pmatrix}$ and $b$ is a scalar."
   ]
  },
  {
   "cell_type": "markdown",
   "metadata": {},
   "source": [
    "##### Gradient Descent\n",
    "The cost function formula is\n",
    "$$J(\\mathbf{w},b) = \\frac{1}{2m} \\sum\\limits_{i = 0}^{m-1} (f_{\\mathbf{w},b}(\\mathbf{x}^{(i)}) - \\mathbf{y}^{(i)})^2 = J(\\mathbf{w},b) = \\frac{1}{2m} \\sum\\limits_{i = 0}^{m-1} (\\mathbf{w} \\cdot \\mathbf{x}^{(i)} + b - \\mathbf{y}^{(i)})^2$$\n",
    "\n",
    "where $\\mathbf{w}$ and $\\mathbf{x}^{(i)}$ are vectors rather than scalar or float to support multiple features; $m$ is the number of training data.\n",
    "\n",
    "Before I introduced to gradient descent, we need to compute the gradient, which is the final form of the partial derivative of weights and bias.\n",
    "$$\n",
    "\\begin{align}\n",
    "\\frac{\\partial J(\\mathbf{w},b)}{\\partial w_j}  &= \\frac{1}{m} \\sum\\limits_{i = 0}^{m-1} (f_{\\mathbf{w},b}(\\mathbf{x}^{(i)}) - y^{(i)})x_{j}^{(i)} = \\frac{1}{m} \\sum\\limits_{i = 0}^{m-1} (\\mathbf{x}^{(i) \\times} {\\mathbf{w}} + b - y^{(i)})x_{j}^{(i)} \\\\\n",
    "\\frac{\\partial J(\\mathbf{w},b)}{\\partial b}  &= \\frac{1}{m} \\sum\\limits_{i = 0}^{m-1} (f_{\\mathbf{w},b}(\\mathbf{x}^{(i)}) - y^{(i)}) = \\frac{1}{m} \\sum\\limits_{i = 0}^{m-1} (\\mathbf{x}^{(i)} \\times {\\mathbf{w}} + b - y^{(i)})\n",
    "\\end{align}\n",
    "$$\n",
    "* $m$ is the number of training examples in the data set\n",
    "* $\\mathbf{w}$ is weight vector\n",
    "* $\\mathbf{x}^{(i)}$ and $\\mathbf{y}^{(i)}$ are vectors as well\n",
    "\n",
    "So here is the formula for gradient descent\n",
    "$$\\begin{align*}& \\text{repeat until convergence:} \\; \\lbrace \\newline \\; & \\phantom {0000} b := b -  \\alpha \\frac{\\partial J(w,b)}{\\partial b} \\newline       \\; & \\phantom {0000} w := w -  \\alpha \\frac{\\partial J(w,b)}{\\partial w} \\tag{1}  \\; & \n",
    "\\newline & \\rbrace\\end{align*}$$\n",
    "\n",
    "where $\\alpha$ is the learning rate, determining how fast the gradient descent converge, or find the optimal parameters. We don't want to set it too high or too small, coz the model might not converge and converge very slowly (Ng, A., n.d.)."
   ]
  },
  {
   "cell_type": "markdown",
   "metadata": {},
   "source": [
    "#### 5.1.2 Metrics"
   ]
  },
  {
   "cell_type": "markdown",
   "metadata": {},
   "source": [
    "##### Mean Square Error\n",
    "This metric measures how close the predictions are to the true target values. Mean Square Error or MSE formula is:\n",
    "$$\n",
    "MSE = \\frac{1}{n}\\sum_{i=1}^n(\\mathbf{y}_i - \\mathbf{\\hat{y}}_i)^2\n",
    "$$"
   ]
  },
  {
   "cell_type": "code",
   "execution_count": 53,
   "metadata": {},
   "outputs": [
    {
     "data": {
      "text/plain": [
       "0.014776657456842828"
      ]
     },
     "execution_count": 53,
     "metadata": {},
     "output_type": "execute_result"
    }
   ],
   "source": [
    "def mse(predictions: np.ndarray, target_values: np.ndarray) -> float:\n",
    "    \"\"\"\n",
    "    Calculate the MSE between predictions and target values\n",
    "\n",
    "    Args:\n",
    "        prediction (np.ndarray): _description_\n",
    "        target_value (np.ndarray): _description_\n",
    "        \n",
    "    Returns:\n",
    "    float: mse\n",
    "    \"\"\"\n",
    "    mse = np.mean((predictions - target_values)**2)/len(predictions)\n",
    "    return mse\n",
    "\n",
    "mean_square_error = mse(result_df['prediction'], result_df['target_value'])\n",
    "mean_square_error"
   ]
  },
  {
   "cell_type": "code",
   "execution_count": 48,
   "metadata": {},
   "outputs": [
    {
     "data": {
      "text/html": [
       "<div>\n",
       "<style scoped>\n",
       "    .dataframe tbody tr th:only-of-type {\n",
       "        vertical-align: middle;\n",
       "    }\n",
       "\n",
       "    .dataframe tbody tr th {\n",
       "        vertical-align: top;\n",
       "    }\n",
       "\n",
       "    .dataframe thead th {\n",
       "        text-align: right;\n",
       "    }\n",
       "</style>\n",
       "<table border=\"1\" class=\"dataframe\">\n",
       "  <thead>\n",
       "    <tr style=\"text-align: right;\">\n",
       "      <th></th>\n",
       "      <th>TV</th>\n",
       "      <th>Radio</th>\n",
       "      <th>Newspaper</th>\n",
       "      <th>Sales</th>\n",
       "    </tr>\n",
       "  </thead>\n",
       "  <tbody>\n",
       "    <tr>\n",
       "      <th>count</th>\n",
       "      <td>200.000000</td>\n",
       "      <td>200.000000</td>\n",
       "      <td>200.000000</td>\n",
       "      <td>200.000000</td>\n",
       "    </tr>\n",
       "    <tr>\n",
       "      <th>mean</th>\n",
       "      <td>147.042500</td>\n",
       "      <td>23.264000</td>\n",
       "      <td>30.554000</td>\n",
       "      <td>15.130500</td>\n",
       "    </tr>\n",
       "    <tr>\n",
       "      <th>std</th>\n",
       "      <td>85.854236</td>\n",
       "      <td>14.846809</td>\n",
       "      <td>21.778621</td>\n",
       "      <td>5.283892</td>\n",
       "    </tr>\n",
       "    <tr>\n",
       "      <th>min</th>\n",
       "      <td>0.700000</td>\n",
       "      <td>0.000000</td>\n",
       "      <td>0.300000</td>\n",
       "      <td>1.600000</td>\n",
       "    </tr>\n",
       "    <tr>\n",
       "      <th>25%</th>\n",
       "      <td>74.375000</td>\n",
       "      <td>9.975000</td>\n",
       "      <td>12.750000</td>\n",
       "      <td>11.000000</td>\n",
       "    </tr>\n",
       "    <tr>\n",
       "      <th>50%</th>\n",
       "      <td>149.750000</td>\n",
       "      <td>22.900000</td>\n",
       "      <td>25.750000</td>\n",
       "      <td>16.000000</td>\n",
       "    </tr>\n",
       "    <tr>\n",
       "      <th>75%</th>\n",
       "      <td>218.825000</td>\n",
       "      <td>36.525000</td>\n",
       "      <td>45.100000</td>\n",
       "      <td>19.050000</td>\n",
       "    </tr>\n",
       "    <tr>\n",
       "      <th>max</th>\n",
       "      <td>296.400000</td>\n",
       "      <td>49.600000</td>\n",
       "      <td>114.000000</td>\n",
       "      <td>27.000000</td>\n",
       "    </tr>\n",
       "  </tbody>\n",
       "</table>\n",
       "</div>"
      ],
      "text/plain": [
       "               TV       Radio   Newspaper       Sales\n",
       "count  200.000000  200.000000  200.000000  200.000000\n",
       "mean   147.042500   23.264000   30.554000   15.130500\n",
       "std     85.854236   14.846809   21.778621    5.283892\n",
       "min      0.700000    0.000000    0.300000    1.600000\n",
       "25%     74.375000    9.975000   12.750000   11.000000\n",
       "50%    149.750000   22.900000   25.750000   16.000000\n",
       "75%    218.825000   36.525000   45.100000   19.050000\n",
       "max    296.400000   49.600000  114.000000   27.000000"
      ]
     },
     "execution_count": 48,
     "metadata": {},
     "output_type": "execute_result"
    }
   ],
   "source": [
    "df.describe()"
   ]
  },
  {
   "cell_type": "markdown",
   "metadata": {},
   "source": [
    "So the Sales is in the range of 1.6 to 27 (measures thousands of units), with an std of 5.28. The mse (the average of the squared difference between the actual and predicted sales) of our model is 0.01477. This means that the mse is relatively small compared to the overall variance in the sales."
   ]
  },
  {
   "cell_type": "markdown",
   "metadata": {},
   "source": [
    "##### RMSE (Root Mean Square Error)\n",
    "Root Mean Square Error derive from MSE and its computed as:\n",
    "$$\n",
    "RMSE = \\sqrt{MSE}\n",
    "$$"
   ]
  },
  {
   "cell_type": "code",
   "execution_count": 55,
   "metadata": {},
   "outputs": [
    {
     "data": {
      "text/plain": [
       "0.12155927548666465"
      ]
     },
     "execution_count": 55,
     "metadata": {},
     "output_type": "execute_result"
    }
   ],
   "source": [
    "rmse = np.sqrt(mean_square_error)\n",
    "rmse"
   ]
  },
  {
   "cell_type": "markdown",
   "metadata": {},
   "source": [
    "RMSE of 0.12 shows on average, the model's predictions are off by 1.12 thousand units in sales."
   ]
  },
  {
   "cell_type": "markdown",
   "metadata": {},
   "source": [
    "##### MAE (Mean Absolute Error)\n",
    "Mean Absolute Error is similar to MSE and RMSE, a popular metric that is robust to outliers. The formula is\n",
    "$$\n",
    "MAE = \\frac{1}{n}\\sum_{i=1}^n|\\mathbf{y}_i - \\mathbf{\\hat{y}}_i|\n",
    "$$"
   ]
  },
  {
   "cell_type": "code",
   "execution_count": 58,
   "metadata": {},
   "outputs": [
    {
     "data": {
      "text/plain": [
       "0.01655921894249485"
      ]
     },
     "execution_count": 58,
     "metadata": {},
     "output_type": "execute_result"
    }
   ],
   "source": [
    "def mae(predictions: np.ndarray, target_values: np.ndarray) -> float:\n",
    "    \"\"\"\n",
    "    Calculate the MSE between predictions and target values\n",
    "\n",
    "    Args:\n",
    "        prediction (np.ndarray): _description_\n",
    "        target_value (np.ndarray): _description_\n",
    "        \n",
    "    Returns:\n",
    "    float: mae\n",
    "    \"\"\"\n",
    "    mae = (1/len(predictions)) * np.sum((predictions - target_values))\n",
    "    return mae\n",
    "     \n",
    "    \n",
    "mae(result_df['prediction'], result_df['target_value'])"
   ]
  },
  {
   "cell_type": "markdown",
   "metadata": {},
   "source": [
    "0.02 MAE, very small, which shows our model is performing very well."
   ]
  },
  {
   "cell_type": "markdown",
   "metadata": {},
   "source": [
    "##### Explained Variance ($R^2$)\n",
    "Explained Variance, R-square, the coefficient of determination, is just the measure of the percentage of target variation that is explained by the model. In other words, it is the square correlation between the target values and the predicted target values.\n",
    "$$\n",
    "R^2 = \\frac{\\text{Variance Explained by the model}}{\\text{Total Variance}}\n",
    "$$\n",
    "Unlike the other metrics, the higher the $R^2$, the better the model performance."
   ]
  },
  {
   "cell_type": "code",
   "execution_count": 59,
   "metadata": {},
   "outputs": [
    {
     "data": {
      "text/plain": [
       "0.9231773833754602"
      ]
     },
     "execution_count": 59,
     "metadata": {},
     "output_type": "execute_result"
    }
   ],
   "source": [
    "def r_squared(predictions: np.ndarray, target_values: np.ndarray) -> float:\n",
    "    \"\"\"\n",
    "    Calculate the R-squared between predictions and target values.\n",
    "\n",
    "    Args:\n",
    "        predictions (np.ndarray): Predicted values.\n",
    "        target_values (np.ndarray): Actual target values.\n",
    "        \n",
    "    Returns:\n",
    "    float: R-squared value.\n",
    "    \"\"\"\n",
    "    ss_total = np.sum((target_values - np.mean(target_value))**2)\n",
    "    ss_residual = np.sum((target_values - predictions)**2)\n",
    "    r2 = 1 - (ss_residual / ss_total)\n",
    "    return r2\n",
    "\n",
    "r_squared(result_df['prediction'], result_df['target_value'])"
   ]
  },
  {
   "cell_type": "markdown",
   "metadata": {},
   "source": [
    "Our model gives a $R^2$ value of 0.923 which is very high."
   ]
  },
  {
   "cell_type": "markdown",
   "metadata": {},
   "source": [
    "### 5.2 Classification\n",
    "Classification is similar to regression, but instead of predicting continuous data, it predict discrete data.\n",
    "\n",
    "There are 2 types of classification: binary and multi-class. In binary classification, we introduce a function called sigmoid function. The formula for sigmoid function is\n",
    "$$ f_{\\mathbf{w},b}(x) = g(\\mathbf{w}\\cdot \\mathbf{x} + b)$$\n",
    "The formula is not much different from regression formula, with the addition of $g$ which is the sigmoid function. The point of the sigmoid function is to transform the continuous output in a range between 0 and 1. The sigmoid function is defined as:\n",
    "$$g(\\mathbf{w}\\cdot \\mathbf{x} + b) = g(z) = \\frac{1}{1+e^{-z}}$$\n",
    "\n",
    "The cost function for binary classification is called log-loss, unlike square error from regression. It is defined as:\n",
    "$$ J(\\mathbf{w},b) = \\frac{1}{m}\\sum_{i=0}^{m-1} \\left[ loss(f_{\\mathbf{w},b}(\\mathbf{x}^{(i)}), y^{(i)}) \\right] $$\n",
    "where\n",
    "- $m$ is the number of training data\n",
    "- $loss(f_{\\mathbf{w},b}(\\mathbf{x}^{(i)}), y^{(i)})$ or $loss(-y^{(i)} \\log\\left(f_{\\mathbf{w},b}\\left( \\mathbf{x}^{(i)} \\right) \\right) - \\left( 1 - y^{(i)}\\right) \\log \\left( 1 - f_{\\mathbf{w},b}\\left( \\mathbf{x}^{(i)} \\right) \\right)$ is the cost for a single data point.\n",
    "    - Recall that $f_{\\mathbf{w},b}(\\mathbf{x}^{(i)})$ is $g(z)$ or model's prediction, and $y^{(i)}$ is the labels.\n",
    "\n",
    "Just remember that lower log loss means the model performs better.\n",
    "\n",
    "The iteration of gradient descent is similar to Linear Regression. The output of Logistic Regression is in probability, we can set if $f(x^{(i)}) >= 0.5$, predict $y^{(i)}=1$, if $f(x^{(i)}) < 0.5$, predict $y^{(i)}=0$."
   ]
  },
  {
   "cell_type": "markdown",
   "metadata": {},
   "source": [
    "#### 5.2.2 Metrics"
   ]
  },
  {
   "cell_type": "markdown",
   "metadata": {},
   "source": [
    "##### Confusion matrix\n",
    "Confusion matrix summarizes the prediction results via the number of correct and incorrect predictions with count values of each class."
   ]
  },
  {
   "cell_type": "code",
   "execution_count": 137,
   "metadata": {},
   "outputs": [
    {
     "data": {
      "text/plain": [
       "array([[116,   9],\n",
       "       [ 26,  41]], dtype=int64)"
      ]
     },
     "execution_count": 137,
     "metadata": {},
     "output_type": "execute_result"
    }
   ],
   "source": [
    "from sklearn.metrics import confusion_matrix\n",
    "confusion_matrix(y_test,y_pred)"
   ]
  },
  {
   "cell_type": "markdown",
   "metadata": {},
   "source": [
    "Confusion matrix provides real performance of a classifier because it shows us the correct and incorrect count values of each label, meaning if our dataset is unbalanced, we will know that, unlike with accuracy where we do not know whether our data is unbalanced or not.\n",
    "\n",
    "Here is what the output mean:\n",
    "- The <span style=\"color:red\">diagonal values</span> represent the elements where the **predicted classes** = **actual classes**.\n",
    "- The <span style=\"color:red\">off-diagonal values</span> represent wrong predictions.\n",
    "\n",
    "![picture](1.png){width=550 height=300}\n",
    "\n",
    "This picture shows the concept clearly, with **positive class** as **class 1** and **negative class** as **class 0**. There a few formulas derived from this.\n",
    "\n",
    "- **Accuracy**: like I said already, accuracy is not useful for imbalance class problems, and we may need to use other metrics, but its a start.\n",
    "$$\n",
    "\\text{accuracy} = \\frac{TP + TN}{TP + FP + FN + TN}\n",
    "$$\n",
    "\n",
    "- **True Positive Rate** (TPR) or Recall or Sensitivity: correctly predicted positive. In other words, the fraction of TP over amount of positive samples (TP + FN).\n",
    "$$\n",
    "\\text{recall} = \\frac{TP}{TP + FN}\n",
    "$$\n",
    "\n",
    "- **False positive rate** (FPR): wrongly predicted positive. In other words, the fraction of FP over the amount of negative sample (FP + TN).\n",
    "$$\n",
    "\\text{FPR} = \\frac{FP}{FP + TN}\n",
    "$$\n",
    "\n",
    "An article on DataCamp from Navlani, A. (2019) provides us with more metrics.\n",
    "\n",
    "- **Precision**: ratio of correctly predicted positive or TP over the total predicted positives (TP + FP).\n",
    "$$\n",
    "\\text{Precision} = \\frac{TP}{TP + FP}\n",
    "$$\n",
    "\n",
    "- **F1**: combine precision and recall into a single metric, useful when class distribution is imbalanced. \n",
    "$$\n",
    "\\text{F1-Score} = 2 \\times \\frac{\\text{Precision} \\times \\text{Recall}}{\\text{Precision} + \\text{Recall}}\n",
    "$$\n",
    "\n",
    "- **Support**: the number of actual occurrences of each class in the dataset."
   ]
  },
  {
   "cell_type": "code",
   "execution_count": 143,
   "metadata": {},
   "outputs": [
    {
     "name": "stdout",
     "output_type": "stream",
     "text": [
      "              precision    recall  f1-score   support\n",
      "\n",
      " no diabetes       0.82      0.93      0.87       125\n",
      "    diabetes       0.82      0.61      0.70        67\n",
      "\n",
      "    accuracy                           0.82       192\n",
      "   macro avg       0.82      0.77      0.78       192\n",
      "weighted avg       0.82      0.82      0.81       192\n",
      "\n"
     ]
    }
   ],
   "source": [
    "from sklearn.metrics import classification_report\n",
    "print(classification_report(y_test, y_pred, target_names=['no diabetes', 'diabetes']))"
   ]
  },
  {
   "cell_type": "markdown",
   "metadata": {},
   "source": [
    "This shows us that \n",
    "- The model perform well with 0.82 accuracy.\n",
    "- The model does better at predicting \"no diabetes\" (high recall of 0.93) compare to \"diabetes\" cases (lower recall of 0.61).\n",
    "- F1-score of 0.7 for \"diabetes\" meaning the model performance for this label is weaker, which can be a concern if correctly identifying diabetes is crucial."
   ]
  },
  {
   "cell_type": "markdown",
   "metadata": {},
   "source": [
    "##### ROC curve\n",
    "Receiver Operating Characteristic (ROC) curve is a plot that plot the TPR again the FPR. It shows us the trade-offs between benefits (TP) and costs (FP). This depends on the problem we are trying to solve, like how much can we afford FPR (Navlani, 2019)."
   ]
  },
  {
   "cell_type": "code",
   "execution_count": 150,
   "metadata": {},
   "outputs": [
    {
     "data": {
      "image/png": "[encoded data removed]",
      "text/plain": [
       "<Figure size 640x480 with 1 Axes>"
      ]
     },
     "metadata": {},
     "output_type": "display_data"
    }
   ],
   "source": [
    "from sklearn import metrics\n",
    "fpr, tpr, _ = metrics.roc_curve(y_test, y_pred_proba)\n",
    "auc = metrics.roc_auc_score(y_test, y_pred_proba)\n",
    "plt.plot(fpr,tpr,label=\"data 1, auc=\"+str(auc))\n",
    "plt.legend(loc=4)\n",
    "plt.show()"
   ]
  },
  {
   "cell_type": "markdown",
   "metadata": {},
   "source": [
    "An auc score of 0.874 out of 1 indicate a good performance. If an auc score is 0.5, meaning it is no different from random guessing."
   ]
  },
  {
   "cell_type": "markdown",
   "metadata": {},
   "source": [
    "### 5.3 Partitioning the data \n",
    "There are limitation of only using 1 single training set, here are 3 better ways to split our data."
   ]
  },
  {
   "cell_type": "markdown",
   "metadata": {},
   "source": [
    "#### Sub-sampling\n",
    "Random sub-sampling repeatedly partitions the data into random training and test sets in a specified ratio.\n",
    "\n",
    "![picture](2.png){width=550 height=300}\n",
    "\n",
    "The figure shows us that we train the model with each training set and estimate the accuracy using the corresponding test set. Finally, we average the accuracies to get an averaged estimate."
   ]
  },
  {
   "cell_type": "markdown",
   "metadata": {},
   "source": [
    "#### Stratified Sampling\n",
    "A splitting technique that ensures each class (or stratum) in the dataset is proportionate in both training and testing sets. In other words, the distribution of classes in training and testing sets mirrors the distribution of the original dataset. This technique is useful in imbalanced dataset. \n",
    "\n",
    "![picture](3.png){width=550 height=300}"
   ]
  },
  {
   "cell_type": "markdown",
   "metadata": {},
   "source": [
    "#### Cross-validation\n",
    "Cross-validation is one of the most popular splitting technique. The core idea is to partition the data into $k$ equal sized sub-samples. It is an iterative process where we leave one sub-sample out for the test set, and train on the rest of the sub-samples. \n",
    "\n",
    "![picture](4.png){width=550 height=300}\n",
    "\n",
    "The picture shows us that we divide our data into 5 partitions. The first iteration trains on $s_2, s_3, s_4, s_5$ and test on $s_1$. The second iteration trains on $s_1, s_3, s_4, s_5$ and test on $s_2$. The same goes for 3 other iterations. After 5 iterations is completed, we take the average accuracy of the 5 times we test. "
   ]
  },
  {
   "cell_type": "markdown",
   "metadata": {},
   "source": [
    "### 5.4 Finding the best hyperparameters\n",
    "![picture](5.png){width=550 height=400}\n",
    "\n",
    "The validation set is used to evaluate the given model and help fine-tune the model hyperparameters. The validation part is part of the training process, there are $3$ methods that automatically split our training data further into training data to train the given model, and validating data to validate and help choose the best hyperparmeters. \n",
    "\n",
    "Note that the following methods can include internal cross-validation. Instead of train/test cross-validate, we cross-validate the train/validate set.  "
   ]
  },
  {
   "cell_type": "markdown",
   "metadata": {},
   "source": [
    "#### Exhaustive Search Methods\n",
    "- **Grid Search**: the possible values of hyperparameters are defined in a few sets. These sets are then combined bia Cartesian product to form a multidimensional grid. Then we will try all the parameters in the grid to find the best ones. \n",
    "- **Random Search**: a variant of grid search where we try random points instead of all.\n",
    "\n",
    "Although this algorithms run parallel and easy to implement. There are a few drawback:\n",
    "- It can take lots of time and computational power if the hyperparameter search space is large.\n",
    "- There is not guarantee of finding the local maxima. "
   ]
  },
  {
   "cell_type": "markdown",
   "metadata": {},
   "source": [
    "#### Bayesian Optimization\n",
    "Banerjee, P. (n.d.) on Kaggle provides the information for Bayesian Optimization.\n",
    "\n",
    "Bayesian Optimization is a probabilistic model that yields better performance and requires less time than Grid Search. The model focuses of past evaluations when choosing the optimal set of hyperparameters, for that it is less time consuming. \n",
    "\n",
    "##### Bayesian Optimization Method\n",
    "Bayesian Optimization is called Sequential **Model-Based Optimization (SMBO)**, where it builds a surrogate function that evaluates the input values based on expected improvement while focuses values that perform well in the past, and excludes poorer ones. \n",
    "\n",
    "There are several libraries support Bayesian optimization, like Spearmint (uses Gaussian Process surrogate), SMAC (uses Random Forest Regression), Hyperopt (uses Tree Parzen Estimator)."
   ]
  },
  {
   "cell_type": "markdown",
   "metadata": {},
   "source": [
    "### 5.5 Imbalance dataset\n",
    "For classification dataset, there one label might have too many data while the other not so much. The machine learning models work best when the labels are roughly the same.\n",
    "\n",
    "The issues with imbalanced dataset can be:\n",
    "- Since the test data contains a few sample of the minority class, even a dumb classifier can get high accuracy. But this problem can be solved with other evaluation metrics.\n",
    "- When random subsampling, the class proportion might not be maintained, but this can be solved via Stratified Sampling."
   ]
  },
  {
   "cell_type": "markdown",
   "metadata": {},
   "source": [
    "#### Solutions\n",
    "We have 2 approaches, either to modify the data or improve the algorithm. \n",
    "##### Data level\n",
    "- **Oversampling** the data from minority class\n",
    "- **Undersampling** the data from majority class\n",
    "##### Algorithmic level\n",
    "- adjusting the costs\n",
    "- adjusting the decision threshold"
   ]
  },
  {
   "cell_type": "markdown",
   "metadata": {},
   "source": [
    "## Week 6: Linear model"
   ]
  },
  {
   "cell_type": "markdown",
   "metadata": {},
   "source": [
    "### 6.1 Kernel trick and non-linear SVM \n",
    "![picture](6.png){width=700 height=250}\n",
    "\n",
    "Sometimes, by transforming data points that are not linearly separate into a higher dimension, those data might be linearly separable. \n",
    "\n",
    "The information below is from Wilimitis, D. (2019).\n",
    "#### Intro to Support Vector Classification (SVC)\n",
    "SVC goal is to maximize the margin (the distance separating the closest pair of data points belonging to different classes). Those data points are called support vectors because they \"support\" the decision boundary. The decision boundary is the *optimal separating hyperplane*.\n",
    "\n",
    "![picture](7.png){width=500 height=500}\n",
    "\n",
    "#### The Kernel Trick\n",
    "To apply to SVC, our data needs to be linear to be separated, that is where the Kernel Trick comes in, where it projects the original non-linear data into higher dimension space where data may become linearly separable. This concept will be cover more in the next week."
   ]
  },
  {
   "cell_type": "markdown",
   "metadata": {},
   "source": [
    "### 6.2 Model complexity\n",
    "Since I have already gone over the linear regression and logistic regression in week 5, I won't go over it again (the mathematical concept) in week 6.\n",
    "\n",
    "Model complexity is the measure of how complex our model is.\n",
    "Under-fitting means that our model is very simple. Over-fitting means our model is too complex and learn the noise of our data.\n",
    "\n",
    "![picture](9.png){width=700 height=500}\n",
    "\n",
    "This picture provides a good diagnose on the complexity of our model. The main thing we need to focus on is the train error and cross validation error. Our goal is to find the sweet spot where Risk = bias + variance + noise is the minimum.\n",
    "\n",
    "Here are a few steps to try to find that sweet spot.\n",
    "\n",
    "So we know that bias means underfit, variance means overfit, noise is the Irreducible error inherent in the data. The first thing we need to do is to choose a model family, like decision tree or neural network. Then we use k-fold cross-validation and calculate the model's error, which includes bias and variance components. Then we plot the bias-variance validation.\n",
    "- **Training error**: typically decrease with model's complexity (lower bias, higher variance).\n",
    "- **Validation error**: decreases initially but increase as the model becomes overfit (higher variance).\n",
    "\n",
    "The sweet spot is where the validation error is minimized.\n",
    "\n",
    "If our model is too complex, we can use **Regularisation** to control the model complexity. "
   ]
  },
  {
   "cell_type": "markdown",
   "metadata": {},
   "source": [
    "### 6.3 Regularised linear models\n",
    "Regulariser is addition term of the loss function to avoid overfitting. It does not allow regression coefficients (or weights) to take excessively large value. The formula will now become:\n",
    "$$\n",
    "\\text{minimize } \\frac{1}{n}\\sum_{i=1}^{n} L(y_i, \\mathbf{x}^T_i\\mathbf{w}) + \\lambda \\text{Regulariser}(\\mathbf{w})\n",
    "$$\n",
    "\n",
    "There are 2 things we want our model to discourage. One is **high weights** because one small change in those features can lead to large changes in the prediction. Second is **irrelevant features**, so we want to discard those features.\n",
    "\n",
    "There are 2 options.\n",
    "- **Option 1** ($l_1$-norm): this option encourages 0 weights, this means discarding irrelevant data. \n",
    "$$\n",
    "\\text{Regulariser}(\\mathbf{w}) = \\sum_j |w_j| = ||\\mathbf{w}||_1\n",
    "$$\n",
    "\n",
    "- **Option 2** ($l_2$-norm): penalises large weights\n",
    "$$\n",
    "\\text{Regulariser}(\\mathbf{w}) = \\sum_j |w_j|^2 = ||\\mathbf{w}||_2\n",
    "$$\n",
    "\n",
    "These 2 options are part of L1 and L2 methods.\n",
    "\n",
    "1. **L1 Regularisation (LASSO)**\n",
    "\n",
    "This is a regression analysis that shrinks some coefficient to zero to discard them.\n",
    "$$\n",
    "\\text{minimize } \\frac{1}{n}\\sum_{i=1}^{n} L(y_i, \\mathbf{x}^T_i\\mathbf{w}) + \\lambda_1 ||\\mathbf{w}||_1\n",
    "$$\n",
    "\n",
    "2. **L2 Regularisation (Ridge)**\n",
    "\n",
    "This is a regression analysis that prevents overfitting by shrinking coefficients but don't remove them.\n",
    "\n",
    "$$\n",
    "\\text{minimize } \\frac{1}{n}\\sum_{i=1}^{n} L(y_i, \\mathbf{x}^T_i\\mathbf{w}) + \\lambda_2 ||\\mathbf{w}||_2\n",
    "$$\n",
    "\n",
    "Ridge is a special case of **Elastic Net** where $\\lambda_1 = \\lambda_2 =0$.\n",
    "\n",
    "Elastic Net combines both LASSO and Ridge where it overcomes the LASSO's limit of selecting at most $n$ variables before it saturates. The formula for Elastic Net is:\n",
    "$$\n",
    "\\text{minimize } \\frac{1}{n}\\sum_{i=1}^{n} L(y_i, \\mathbf{x}^T_i\\mathbf{w}) + \\lambda_1 ||\\mathbf{w}||_1 + \\lambda_2 ||\\mathbf{w}||_2\n",
    "$$\n",
    "\n",
    "The effect of Regularisation increases biases and reduces variance helps us choose the right trade-off, or the sweet spot where the validation error is minimized."
   ]
  },
  {
   "cell_type": "markdown",
   "metadata": {},
   "source": [
    "### 6.4 Feature selection with Regularised linear models\n",
    "Lasso and Ridge are regularization techniques for learn models, and not applicable for non-linear model, though the concept of regularization can be extended to non-linear models. "
   ]
  },
  {
   "cell_type": "markdown",
   "metadata": {},
   "source": [
    "## Quiz\n",
    "<img src=\"quiz1.png\" width=\"700\" height=\"500\" alt=\"picture\">\n",
    "\n",
    "<img src=\"quiz2.png\" width=\"700\" height=\"500\" alt=\"picture\">"
   ]
  },
  {
   "cell_type": "markdown",
   "metadata": {},
   "source": [
    "## Reflection\n",
    "Week 5, 6 have taught me the basic of supervised learning that is linear regression and logistic regression. It also shows me techniques to split data, metrics to test model, and how to diagnose the model."
   ]
  },
  {
   "cell_type": "markdown",
   "metadata": {},
   "source": [
    "## References\n",
    "GeeksforGeeks (2024). Dataset for Linear Regression. [online] GeeksforGeeks. Available at: https://www.geeksforgeeks.org/dataset-for-linear-regression/ [Accessed 16 Aug. 2024].\n",
    "\n",
    "Ng, A. (n.d.). Machine Learning Specialization. [online] DeepLearning.AI. Available at: https://www.deeplearning.ai/courses/machine-learning-specialization/.\n",
    "\n",
    "Kaggle (n.d.). Pima Indians Diabetes Database. [online] www.kaggle.com. Available at: https://www.kaggle.com/datasets/uciml/pima-indians-diabetes-database.\n",
    "\n",
    "Navlani, A. (2019). Python Logistic Regression Tutorial with Sklearn & Scikit. [online] www.datacamp.com. Available at: https://www.datacamp.com/tutorial/understanding-logistic-regression-python.\n",
    "\n",
    "Banerjee, P. (n.d.). Bayesian Optimization using Hyperopt. [online] kaggle.com. Available at: https://www.kaggle.com/code/prashant111/bayesian-optimization-using-hyperopt/notebook.\n",
    "\n",
    "Wilimitis, D. (2019). The Kernel Trick. [online] Medium. Available at: https://towardsdatascience.com/the-kernel-trick-c98cdbcaeb3f.\n",
    "\n",
    "Bhavesh Bhatt (2020). Kernel Trick in Support Vector Machine (SVM). [online] YouTube. Available at: https://www.youtube.com/watch?v=aglNRO18R7g [Accessed 21 Aug. 2024]."
   ]
  }
 ],
 "metadata": {
  "kernelspec": {
   "display_name": "Python 3 (ipykernel)",
   "language": "python",
   "name": "python3"
  },
  "language_info": {
   "codemirror_mode": {
    "name": "ipython",
    "version": 3
   },
   "file_extension": ".py",
   "mimetype": "text/x-python",
   "name": "python",
   "nbconvert_exporter": "python",
   "pygments_lexer": "ipython3",
   "version": "3.11.5"
  }
 },
 "nbformat": 4,
 "nbformat_minor": 4
}
