{
 "cells": [
  {
   "cell_type": "markdown",
   "metadata": {},
   "source": [
    "# Supervised learning and Linear models\n",
    "I will cite external resources, Deakin resources will not be cited."
   ]
  },
  {
   "cell_type": "markdown",
   "metadata": {},
   "source": [
    "## Week 5: Fundamentals of supervised learning"
   ]
  },
  {
   "cell_type": "markdown",
   "metadata": {},
   "source": [
    "### 5.1 Regression"
   ]
  },
  {
   "cell_type": "markdown",
   "metadata": {},
   "source": [
    "#### 5.1.1 Concept\n",
    "The information below is from the Machine Learning Specialization (Ng, A., n.d.) course.\n",
    "\n",
    "Linear regression maps input data $\\mathbf{x}$ to labelled data $\\mathbf{y}$. The formula is:\n",
    "$$\n",
    "f_{\\mathbf{w}, b}(\\mathbf{x}) = \\mathbf{w}\\mathbf{x} + b\n",
    "$$\n",
    "\n",
    "Our goal is the find the best $w$ weights and $b$ bias. \n",
    "\n",
    "The cost function $J(\\mathbf{w},b)$ will help use choose the best weights and bias. To find the smallest cost, we need **gradient descent**. \n",
    "\n",
    "Note: $\\mathbf{w}$ is a vector or column matrix $\\mathbf{w} = \\begin{pmatrix}\n",
    "w_0 \\\\ \n",
    "w_1 \\\\\n",
    "\\cdots\\\\\n",
    "w_{n-1}\n",
    "\\end{pmatrix}$ and $b$ is a scalar."
   ]
  },
  {
   "cell_type": "markdown",
   "metadata": {},
   "source": [
    "##### Gradient Descent\n",
    "The cost function formula is\n",
    "$$J(\\mathbf{w},b) = \\frac{1}{2m} \\sum\\limits_{i = 0}^{m-1} (f_{\\mathbf{w},b}(\\mathbf{x}^{(i)}) - \\mathbf{y}^{(i)})^2 = J(\\mathbf{w},b) = \\frac{1}{2m} \\sum\\limits_{i = 0}^{m-1} (\\mathbf{w} \\cdot \\mathbf{x}^{(i)} + b - \\mathbf{y}^{(i)})^2$$\n",
    "\n",
    "where $\\mathbf{w}$ and $\\mathbf{x}^{(i)}$ are vectors rather than scalar or float to support multiple features; $m$ is the number of training data.\n",
    "\n",
    "Before I introduced to gradient descent, we need to compute the gradient, which is the final form of the partial derivative of weights and bias.\n",
    "$$\n",
    "\\begin{align}\n",
    "\\frac{\\partial J(\\mathbf{w},b)}{\\partial w_j}  &= \\frac{1}{m} \\sum\\limits_{i = 0}^{m-1} (f_{\\mathbf{w},b}(\\mathbf{x}^{(i)}) - y^{(i)})x_{j}^{(i)} = \\frac{1}{m} \\sum\\limits_{i = 0}^{m-1} (\\mathbf{x}^{(i) \\times} {\\mathbf{w}} + b - y^{(i)})x_{j}^{(i)} \\\\\n",
    "\\frac{\\partial J(\\mathbf{w},b)}{\\partial b}  &= \\frac{1}{m} \\sum\\limits_{i = 0}^{m-1} (f_{\\mathbf{w},b}(\\mathbf{x}^{(i)}) - y^{(i)}) = \\frac{1}{m} \\sum\\limits_{i = 0}^{m-1} (\\mathbf{x}^{(i)} \\times {\\mathbf{w}} + b - y^{(i)})\n",
    "\\end{align}\n",
    "$$\n",
    "* $m$ is the number of training examples in the data set\n",
    "* $\\mathbf{w}$ is weight vector\n",
    "* $\\mathbf{x}^{(i)}$ and $\\mathbf{y}^{(i)}$ are vectors as well\n",
    "\n",
    "So here is the formula for gradient descent\n",
    "$$\\begin{align*}& \\text{repeat until convergence:} \\; \\lbrace \\newline \\; & \\phantom {0000} b := b -  \\alpha \\frac{\\partial J(w,b)}{\\partial b} \\newline       \\; & \\phantom {0000} w := w -  \\alpha \\frac{\\partial J(w,b)}{\\partial w} \\tag{1}  \\; & \n",
    "\\newline & \\rbrace\\end{align*}$$\n",
    "\n",
    "where $\\alpha$ is the learning rate, determining how fast the gradient descent converge, or find the optimal parameters. We don't want to set it too high or too small, coz the model might not converge and converge very slowly (Ng, A., n.d.)."
   ]
  },
  {
   "cell_type": "markdown",
   "metadata": {},
   "source": [
    "The following dataset is from GeeksforGeeks (2024). It is an advertising dataset where the input are the advertising budget spent on TV, radio, and newspaper; the output is sales of the product in thousands of units."
   ]
  },
  {
   "cell_type": "code",
   "execution_count": 1,
   "metadata": {},
   "outputs": [],
   "source": [
    "import pandas as pd\n",
    "import numpy as np\n",
    "import matplotlib.pyplot as plt\n",
    "import math\n",
    "from sklearn.preprocessing import QuantileTransformer"
   ]
  },
  {
   "cell_type": "code",
   "execution_count": 21,
   "metadata": {},
   "outputs": [
    {
     "data": {
      "text/html": [
       "<div>\n",
       "<style scoped>\n",
       "    .dataframe tbody tr th:only-of-type {\n",
       "        vertical-align: middle;\n",
       "    }\n",
       "\n",
       "    .dataframe tbody tr th {\n",
       "        vertical-align: top;\n",
       "    }\n",
       "\n",
       "    .dataframe thead th {\n",
       "        text-align: right;\n",
       "    }\n",
       "</style>\n",
       "<table border=\"1\" class=\"dataframe\">\n",
       "  <thead>\n",
       "    <tr style=\"text-align: right;\">\n",
       "      <th></th>\n",
       "      <th>TV</th>\n",
       "      <th>Radio</th>\n",
       "      <th>Newspaper</th>\n",
       "      <th>Sales</th>\n",
       "    </tr>\n",
       "  </thead>\n",
       "  <tbody>\n",
       "    <tr>\n",
       "      <th>0</th>\n",
       "      <td>230.1</td>\n",
       "      <td>37.8</td>\n",
       "      <td>69.2</td>\n",
       "      <td>22.1</td>\n",
       "    </tr>\n",
       "    <tr>\n",
       "      <th>1</th>\n",
       "      <td>44.5</td>\n",
       "      <td>39.3</td>\n",
       "      <td>45.1</td>\n",
       "      <td>10.4</td>\n",
       "    </tr>\n",
       "    <tr>\n",
       "      <th>2</th>\n",
       "      <td>17.2</td>\n",
       "      <td>45.9</td>\n",
       "      <td>69.3</td>\n",
       "      <td>12.0</td>\n",
       "    </tr>\n",
       "    <tr>\n",
       "      <th>3</th>\n",
       "      <td>151.5</td>\n",
       "      <td>41.3</td>\n",
       "      <td>58.5</td>\n",
       "      <td>16.5</td>\n",
       "    </tr>\n",
       "    <tr>\n",
       "      <th>4</th>\n",
       "      <td>180.8</td>\n",
       "      <td>10.8</td>\n",
       "      <td>58.4</td>\n",
       "      <td>17.9</td>\n",
       "    </tr>\n",
       "  </tbody>\n",
       "</table>\n",
       "</div>"
      ],
      "text/plain": [
       "      TV  Radio  Newspaper  Sales\n",
       "0  230.1   37.8       69.2   22.1\n",
       "1   44.5   39.3       45.1   10.4\n",
       "2   17.2   45.9       69.3   12.0\n",
       "3  151.5   41.3       58.5   16.5\n",
       "4  180.8   10.8       58.4   17.9"
      ]
     },
     "execution_count": 21,
     "metadata": {},
     "output_type": "execute_result"
    }
   ],
   "source": [
    "df = pd.read_csv('advertising.csv')\n",
    "df.head()"
   ]
  },
  {
   "cell_type": "code",
   "execution_count": 22,
   "metadata": {},
   "outputs": [],
   "source": [
    "# Split the dataset\n",
    "X = df.drop(['Sales'],axis=1)\n",
    "Y = df['Sales']\n",
    "Y = Y.to_numpy()"
   ]
  },
  {
   "cell_type": "code",
   "execution_count": 23,
   "metadata": {},
   "outputs": [
    {
     "name": "stderr",
     "output_type": "stream",
     "text": [
      "c:\\Users\\tomde\\AppData\\Local\\Programs\\Python\\Python311\\Lib\\site-packages\\sklearn\\preprocessing\\_data.py:2762: UserWarning: n_quantiles (1000) is greater than the total number of samples (200). n_quantiles is set to n_samples.\n",
      "  warnings.warn(\n"
     ]
    }
   ],
   "source": [
    "# Initialize QuantileTransformer\n",
    "quantile_transformer = QuantileTransformer()\n",
    "\n",
    "# Fit the scaling to the X\n",
    "X_scaled = quantile_transformer.fit_transform(X)"
   ]
  },
  {
   "cell_type": "markdown",
   "metadata": {},
   "source": [
    "##### Init weights and bias"
   ]
  },
  {
   "cell_type": "code",
   "execution_count": 31,
   "metadata": {},
   "outputs": [
    {
     "name": "stdout",
     "output_type": "stream",
     "text": [
      "Initial weights: [0. 0. 0.]\n",
      "Initial bias: 0.0\n"
     ]
    }
   ],
   "source": [
    "n = X_scaled.shape[1] # number of features\n",
    "\n",
    "# Init weights and bias\n",
    "w_init = np.zeros(n)\n",
    "b_init = 0.0\n",
    "\n",
    "print(\"Initial weights:\", w_init)\n",
    "print(\"Initial bias:\", b_init) "
   ]
  },
  {
   "cell_type": "markdown",
   "metadata": {},
   "source": [
    "##### Compute the cost function\n",
    "$$J(\\mathbf{w},b) = \\frac{1}{2m} \\sum\\limits_{i = 0}^{m-1} (\\mathbf{w} \\cdot \\mathbf{x}^{(i)} + b - \\mathbf{y}^{(i)})^2$$"
   ]
  },
  {
   "cell_type": "code",
   "execution_count": 25,
   "metadata": {},
   "outputs": [],
   "source": [
    "def compute_cost(X: np.ndarray, y: np.ndarray, w: np.ndarray, b: float) -> float:\n",
    "    \"\"\"_summary_\n",
    "\n",
    "    Args:\n",
    "        X (np.ndarray, (m,n)): training data, m rows with n columns\n",
    "        y (np.ndarray (m,)): Target values\n",
    "        w (np.ndarray (n,)): weights\n",
    "        b (float): bias\n",
    "\n",
    "    Returns:\n",
    "        cost (float): cost function\n",
    "    \"\"\"\n",
    "    \n",
    "    m = X.shape[0]\n",
    "    cost = (1/(2*m)) * np.sum((X @ w + b - y)**2) # Remember the dot product rule where (m,n) @ (n,)\n",
    "    return cost"
   ]
  },
  {
   "cell_type": "code",
   "execution_count": 32,
   "metadata": {},
   "outputs": [
    {
     "data": {
      "text/plain": [
       "128.355975"
      ]
     },
     "execution_count": 32,
     "metadata": {},
     "output_type": "execute_result"
    }
   ],
   "source": [
    "compute_cost(X_scaled, Y, w_init, b_init)"
   ]
  },
  {
   "cell_type": "markdown",
   "metadata": {},
   "source": [
    "##### Compute the gradient\n",
    "\n",
    "$$\n",
    "\\begin{align}\n",
    "\\frac{\\partial J(\\mathbf{w},b)}{\\partial w_j}  = \\frac{1}{m} \\sum\\limits_{i = 0}^{m-1} (\\mathbf{x}^{(i) \\times} {\\mathbf{w}} + b - y^{(i)})x_{j}^{(i)} \\\\\n",
    "\\frac{\\partial J(\\mathbf{w},b)}{\\partial b}  = \\frac{1}{m} \\sum\\limits_{i = 0}^{m-1} (\\mathbf{x}^{(i)} \\times {\\mathbf{w}} + b - y^{(i)})\n",
    "\\end{align}\n",
    "$$\n",
    "* $m$ is the number of training examples in the data set\n",
    "* $\\mathbf{w}$ is weight vector\n",
    "* $\\mathbf{x}^{(i)}$ and $\\mathbf{y}^{(i)}$ are vectors as well"
   ]
  },
  {
   "cell_type": "code",
   "execution_count": 27,
   "metadata": {},
   "outputs": [],
   "source": [
    "def compute_gradient(X: np.ndarray, Y: np.ndarray, w: np.ndarray, b: float) -> dict:\n",
    "    \"\"\"_summary_\n",
    "\n",
    "    Args:\n",
    "        X (np.ndarray (m,n)): training data, m rows with n columns\n",
    "        Y (np.ndarray): target values\n",
    "        w (np.ndarray): weights\n",
    "        b (float): bias\n",
    "\n",
    "    Returns:\n",
    "        dict: dictionary of dJdw and dJdb\n",
    "    \"\"\"\n",
    "    # The calculation for dJdw doesn't use `np.sum()` because we are calculating each element of vector 'x'with the corresponding `w`\n",
    "    dJdw = (1/len(X)) * ((X @ w + b - Y) @ X)\n",
    "    \n",
    "    dJdb = (1/len(Y)) * np.sum(X @ w + b - Y)\n",
    "    \n",
    "    return {'dJdw': dJdw, 'dJdb': dJdb}"
   ]
  },
  {
   "cell_type": "code",
   "execution_count": 33,
   "metadata": {},
   "outputs": [
    {
     "data": {
      "text/plain": [
       "{'dJdw': array([-8.93399372, -8.10509045, -7.78792148]),\n",
       " 'dJdb': -15.130500000000001}"
      ]
     },
     "execution_count": 33,
     "metadata": {},
     "output_type": "execute_result"
    }
   ],
   "source": [
    "compute_gradient(X_scaled, Y, w_init, b_init)"
   ]
  },
  {
   "cell_type": "markdown",
   "metadata": {},
   "source": [
    "##### Perform gradient descent\n",
    "$$\\begin{align*} \\text{repeat}&\\text{ until convergence:} \\; \\lbrace \\newline\\;\n",
    "& w_j = w_j -  \\alpha \\frac{\\partial J(\\mathbf{w},b)}{\\partial w_j} \\tag{5}  \\; & \\text{for j = 0..n-1}\\newline\n",
    "&b\\ \\ = b -  \\alpha \\frac{\\partial J(\\mathbf{w},b)}{\\partial b}  \\newline \\rbrace\n",
    "\\end{align*}$$"
   ]
  },
  {
   "cell_type": "code",
   "execution_count": 35,
   "metadata": {},
   "outputs": [],
   "source": [
    "def gradient_descent(X: np.ndarray, y: np.ndarray, w: np.ndarray, b: float, cost_function: float, gradient_function: dict, learning_rate=0.05, num_iters=1000) -> list:\n",
    "    \"\"\"\n",
    "    Perform batch gradient descent to optimize `w` and `b`\n",
    "\n",
    "    Args:\n",
    "        X (np.ndarray (m,n)): training data, m rows and n columns\n",
    "        y (np.ndarray (m,)): target values\n",
    "        w (np.ndarray (n,)): init weights\n",
    "        b (float): init bias \n",
    "        cost_function (float): 'compute_cost' function or the cost function\n",
    "        gradient_function (dict): 'compute_gradient' function, or the gradient function\n",
    "        learning_rate (float, optional): learning rate. Defaults to 0.05.\n",
    "        num_iters (int, optional): number of iterations. Defaults to 1000.\n",
    "\n",
    "    Returns:\n",
    "        list: list of weights, bias, and J_history\n",
    "    \"\"\"\n",
    "    \n",
    "    J_history = [] # list to store cost function of each iteration\n",
    "    \n",
    "    for i in range(num_iters):\n",
    "        # Get the derivatives from 'compute_gradient'\n",
    "        dj_db = gradient_function(X, y, w, b)['dJdb']\n",
    "        dj_dw = gradient_function(X, y, w, b)['dJdw']\n",
    "        \n",
    "        # Update the parameters\n",
    "        b = b - learning_rate * dj_db\n",
    "        w = w - learning_rate * dj_dw\n",
    "        \n",
    "        # Save the cost function after each iterations\n",
    "        if i < 100000:      # prevent resource exhaustion \n",
    "            J_history.append(cost_function(X, y, w, b))\n",
    "            \n",
    "        # Print the cost at 10 interval\n",
    "        if i% math.ceil(num_iters / 10) == 0:\n",
    "            print(f\"Iteration {i:4d}: Cost {J_history[-1]:8.2f}\")\n",
    "            \n",
    "    return w, b, J_history #return final w,b and J history for graphing"
   ]
  },
  {
   "cell_type": "code",
   "execution_count": 36,
   "metadata": {},
   "outputs": [
    {
     "name": "stdout",
     "output_type": "stream",
     "text": [
      "Iteration    0: Cost   107.58\n",
      "Iteration  100: Cost     4.36\n",
      "Iteration  200: Cost     2.87\n",
      "Iteration  300: Cost     2.17\n",
      "Iteration  400: Cost     1.82\n",
      "Iteration  500: Cost     1.65\n",
      "Iteration  600: Cost     1.57\n",
      "Iteration  700: Cost     1.52\n",
      "Iteration  800: Cost     1.50\n",
      "Iteration  900: Cost     1.48\n",
      "\n",
      "Final bias 4.65, final weight [15.59238949  5.24723486  0.15547564]\n"
     ]
    }
   ],
   "source": [
    "w_final, b_final, J_hist = gradient_descent(\n",
    "    X_scaled,\n",
    "    Y,\n",
    "    w_init,\n",
    "    b_init,\n",
    "    cost_function=compute_cost,\n",
    "    gradient_function=compute_gradient\n",
    ")\n",
    "print(f\"\\nFinal bias {b_final:0.2f}, final weight {w_final}\")"
   ]
  },
  {
   "cell_type": "code",
   "execution_count": 37,
   "metadata": {},
   "outputs": [
    {
     "data": {
      "image/png": "[encoded data removed]",
      "text/plain": [
       "<Figure size 1200x400 with 2 Axes>"
      ]
     },
     "metadata": {},
     "output_type": "display_data"
    }
   ],
   "source": [
    "# plot cost versus iteration  \n",
    "fig, (ax1, ax2) = plt.subplots(1, 2, constrained_layout=True, figsize=(12, 4))\n",
    "ax1.plot(J_hist)\n",
    "ax2.plot(100 + np.arange(len(J_hist[100:])), J_hist[100:])\n",
    "ax1.set_title(\"Cost vs. iteration\");  ax2.set_title(\"Cost vs. iteration (tail)\")\n",
    "ax1.set_ylabel('Cost')             ;  ax2.set_ylabel('Cost') \n",
    "ax1.set_xlabel('iteration step')   ;  ax2.set_xlabel('iteration step') \n",
    "plt.show()"
   ]
  },
  {
   "cell_type": "code",
   "execution_count": 40,
   "metadata": {},
   "outputs": [
    {
     "data": {
      "text/html": [
       "<div>\n",
       "<style scoped>\n",
       "    .dataframe tbody tr th:only-of-type {\n",
       "        vertical-align: middle;\n",
       "    }\n",
       "\n",
       "    .dataframe tbody tr th {\n",
       "        vertical-align: top;\n",
       "    }\n",
       "\n",
       "    .dataframe thead th {\n",
       "        text-align: right;\n",
       "    }\n",
       "</style>\n",
       "<table border=\"1\" class=\"dataframe\">\n",
       "  <thead>\n",
       "    <tr style=\"text-align: right;\">\n",
       "      <th></th>\n",
       "      <th>prediction</th>\n",
       "      <th>target_value</th>\n",
       "    </tr>\n",
       "  </thead>\n",
       "  <tbody>\n",
       "    <tr>\n",
       "      <th>0</th>\n",
       "      <td>21.524827</td>\n",
       "      <td>22.1</td>\n",
       "    </tr>\n",
       "    <tr>\n",
       "      <th>1</th>\n",
       "      <td>11.598093</td>\n",
       "      <td>10.4</td>\n",
       "    </tr>\n",
       "    <tr>\n",
       "      <th>2</th>\n",
       "      <td>10.681122</td>\n",
       "      <td>12.0</td>\n",
       "    </tr>\n",
       "    <tr>\n",
       "      <th>3</th>\n",
       "      <td>17.131426</td>\n",
       "      <td>16.5</td>\n",
       "    </tr>\n",
       "    <tr>\n",
       "      <th>4</th>\n",
       "      <td>15.286813</td>\n",
       "      <td>17.9</td>\n",
       "    </tr>\n",
       "  </tbody>\n",
       "</table>\n",
       "</div>"
      ],
      "text/plain": [
       "   prediction  target_value\n",
       "0   21.524827          22.1\n",
       "1   11.598093          10.4\n",
       "2   10.681122          12.0\n",
       "3   17.131426          16.5\n",
       "4   15.286813          17.9"
      ]
     },
     "execution_count": 40,
     "metadata": {},
     "output_type": "execute_result"
    }
   ],
   "source": [
    "m,_ = X_scaled.shape \n",
    "result = [] # list store result of the predictions via the final weights and bias\n",
    "\n",
    "for i in range(m):\n",
    "    prediction = np.dot(X_scaled[i], w_final) + b_final\n",
    "    target_value = Y[i]\n",
    "    result.append({'prediction': prediction, 'target_value': target_value})\n",
    "\n",
    "# Convert list to dataframe\n",
    "result_df = pd.DataFrame(result)\n",
    "result_df.head()"
   ]
  },
  {
   "cell_type": "markdown",
   "metadata": {},
   "source": [
    "#### 5.1.2 Metrics"
   ]
  },
  {
   "cell_type": "markdown",
   "metadata": {},
   "source": [
    "##### Mean Square Error\n",
    "This metric measures how close the predictions are to the true target values. Mean Square Error or MSE formula is:\n",
    "$$\n",
    "MSE = \\frac{1}{n}\\sum_{i=1}^n(\\mathbf{y}_i - \\mathbf{\\hat{y}}_i)^2\n",
    "$$"
   ]
  },
  {
   "cell_type": "code",
   "execution_count": 53,
   "metadata": {},
   "outputs": [
    {
     "data": {
      "text/plain": [
       "0.014776657456842828"
      ]
     },
     "execution_count": 53,
     "metadata": {},
     "output_type": "execute_result"
    }
   ],
   "source": [
    "def mse(predictions: np.ndarray, target_values: np.ndarray) -> float:\n",
    "    \"\"\"\n",
    "    Calculate the MSE between predictions and target values\n",
    "\n",
    "    Args:\n",
    "        prediction (np.ndarray): _description_\n",
    "        target_value (np.ndarray): _description_\n",
    "        \n",
    "    Returns:\n",
    "    float: mse\n",
    "    \"\"\"\n",
    "    mse = np.mean((predictions - target_values)**2)/len(predictions)\n",
    "    return mse\n",
    "\n",
    "mean_square_error = mse(result_df['prediction'], result_df['target_value'])\n",
    "mean_square_error"
   ]
  },
  {
   "cell_type": "code",
   "execution_count": 48,
   "metadata": {},
   "outputs": [
    {
     "data": {
      "text/html": [
       "<div>\n",
       "<style scoped>\n",
       "    .dataframe tbody tr th:only-of-type {\n",
       "        vertical-align: middle;\n",
       "    }\n",
       "\n",
       "    .dataframe tbody tr th {\n",
       "        vertical-align: top;\n",
       "    }\n",
       "\n",
       "    .dataframe thead th {\n",
       "        text-align: right;\n",
       "    }\n",
       "</style>\n",
       "<table border=\"1\" class=\"dataframe\">\n",
       "  <thead>\n",
       "    <tr style=\"text-align: right;\">\n",
       "      <th></th>\n",
       "      <th>TV</th>\n",
       "      <th>Radio</th>\n",
       "      <th>Newspaper</th>\n",
       "      <th>Sales</th>\n",
       "    </tr>\n",
       "  </thead>\n",
       "  <tbody>\n",
       "    <tr>\n",
       "      <th>count</th>\n",
       "      <td>200.000000</td>\n",
       "      <td>200.000000</td>\n",
       "      <td>200.000000</td>\n",
       "      <td>200.000000</td>\n",
       "    </tr>\n",
       "    <tr>\n",
       "      <th>mean</th>\n",
       "      <td>147.042500</td>\n",
       "      <td>23.264000</td>\n",
       "      <td>30.554000</td>\n",
       "      <td>15.130500</td>\n",
       "    </tr>\n",
       "    <tr>\n",
       "      <th>std</th>\n",
       "      <td>85.854236</td>\n",
       "      <td>14.846809</td>\n",
       "      <td>21.778621</td>\n",
       "      <td>5.283892</td>\n",
       "    </tr>\n",
       "    <tr>\n",
       "      <th>min</th>\n",
       "      <td>0.700000</td>\n",
       "      <td>0.000000</td>\n",
       "      <td>0.300000</td>\n",
       "      <td>1.600000</td>\n",
       "    </tr>\n",
       "    <tr>\n",
       "      <th>25%</th>\n",
       "      <td>74.375000</td>\n",
       "      <td>9.975000</td>\n",
       "      <td>12.750000</td>\n",
       "      <td>11.000000</td>\n",
       "    </tr>\n",
       "    <tr>\n",
       "      <th>50%</th>\n",
       "      <td>149.750000</td>\n",
       "      <td>22.900000</td>\n",
       "      <td>25.750000</td>\n",
       "      <td>16.000000</td>\n",
       "    </tr>\n",
       "    <tr>\n",
       "      <th>75%</th>\n",
       "      <td>218.825000</td>\n",
       "      <td>36.525000</td>\n",
       "      <td>45.100000</td>\n",
       "      <td>19.050000</td>\n",
       "    </tr>\n",
       "    <tr>\n",
       "      <th>max</th>\n",
       "      <td>296.400000</td>\n",
       "      <td>49.600000</td>\n",
       "      <td>114.000000</td>\n",
       "      <td>27.000000</td>\n",
       "    </tr>\n",
       "  </tbody>\n",
       "</table>\n",
       "</div>"
      ],
      "text/plain": [
       "               TV       Radio   Newspaper       Sales\n",
       "count  200.000000  200.000000  200.000000  200.000000\n",
       "mean   147.042500   23.264000   30.554000   15.130500\n",
       "std     85.854236   14.846809   21.778621    5.283892\n",
       "min      0.700000    0.000000    0.300000    1.600000\n",
       "25%     74.375000    9.975000   12.750000   11.000000\n",
       "50%    149.750000   22.900000   25.750000   16.000000\n",
       "75%    218.825000   36.525000   45.100000   19.050000\n",
       "max    296.400000   49.600000  114.000000   27.000000"
      ]
     },
     "execution_count": 48,
     "metadata": {},
     "output_type": "execute_result"
    }
   ],
   "source": [
    "df.describe()"
   ]
  },
  {
   "cell_type": "markdown",
   "metadata": {},
   "source": [
    "So the Sales is in the range of 1.6 to 27 (measures thousands of units), with an std of 5.28. The mse (the average of the squared difference between the actual and predicted sales) of our model is 0.01477. This means that the mse is relatively small compared to the overall variance in the sales."
   ]
  },
  {
   "cell_type": "markdown",
   "metadata": {},
   "source": [
    "##### RMSE (Root Mean Square Error)\n",
    "Root Mean Square Error derive from MSE and its computed as:\n",
    "$$\n",
    "RMSE = \\sqrt{MSE}\n",
    "$$"
   ]
  },
  {
   "cell_type": "code",
   "execution_count": 55,
   "metadata": {},
   "outputs": [
    {
     "data": {
      "text/plain": [
       "0.12155927548666465"
      ]
     },
     "execution_count": 55,
     "metadata": {},
     "output_type": "execute_result"
    }
   ],
   "source": [
    "rmse = np.sqrt(mean_square_error)\n",
    "rmse"
   ]
  },
  {
   "cell_type": "markdown",
   "metadata": {},
   "source": [
    "RMSE of 0.12 shows on average, the model's predictions are off by 1.12 thousand units in sales."
   ]
  },
  {
   "cell_type": "markdown",
   "metadata": {},
   "source": [
    "##### MAE (Mean Absolute Error)\n",
    "Mean Absolute Error is similar to MSE and RMSE, a popular metric that is robust to outliers. The formula is\n",
    "$$\n",
    "MAE = \\frac{1}{n}\\sum_{i=1}^n|\\mathbf{y}_i - \\mathbf{\\hat{y}}_i|\n",
    "$$"
   ]
  },
  {
   "cell_type": "code",
   "execution_count": 58,
   "metadata": {},
   "outputs": [
    {
     "data": {
      "text/plain": [
       "0.01655921894249485"
      ]
     },
     "execution_count": 58,
     "metadata": {},
     "output_type": "execute_result"
    }
   ],
   "source": [
    "def mae(predictions: np.ndarray, target_values: np.ndarray) -> float:\n",
    "    \"\"\"\n",
    "    Calculate the MSE between predictions and target values\n",
    "\n",
    "    Args:\n",
    "        prediction (np.ndarray): _description_\n",
    "        target_value (np.ndarray): _description_\n",
    "        \n",
    "    Returns:\n",
    "    float: mae\n",
    "    \"\"\"\n",
    "    mae = (1/len(predictions)) * np.sum((predictions - target_values))\n",
    "    return mae\n",
    "     \n",
    "    \n",
    "mae(result_df['prediction'], result_df['target_value'])"
   ]
  },
  {
   "cell_type": "markdown",
   "metadata": {},
   "source": [
    "0.02 MAE, very small, which shows our model is performing very well."
   ]
  },
  {
   "cell_type": "markdown",
   "metadata": {},
   "source": [
    "##### Explained Variance ($R^2$)\n",
    "Explained Variance, R-square, the coefficient of determination, is just the measure of the percentage of target variation that is explained by the model. In other words, it is the square correlation between the target values and the predicted target values.\n",
    "$$\n",
    "R^2 = \\frac{\\text{Variance Explained by the model}}{\\text{Total Variance}}\n",
    "$$\n",
    "Unlike the other metrics, the higher the $R^2$, the better the model performance."
   ]
  },
  {
   "cell_type": "code",
   "execution_count": 59,
   "metadata": {},
   "outputs": [
    {
     "data": {
      "text/plain": [
       "0.9231773833754602"
      ]
     },
     "execution_count": 59,
     "metadata": {},
     "output_type": "execute_result"
    }
   ],
   "source": [
    "def r_squared(predictions: np.ndarray, target_values: np.ndarray) -> float:\n",
    "    \"\"\"\n",
    "    Calculate the R-squared between predictions and target values.\n",
    "\n",
    "    Args:\n",
    "        predictions (np.ndarray): Predicted values.\n",
    "        target_values (np.ndarray): Actual target values.\n",
    "        \n",
    "    Returns:\n",
    "    float: R-squared value.\n",
    "    \"\"\"\n",
    "    ss_total = np.sum((target_values - np.mean(target_value))**2)\n",
    "    ss_residual = np.sum((target_values - predictions)**2)\n",
    "    r2 = 1 - (ss_residual / ss_total)\n",
    "    return r2\n",
    "\n",
    "r_squared(result_df['prediction'], result_df['target_value'])"
   ]
  },
  {
   "cell_type": "markdown",
   "metadata": {},
   "source": [
    "Our model gives a $R^2$ value of 0.923 which is very high."
   ]
  },
  {
   "cell_type": "markdown",
   "metadata": {},
   "source": [
    "### 5.2 Classification\n",
    "The algorithm shows is logistic regression, or binary classification."
   ]
  },
  {
   "cell_type": "markdown",
   "metadata": {},
   "source": [
    "#### 5.2.1 Concept\n",
    "The concept of classification is quite similar to regression, I will explain along with the code. The following information concept is from the Machine Learning Specialization (Ng, A., n.d.) course. The dataset used for this example is the diabetes dataset from Kaggle (n.d.)."
   ]
  },
  {
   "cell_type": "code",
   "execution_count": 2,
   "metadata": {},
   "outputs": [
    {
     "data": {
      "text/html": [
       "<div>\n",
       "<style scoped>\n",
       "    .dataframe tbody tr th:only-of-type {\n",
       "        vertical-align: middle;\n",
       "    }\n",
       "\n",
       "    .dataframe tbody tr th {\n",
       "        vertical-align: top;\n",
       "    }\n",
       "\n",
       "    .dataframe thead th {\n",
       "        text-align: right;\n",
       "    }\n",
       "</style>\n",
       "<table border=\"1\" class=\"dataframe\">\n",
       "  <thead>\n",
       "    <tr style=\"text-align: right;\">\n",
       "      <th></th>\n",
       "      <th>Pregnancies</th>\n",
       "      <th>Glucose</th>\n",
       "      <th>BloodPressure</th>\n",
       "      <th>SkinThickness</th>\n",
       "      <th>Insulin</th>\n",
       "      <th>BMI</th>\n",
       "      <th>DiabetesPedigreeFunction</th>\n",
       "      <th>Age</th>\n",
       "      <th>Outcome</th>\n",
       "    </tr>\n",
       "  </thead>\n",
       "  <tbody>\n",
       "    <tr>\n",
       "      <th>0</th>\n",
       "      <td>6</td>\n",
       "      <td>148</td>\n",
       "      <td>72</td>\n",
       "      <td>35</td>\n",
       "      <td>0</td>\n",
       "      <td>33.6</td>\n",
       "      <td>0.627</td>\n",
       "      <td>50</td>\n",
       "      <td>1</td>\n",
       "    </tr>\n",
       "    <tr>\n",
       "      <th>1</th>\n",
       "      <td>1</td>\n",
       "      <td>85</td>\n",
       "      <td>66</td>\n",
       "      <td>29</td>\n",
       "      <td>0</td>\n",
       "      <td>26.6</td>\n",
       "      <td>0.351</td>\n",
       "      <td>31</td>\n",
       "      <td>0</td>\n",
       "    </tr>\n",
       "    <tr>\n",
       "      <th>2</th>\n",
       "      <td>8</td>\n",
       "      <td>183</td>\n",
       "      <td>64</td>\n",
       "      <td>0</td>\n",
       "      <td>0</td>\n",
       "      <td>23.3</td>\n",
       "      <td>0.672</td>\n",
       "      <td>32</td>\n",
       "      <td>1</td>\n",
       "    </tr>\n",
       "    <tr>\n",
       "      <th>3</th>\n",
       "      <td>1</td>\n",
       "      <td>89</td>\n",
       "      <td>66</td>\n",
       "      <td>23</td>\n",
       "      <td>94</td>\n",
       "      <td>28.1</td>\n",
       "      <td>0.167</td>\n",
       "      <td>21</td>\n",
       "      <td>0</td>\n",
       "    </tr>\n",
       "    <tr>\n",
       "      <th>4</th>\n",
       "      <td>0</td>\n",
       "      <td>137</td>\n",
       "      <td>40</td>\n",
       "      <td>35</td>\n",
       "      <td>168</td>\n",
       "      <td>43.1</td>\n",
       "      <td>2.288</td>\n",
       "      <td>33</td>\n",
       "      <td>1</td>\n",
       "    </tr>\n",
       "  </tbody>\n",
       "</table>\n",
       "</div>"
      ],
      "text/plain": [
       "   Pregnancies  Glucose  BloodPressure  SkinThickness  Insulin   BMI  \\\n",
       "0            6      148             72             35        0  33.6   \n",
       "1            1       85             66             29        0  26.6   \n",
       "2            8      183             64              0        0  23.3   \n",
       "3            1       89             66             23       94  28.1   \n",
       "4            0      137             40             35      168  43.1   \n",
       "\n",
       "   DiabetesPedigreeFunction  Age  Outcome  \n",
       "0                     0.627   50        1  \n",
       "1                     0.351   31        0  \n",
       "2                     0.672   32        1  \n",
       "3                     0.167   21        0  \n",
       "4                     2.288   33        1  "
      ]
     },
     "execution_count": 2,
     "metadata": {},
     "output_type": "execute_result"
    }
   ],
   "source": [
    "df = pd.read_csv(\"diabetes.csv\")\n",
    "df.head()"
   ]
  },
  {
   "cell_type": "markdown",
   "metadata": {},
   "source": [
    "I am dropping a few columns, since I just want to demonstrate the logistic algorithm. Also, I will  fill missing values with median, mode and encode the data."
   ]
  },
  {
   "cell_type": "code",
   "execution_count": 3,
   "metadata": {},
   "outputs": [],
   "source": [
    "from sklearn.preprocessing import StandardScaler\n",
    "from sklearn.model_selection import train_test_split\n",
    "\n",
    "# Split data\n",
    "X = df.drop(\"Outcome\", axis=1)\n",
    "y = df['Outcome']\n",
    "\n",
    "X_train, X_test, y_train, y_test = train_test_split(X, y, test_size=0.25, random_state=16)\n",
    "\n",
    "# Initialize StandardScaler\n",
    "standard_scaler = StandardScaler()\n",
    "\n",
    "# Fit the scaling to the X\n",
    "X_train_scaled = standard_scaler.fit_transform(X_train)\n",
    "X_test_scaled = standard_scaler.fit_transform(X_test)"
   ]
  },
  {
   "cell_type": "markdown",
   "metadata": {},
   "source": [
    "##### Sigmoid function\n",
    "The logistic regression formula is:\n",
    "$$ f_{\\mathbf{w},b}(x) = g(\\mathbf{w}\\cdot \\mathbf{x} + b)$$\n",
    "The formula is not much different from regression formula, with the addition of $g$ which is the sigmoid function. The point of the sigmoid function is to transform the continuous output in a range between 0 and 1. The sigmoid function is defined as:\n",
    "$$g(\\mathbf{w}\\cdot \\mathbf{x} + b) = g(z) = \\frac{1}{1+e^{-z}}$$"
   ]
  },
  {
   "cell_type": "code",
   "execution_count": 122,
   "metadata": {},
   "outputs": [],
   "source": [
    "def sigmoid(z: np.ndarray) -> np.ndarray:\n",
    "    \"\"\"\n",
    "    Compute the sigmoid of z\n",
    "\n",
    "    Args:\n",
    "        z (np.ndarray): Input array\n",
    "\n",
    "    Returns:\n",
    "        np.ndarray: Sigmoid of input array\n",
    "    \"\"\"\n",
    "    z = np.clip(z, -500,500)\n",
    "    g = 1.0/(1.0 + np.exp(-z))\n",
    "    return g"
   ]
  },
  {
   "cell_type": "markdown",
   "metadata": {},
   "source": [
    "##### Cost function\n",
    "The cost function for binary classification is called log-loss, unlike square error from regression. It is defined as:\n",
    "$$ J(\\mathbf{w},b) = \\frac{1}{m}\\sum_{i=0}^{m-1} \\left[ loss(f_{\\mathbf{w},b}(\\mathbf{x}^{(i)}), y^{(i)}) \\right] $$\n",
    "where\n",
    "- $m$ is the number of training data\n",
    "- $loss(f_{\\mathbf{w},b}(\\mathbf{x}^{(i)}), y^{(i)})$ or $loss(-y^{(i)} \\log\\left(f_{\\mathbf{w},b}\\left( \\mathbf{x}^{(i)} \\right) \\right) - \\left( 1 - y^{(i)}\\right) \\log \\left( 1 - f_{\\mathbf{w},b}\\left( \\mathbf{x}^{(i)} \\right) \\right)$ is the cost for a single data point.\n",
    "    - Recall that $f_{\\mathbf{w},b}(\\mathbf{x}^{(i)})$ is $g(z)$ or model's prediction, and $y^{(i)}$ is the labels.\n",
    "\n",
    "Just remember that lower log loss means the model performs better."
   ]
  },
  {
   "cell_type": "code",
   "execution_count": 123,
   "metadata": {},
   "outputs": [],
   "source": [
    "def compute_cost(X: np.ndarray, y: np.ndarray, w: np.ndarray, b: float) -> float:\n",
    "    \"\"\"_summary_\n",
    "    Compute the cost over all examples\n",
    "\n",
    "    Args:\n",
    "        X (np.ndarray (m,n)): training data\n",
    "        y (np.ndarray (m,)): label\n",
    "        w (np.ndarray (n,)): weight\n",
    "        b (float): bias\n",
    "\n",
    "    Returns:\n",
    "        float: cost\n",
    "    \"\"\"\n",
    "    m, n = X.shape\n",
    "    z = X @ w + b\n",
    "    predictions = sigmoid(z)\n",
    "    \n",
    "    # Log loss \n",
    "    cost = (1/m) * np.sum(-y * np.log(predictions) - (1 - y) * np.log(1 - predictions))\n",
    "    return cost"
   ]
  },
  {
   "cell_type": "code",
   "execution_count": 124,
   "metadata": {},
   "outputs": [
    {
     "name": "stdout",
     "output_type": "stream",
     "text": [
      "Cost at initial w and b (zeros): 0.687\n"
     ]
    }
   ],
   "source": [
    "m, n = X_train.shape\n",
    "\n",
    "# Compute the initial w and b\n",
    "initial_w = 0.01 * (np.random.rand(n) - 0.5)\n",
    "initial_b = 0.01\n",
    "cost = compute_cost(X, Y, initial_w, initial_b)\n",
    "print('Cost at initial w and b (zeros): {:.3f}'.format(cost))"
   ]
  },
  {
   "cell_type": "markdown",
   "metadata": {},
   "source": [
    "##### Gradient\n",
    "The formula is \n",
    "$$\n",
    "\\frac{\\partial J(\\mathbf{w},b)}{\\partial b}  = \\frac{1}{m} \\sum\\limits_{i = 0}^{m-1} (f_{\\mathbf{w},b}(\\mathbf{x}^{(i)}) - \\mathbf{y}^{(i)}) \n",
    "$$\n",
    "$$\n",
    "\\frac{\\partial J(\\mathbf{w},b)}{\\partial w_j}  = \\frac{1}{m} \\sum\\limits_{i = 0}^{m-1} (f_{\\mathbf{w},b}(\\mathbf{x}^{(i)}) - \\mathbf{y}^{(i)})x_{j}^{(i)} \n",
    "$$\n",
    "* m is the training examples\n",
    "* $f_{\\mathbf{w},b}(x^{(i)})$ is the model's prediction, while $y^{(i)}$ is the actual label.\n",
    "\n",
    "Although the formula looks similar to regression, the $f_{\\mathbf{w},b}$ is different."
   ]
  },
  {
   "cell_type": "code",
   "execution_count": 125,
   "metadata": {},
   "outputs": [],
   "source": [
    "def compute_gradient(X: np.ndarray, y: np.ndarray, w: np.ndarray, b: float) -> list:\n",
    "    \"\"\" Compute the gradient for logistic regression\n",
    "\n",
    "    Args:\n",
    "        X (np.ndarray (m,n)): training data\n",
    "        y (np.ndarray): label\n",
    "        w (np.ndarray): weights\n",
    "        b (float): bias\n",
    "\n",
    "    Returns:\n",
    "        list: list containing dJdw and dJdb (the gradient cost of w and b)\n",
    "    \"\"\"\n",
    "    m, n = X.shape\n",
    "    \n",
    "    # Initial set up of dj_dw and dj_db\n",
    "    dj_dw = np.zeros(w.shape) # this is just `np.zeros(n)`\n",
    "    dJ_db = 0.\n",
    "    \n",
    "    # sigmoid function\n",
    "    z = X @ w + b\n",
    "    predictions = sigmoid(z)\n",
    "    \n",
    "    # gradient\n",
    "    dj_dw = 1/m * (predictions - y) @ X + 0/m * w # we don't use np.sum\n",
    "    dJ_db = 1/m * np.sum(predictions - y)\n",
    "    \n",
    "    \n",
    "    return dj_dw, dJ_db"
   ]
  },
  {
   "cell_type": "code",
   "execution_count": 126,
   "metadata": {},
   "outputs": [
    {
     "data": {
      "text/plain": [
       "(Pregnancies                 -0.280213\n",
       " Glucose                     -5.537028\n",
       " BloodPressure               -0.051056\n",
       " SkinThickness               -1.032154\n",
       " Insulin                    -14.922899\n",
       " BMI                         -0.780749\n",
       " DiabetesPedigreeFunction    -0.024811\n",
       " Age                         -0.765927\n",
       " dtype: float64,\n",
       " 0.017149075032566678)"
      ]
     },
     "execution_count": 126,
     "metadata": {},
     "output_type": "execute_result"
    }
   ],
   "source": [
    "dj_dw, dJ_db = compute_gradient(X, Y, initial_w, initial_b)\n",
    "dj_dw, dJ_db"
   ]
  },
  {
   "cell_type": "markdown",
   "metadata": {},
   "source": [
    "##### Gradient Descent\n",
    "An iterative process like with regression problems. A good indicator of the gradient descent working correctly is when the cost value is decreasing with each iteration."
   ]
  },
  {
   "cell_type": "code",
   "execution_count": 127,
   "metadata": {},
   "outputs": [],
   "source": [
    "def gradient_descent(X:np.ndarray, y:np.ndarray, w:np.ndarray, b:float, cost_function, compute_gradient, alpha:float, num_iters:int) -> list:\n",
    "    \"\"\"\n",
    "    Perform batch gradient descent to learn theta (weights and bias). Updates theta by taking\n",
    "    number of iterations gradient steps with learning rate alpha. \n",
    "\n",
    "    Args:\n",
    "        X (np.ndarray (m,n)): training data\n",
    "        y (np.ndarray (m,)): label \n",
    "        w (np.ndarray): initial weights\n",
    "        b (float): initial bias\n",
    "        cost_function (function): cost function output\n",
    "        compute_gradient (function): compute gradient function output\n",
    "        alpha (float): learning rate\n",
    "        num_iters (int): number of iterations\n",
    "\n",
    "    Returns:\n",
    "        list: list containing w_in, b_in, J_history, w_history\n",
    "    \"\"\"\n",
    "    \n",
    "    # Lists to store the cost and weights of each iterations\n",
    "    J_history = []\n",
    "    w_history = []\n",
    "    \n",
    "    for i in range(num_iters):\n",
    "        # Calculate the gradient\n",
    "        dj_dw, dJ_db = compute_gradient(X, y, w, b)\n",
    "        \n",
    "        # Update the parameters\n",
    "        w = w - alpha * dj_dw\n",
    "        b = b - alpha * dJ_db\n",
    "        \n",
    "        # Save the cost J at each iteration\n",
    "        if i < 100_000: # prevent resource exhaustion\n",
    "            cost = cost_function(X, y, w, b)\n",
    "            J_history.append(cost)\n",
    "            \n",
    "        # Print cost at 10 intervals\n",
    "        if i% math.ceil(num_iters/10) == 0 or i == (num_iters-1):\n",
    "            w_history.append(w)\n",
    "            print(f\"Iteration {i:4}: Cost {float(J_history[-1]):8.2f}   \")\n",
    "        \n",
    "    return w, b, J_history, w_history # return w and J history for graphing"
   ]
  },
  {
   "cell_type": "code",
   "execution_count": 128,
   "metadata": {},
   "outputs": [
    {
     "name": "stdout",
     "output_type": "stream",
     "text": [
      "Iteration    0: Cost     0.69   \n"
     ]
    },
    {
     "name": "stdout",
     "output_type": "stream",
     "text": [
      "Iteration 1000: Cost     0.49   \n",
      "Iteration 2000: Cost     0.49   \n",
      "Iteration 3000: Cost     0.49   \n",
      "Iteration 4000: Cost     0.49   \n",
      "Iteration 5000: Cost     0.49   \n",
      "Iteration 6000: Cost     0.49   \n",
      "Iteration 7000: Cost     0.49   \n",
      "Iteration 8000: Cost     0.49   \n",
      "Iteration 9000: Cost     0.49   \n",
      "Iteration 9999: Cost     0.49   \n"
     ]
    }
   ],
   "source": [
    "np.random.seed(1)\n",
    "w, b, J_history, _ = gradient_descent(X_train_scaled ,y_train, initial_w, initial_b, \n",
    "                                   compute_cost, compute_gradient, 0.05, 10000)"
   ]
  },
  {
   "cell_type": "markdown",
   "metadata": {},
   "source": [
    "##### Evaluating logistic regression\n",
    "See how the model predicts on the training set. If $f(x^{(i)}) >= 0.5$, predict $y^{(i)}=1$, if $f(x^{(i)}) < 0.5$, predict $y^{(i)}=0$."
   ]
  },
  {
   "cell_type": "code",
   "execution_count": 145,
   "metadata": {},
   "outputs": [],
   "source": [
    "def predict(X: np.ndarray, w: np.ndarray, b: float) -> float:\n",
    "    \"\"\"\n",
    "    Predict whether the label is 0 or 1 the final w and b. \n",
    "\n",
    "    Args:\n",
    "        X (np.ndarray (m,n)): training data\n",
    "        w (np.ndarray (n,)): weight\n",
    "        b (float): bias\n",
    "\n",
    "    Returns:\n",
    "        float: The predictions using 0.5 threshold\n",
    "    \"\"\"\n",
    "    # Initialize\n",
    "    m, n = X.shape\n",
    "    p = np.zeros(m)\n",
    "    \n",
    "    # Loop over each sample\n",
    "    z = X @ w + b\n",
    "    p = sigmoid(z)\n",
    "    y_pred = np.where(p < 0.5, 0, 1)\n",
    "    return y_pred, p"
   ]
  },
  {
   "cell_type": "code",
   "execution_count": 147,
   "metadata": {},
   "outputs": [
    {
     "name": "stdout",
     "output_type": "stream",
     "text": [
      "Train Accuracy: 81.770833\n"
     ]
    }
   ],
   "source": [
    "y_pred, y_pred_proba = predict(X_test_scaled, w, b)\n",
    "print('Train Accuracy: %f'%(np.mean(y_pred == y_test) * 100))"
   ]
  },
  {
   "cell_type": "markdown",
   "metadata": {},
   "source": [
    "#### 5.2.2 Metrics"
   ]
  },
  {
   "cell_type": "markdown",
   "metadata": {},
   "source": [
    "##### Confusion matrix\n",
    "Confusion matrix summarizes the prediction results via the number of correct and incorrect predictions with count values of each class."
   ]
  },
  {
   "cell_type": "code",
   "execution_count": 137,
   "metadata": {},
   "outputs": [
    {
     "data": {
      "text/plain": [
       "array([[116,   9],\n",
       "       [ 26,  41]], dtype=int64)"
      ]
     },
     "execution_count": 137,
     "metadata": {},
     "output_type": "execute_result"
    }
   ],
   "source": [
    "from sklearn.metrics import confusion_matrix\n",
    "confusion_matrix(y_test,y_pred)"
   ]
  },
  {
   "cell_type": "markdown",
   "metadata": {},
   "source": [
    "Confusion matrix provides real performance of a classifier because it shows us the correct and incorrect count values of each label, meaning if our dataset is unbalanced, we will know that, unlike with accuracy where we do not know whether our data is unbalanced or not.\n",
    "\n",
    "Here is what the output mean:\n",
    "- The <span style=\"color:red\">diagonal values</span> represent the elements where the **predicted classes** = **actual classes**.\n",
    "- The <span style=\"color:red\">off-diagonal values</span> represent wrong predictions.\n",
    "\n",
    "![picture](1.png){width=550 height=300}\n",
    "\n",
    "This picture shows the concept clearly, with **positive class** as **class 1** and **negative class** as **class 0**. There a few formulas derived from this.\n",
    "\n",
    "- **Accuracy**: like I said already, accuracy is not useful for imbalance class problems, and we may need to use other metrics, but its a start.\n",
    "$$\n",
    "\\text{accuracy} = \\frac{TP + TN}{TP + FP + FN + TN}\n",
    "$$\n",
    "\n",
    "- **True Positive Rate** (TPR) or Recall or Sensitivity: correctly predicted positive. In other words, the fraction of TP over amount of positive samples (TP + FN).\n",
    "$$\n",
    "\\text{recall} = \\frac{TP}{TP + FN}\n",
    "$$\n",
    "\n",
    "- **False positive rate** (FPR): wrongly predicted positive. In other words, the fraction of FP over the amount of negative sample (FP + TN).\n",
    "$$\n",
    "\\text{FPR} = \\frac{FP}{FP + TN}\n",
    "$$\n",
    "\n",
    "An article on DataCamp from Navlani, A. (2019) provides us with more metrics.\n",
    "\n",
    "- **Precision**: ratio of correctly predicted positive or TP over the total predicted positives (TP + FP).\n",
    "$$\n",
    "\\text{Precision} = \\frac{TP}{TP + FP}\n",
    "$$\n",
    "\n",
    "- **F1**: combine precision and recall into a single metric, useful when class distribution is imbalanced. \n",
    "$$\n",
    "\\text{F1-Score} = 2 \\times \\frac{\\text{Precision} \\times \\text{Recall}}{\\text{Precision} + \\text{Recall}}\n",
    "$$\n",
    "\n",
    "- **Support**: the number of actual occurrences of each class in the dataset."
   ]
  },
  {
   "cell_type": "code",
   "execution_count": 140,
   "metadata": {},
   "outputs": [
    {
     "data": {
      "text/plain": [
       "array([1, 0], dtype=int64)"
      ]
     },
     "execution_count": 140,
     "metadata": {},
     "output_type": "execute_result"
    }
   ],
   "source": [
    "df.Outcome.unique()"
   ]
  },
  {
   "cell_type": "code",
   "execution_count": 143,
   "metadata": {},
   "outputs": [
    {
     "name": "stdout",
     "output_type": "stream",
     "text": [
      "              precision    recall  f1-score   support\n",
      "\n",
      " no diabetes       0.82      0.93      0.87       125\n",
      "    diabetes       0.82      0.61      0.70        67\n",
      "\n",
      "    accuracy                           0.82       192\n",
      "   macro avg       0.82      0.77      0.78       192\n",
      "weighted avg       0.82      0.82      0.81       192\n",
      "\n"
     ]
    }
   ],
   "source": [
    "from sklearn.metrics import classification_report\n",
    "print(classification_report(y_test, y_pred, target_names=['no diabetes', 'diabetes']))"
   ]
  },
  {
   "cell_type": "markdown",
   "metadata": {},
   "source": [
    "This shows us that \n",
    "- The model perform well with 0.82 accuracy.\n",
    "- The model does better at predicting \"no diabetes\" (high recall of 0.93) compare to \"diabetes\" cases (lower recall of 0.61).\n",
    "- F1-score of 0.7 for \"diabetes\" meaning the model performance for this label is weaker, which can be a concern if correctly identifying diabetes is crucial."
   ]
  },
  {
   "cell_type": "markdown",
   "metadata": {},
   "source": [
    "##### ROC curve\n",
    "Receiver Operating Characteristic (ROC) curve is a plot that plot the TPR again the FPR. It shows us the trade-offs between benefits (TP) and costs (FP). This depends on the problem we are trying to solve, like how much can we afford FPR (Navlani, 2019)."
   ]
  },
  {
   "cell_type": "code",
   "execution_count": 150,
   "metadata": {},
   "outputs": [
    {
     "data": {
      "image/png": "[encoded data removed]",
      "text/plain": [
       "<Figure size 640x480 with 1 Axes>"
      ]
     },
     "metadata": {},
     "output_type": "display_data"
    }
   ],
   "source": [
    "from sklearn import metrics\n",
    "fpr, tpr, _ = metrics.roc_curve(y_test, y_pred_proba)\n",
    "auc = metrics.roc_auc_score(y_test, y_pred_proba)\n",
    "plt.plot(fpr,tpr,label=\"data 1, auc=\"+str(auc))\n",
    "plt.legend(loc=4)\n",
    "plt.show()"
   ]
  },
  {
   "cell_type": "markdown",
   "metadata": {},
   "source": [
    "An auc score of 0.874 out of 1 indicate a good performance. If an auc score is 0.5, meaning it is no different from random guessing."
   ]
  },
  {
   "cell_type": "markdown",
   "metadata": {},
   "source": [
    "### 5.3 Partitioning the data \n",
    "There are limitation of only using 1 single training set, here are 3 better ways to split our data."
   ]
  },
  {
   "cell_type": "markdown",
   "metadata": {},
   "source": [
    "#### Sub-sampling\n",
    "Random sub-sampling repeatedly partitions the data into random training and test sets in a specified ratio.\n",
    "\n",
    "![picture](2.png){width=550 height=300}\n",
    "\n",
    "The figure shows us that we train the model with each training set and estimate the accuracy using the corresponding test set. Finally, we average the accuracies to get an averaged estimate."
   ]
  },
  {
   "cell_type": "code",
   "execution_count": 5,
   "metadata": {},
   "outputs": [
    {
     "name": "stdout",
     "output_type": "stream",
     "text": [
      "Iteration 1, Accuracy: 0.7857\n",
      "Iteration 2, Accuracy: 0.7987\n",
      "Iteration 3, Accuracy: 0.8442\n",
      "Iteration 4, Accuracy: 0.7792\n",
      "Iteration 5, Accuracy: 0.7792\n",
      "Iteration 6, Accuracy: 0.7403\n",
      "Iteration 7, Accuracy: 0.7857\n",
      "Iteration 8, Accuracy: 0.7922\n",
      "Iteration 9, Accuracy: 0.7987\n",
      "Iteration 10, Accuracy: 0.8442\n",
      "Mean Accuracy: 0.7948\n",
      "Standard Deviation of Accuracy: 0.0292\n"
     ]
    }
   ],
   "source": [
    "from sklearn.linear_model import LogisticRegression\n",
    "from sklearn.metrics import accuracy_score\n",
    "\n",
    "accuracies = []\n",
    "\n",
    "for i in range(10):\n",
    "    X_train, X_test, y_train, y_test = train_test_split(X, y, test_size=0.2, random_state=np.random.randint(10000))\n",
    "\n",
    "    # Initialize StandardScaler\n",
    "    standard_scaler = StandardScaler()\n",
    "\n",
    "    # Fit the scaling to the X\n",
    "    X_train_scaled = standard_scaler.fit_transform(X_train)\n",
    "    X_test_scaled = standard_scaler.fit_transform(X_test)\n",
    "    \n",
    "    # Train the model\n",
    "    model = LogisticRegression()\n",
    "    model.fit(X_train_scaled, y_train)\n",
    "    \n",
    "    # Evaluate the model\n",
    "    y_pred = model.predict(X_test_scaled)\n",
    "    accuracy = accuracy_score(y_test, y_pred)\n",
    "    accuracies.append(accuracy)\n",
    "    print(f\"Iteration {i+1}, Accuracy: {accuracy:.4f}\")\n",
    "    \n",
    "# Calculate the mean and standard deviation of accuracies\n",
    "mean_accuracy = np.mean(accuracies)\n",
    "std_accuracy = np.std(accuracies)\n",
    "\n",
    "print(f\"Mean Accuracy: {mean_accuracy:.4f}\")\n",
    "print(f\"Standard Deviation of Accuracy: {std_accuracy:.4f}\")"
   ]
  },
  {
   "cell_type": "markdown",
   "metadata": {},
   "source": [
    "#### Stratified Sampling\n",
    "A splitting technique that ensures each class (or stratum) in the dataset is proportionate in both training and testing sets. In other words, the distribution of classes in training and testing sets mirrors the distribution of the original dataset. This technique is useful in imbalanced dataset. \n",
    "\n",
    "![picture](3.png){width=550 height=300}"
   ]
  },
  {
   "cell_type": "code",
   "execution_count": 153,
   "metadata": {},
   "outputs": [
    {
     "name": "stdout",
     "output_type": "stream",
     "text": [
      "Class distribution in the dataset: {0: 500, 1: 268}\n"
     ]
    }
   ],
   "source": [
    "# Check the distribution of classes\n",
    "unique, counts = np.unique(y, return_counts=True)\n",
    "print(f\"Class distribution in the dataset: {dict(zip(unique, counts))}\")"
   ]
  },
  {
   "cell_type": "code",
   "execution_count": 158,
   "metadata": {},
   "outputs": [
    {
     "name": "stdout",
     "output_type": "stream",
     "text": [
      "Class distribution in the training set: {0: 400, 1: 214}\n",
      "Class distribution in the testing set: {0: 100, 1: 54}\n"
     ]
    }
   ],
   "source": [
    "# Perform stratified sampling\n",
    "X_train, X_test, y_train, y_test = train_test_split(X, y, test_size=0.2, stratify=y, random_state=42)\n",
    "\n",
    "# Check the distribution of classes in the training and testing sets\n",
    "unique_train, counts_train = np.unique(y_train, return_counts=True)\n",
    "unique_test, counts_test = np.unique(y_test, return_counts=True)\n",
    "\n",
    "print(f\"Class distribution in the training set: {dict(zip(unique_train, counts_train))}\")\n",
    "print(f\"Class distribution in the testing set: {dict(zip(unique_test, counts_test))}\")"
   ]
  },
  {
   "cell_type": "markdown",
   "metadata": {},
   "source": [
    "#### Cross-validation\n",
    "Cross-validation is one of the most popular splitting technique. The core idea is to partition the data into $k$ equal sized sub-samples. It is an iterative process where we leave one sub-sample out for the test set, and train on the rest of the sub-samples. \n",
    "\n",
    "![picture](4.png){width=550 height=300}\n",
    "\n",
    "The picture shows us that we divide our data into 5 partitions. The first iteration trains on $s_2, s_3, s_4, s_5$ and test on $s_1$. The second iteration trains on $s_1, s_3, s_4, s_5$ and test on $s_2$. The same goes for 3 other iterations. After 5 iterations is completed, we take the average accuracy of the 5 times we test. "
   ]
  },
  {
   "cell_type": "code",
   "execution_count": 6,
   "metadata": {},
   "outputs": [
    {
     "name": "stdout",
     "output_type": "stream",
     "text": [
      "Cross-validation scores for each fold: [0.76422764 0.77235772 0.77235772 0.73170732 0.73770492]\n",
      "Mean cross-validation score: 0.7557\n",
      "Standard deviation of cross-validation scores: 0.0175\n"
     ]
    }
   ],
   "source": [
    "from sklearn.model_selection import cross_val_score, KFold\n",
    "\n",
    "X_train, X_test, y_train, y_test = train_test_split(X, y, test_size=0.2, random_state=np.random.randint(10000))\n",
    "\n",
    "# Initialize StandardScaler\n",
    "standard_scaler = StandardScaler()\n",
    "\n",
    "# Fit the scaling to the X\n",
    "X_train_scaled = standard_scaler.fit_transform(X_train)\n",
    "X_test_scaled = standard_scaler.fit_transform(X_test)\n",
    "\n",
    "# Initialize model\n",
    "model = LogisticRegression()\n",
    "\n",
    "# Define the number of folds\n",
    "k = 5\n",
    "\n",
    "# Perform k-fold cross-validation\n",
    "kf = KFold(n_splits=k, shuffle=True, random_state=42)\n",
    "cv_scores = cross_val_score(model, X_train_scaled, y_train, cv=kf)\n",
    "\n",
    "# Print the individual fold scores\n",
    "print(f\"Cross-validation scores for each fold: {cv_scores}\")\n",
    "\n",
    "# Print the mean and standard deviation of the scores\n",
    "print(f\"Mean cross-validation score: {np.mean(cv_scores):.4f}\")\n",
    "print(f\"Standard deviation of cross-validation scores: {np.std(cv_scores):.4f}\")"
   ]
  },
  {
   "cell_type": "markdown",
   "metadata": {},
   "source": [
    "### 5.4 Finding the best hyperparameters\n",
    "![picture](5.png){width=550 height=400}\n",
    "\n",
    "The validation set is used to evaluate the given model and help fine-tune the model hyperparameters. The validation part is part of the training process, there are $3$ methods that automatically split our training data further into training data to train the given model, and validating data to validate and help choose the best hyperparmeters. \n",
    "\n",
    "Note that the following methods can include internal cross-validation. Instead of train/test cross-validate, we cross-validate the train/validate set.  "
   ]
  },
  {
   "cell_type": "markdown",
   "metadata": {},
   "source": [
    "#### Exhaustive Search Methods\n",
    "- **Grid Search**: the possible values of hyperparameters are defined in a few sets. These sets are then combined bia Cartesian product to form a multidimensional grid. Then we will try all the parameters in the grid to find the best ones. \n",
    "- **Random Search**: a variant of grid search where we try random points instead of all.\n",
    "\n",
    "Although this algorithms run parallel and easy to implement. There are a few drawback:\n",
    "- It can take lots of time and computational power if the hyperparameter search space is large.\n",
    "- There is not guarantee of finding the local maxima. "
   ]
  },
  {
   "cell_type": "code",
   "execution_count": 33,
   "metadata": {},
   "outputs": [
    {
     "name": "stdout",
     "output_type": "stream",
     "text": [
      "Fitting 5 folds for each of 36 candidates, totalling 180 fits\n",
      "Best parameters found:  {'max_depth': None, 'min_samples_split': 5, 'n_estimators': 200}\n",
      "Test Set Accuracy: 0.7727\n"
     ]
    }
   ],
   "source": [
    "from sklearn.model_selection import GridSearchCV\n",
    "from sklearn.ensemble import RandomForestClassifier\n",
    "\n",
    "# Define the parameter grid\n",
    "param_grid = {\n",
    "    'n_estimators': [50, 100, 200],\n",
    "    'max_depth': [None, 10, 20, 30],\n",
    "    'min_samples_split': [2, 5, 10]\n",
    "}\n",
    "\n",
    "# Initialize the model\n",
    "model = RandomForestClassifier(random_state=42)\n",
    "\n",
    "# Perform Grid Search with 5-fold cross-validation\n",
    "grid_search = GridSearchCV(model, param_grid, cv=5, verbose=2, n_jobs=-1)\n",
    "grid_search.fit(X_train_scaled, y_train)\n",
    "\n",
    "# Get the best parameters found by GridSearchCV\n",
    "print(\"Best parameters found: \", grid_search.best_params_)\n",
    "\n",
    "# Evaluate the model on the test set\n",
    "test_score = grid_search.score(X_test_scaled, y_test)\n",
    "print(f\"Test Set Accuracy: {test_score:.4f}\")"
   ]
  },
  {
   "cell_type": "markdown",
   "metadata": {},
   "source": [
    "#### Bayesian Optimization\n",
    "Banerjee, P. (n.d.) on Kaggle provides the information for Bayesian Optimization.\n",
    "\n",
    "Bayesian Optimization is a probabilistic model that yields better performance and requires less time than Grid Search. The model focuses of past evaluations when choosing the optimal set of hyperparameters, for that it is less time consuming. \n",
    "\n",
    "##### Bayesian Optimization Method\n",
    "Bayesian Optimization is called Sequential **Model-Based Optimization (SMBO)**, where it builds a surrogate function that evaluates the input values based on expected improvement while focuses values that perform well in the past, and excludes poorer ones. \n",
    "\n",
    "There are several libraries support Bayesian optimization, like Spearmint (uses Gaussian Process surrogate), SMAC (uses Random Forest Regression), Hyperopt (uses Tree Parzen Estimator).\n",
    "\n",
    "The demonstration uses **Hyperopt**.\n",
    "\n",
    "##### 4 parts of Optimization Problem\n",
    "Hyperopt has 4 parts to optimize a problem\n",
    "\n",
    "1. **Objective Function**\n",
    "\n",
    "The objective function in this case is to minimize the validation error in our model via hyperparameters. The value we want the maximize is accuracy, then the function should return the negative of that metric.\n",
    "\n",
    "2. **Domain space**\n",
    "\n",
    "Input values over which we want to search.\n",
    "\n",
    "3. **Optimization algorithm**\n",
    "\n",
    "Method to construct the surrogate objective function and choose the next value to evaluate.\n",
    "\n",
    "4. **Results**\n",
    "\n",
    "Score or value pairs the algorithm uses to build to model."
   ]
  },
  {
   "cell_type": "markdown",
   "metadata": {},
   "source": [
    "##### 1. Objective function\n",
    "The goal is minimize the objective function. The set of input values are hyperparameters of GBm model. The output is real value to minimize (the cross-validation loss).\n",
    "\n",
    "This is a objective function for the GBM model with 5-fold cross validation."
   ]
  },
  {
   "cell_type": "code",
   "execution_count": 34,
   "metadata": {},
   "outputs": [],
   "source": [
    "from sklearn.model_selection import cross_val_score\n",
    "from hyperopt import STATUS_OK\n",
    "import lightgbm as lgb\n",
    "\n",
    "def objective_function(params):\n",
    "    # Convert parameters to integers\n",
    "    params['max_depth'] = int(params['max_depth'])\n",
    "    params['n_estimators'] = int(params['n_estimators'])\n",
    "    params['num_leaves'] = int(params['num_leaves'])\n",
    "\n",
    "    clf = lgb.LGBMClassifier(**params)\n",
    "    score = cross_val_score(clf, X_train_scaled, y_train, cv=5).mean()\n",
    "    return {'loss': -score, 'status': STATUS_OK}"
   ]
  },
  {
   "cell_type": "markdown",
   "metadata": {},
   "source": [
    "The function returns a dictionary of values - loss and status. The loss key is the negative score derive from the cv mean score."
   ]
  },
  {
   "cell_type": "markdown",
   "metadata": {},
   "source": [
    "##### 2. Domain space\n",
    "The space has probability distribution for each hyperparameter rather than discrete value. The algorithm will choose one value for each hyperparameter from this domain space. The initial space for the distributions is large, but we will refine it later."
   ]
  },
  {
   "cell_type": "code",
   "execution_count": 35,
   "metadata": {},
   "outputs": [],
   "source": [
    "from hyperopt import hp\n",
    "import numpy as np\n",
    "\n",
    "space = {\n",
    "    'learning_rate': hp.loguniform('learning_rate', np.log(0.01), np.log(1)),\n",
    "    'max_depth': hp.quniform('max_depth', 5, 15, 1),\n",
    "    'n_estimators': hp.quniform('n_estimators', 5, 35, 1),\n",
    "    'num_leaves': hp.quniform('num_leaves', 5, 50, 1),\n",
    "    'boosting_type': hp.choice('boosting_type', ['gbdt', 'dart']),\n",
    "    'colsample_bytree': hp.uniform('colsample_by_tree', 0.6, 1.0),\n",
    "    'reg_lambda': hp.uniform('reg_lambda', 0.0, 1.0),\n",
    "}"
   ]
  },
  {
   "cell_type": "markdown",
   "metadata": {},
   "source": [
    "The domain distribution types in the space are:\n",
    "- choice: categorical variables\n",
    "- quniform: discrete uniform\n",
    "- uniform: continuous uniform\n",
    "- loguniform: continuous log uniform"
   ]
  },
  {
   "cell_type": "markdown",
   "metadata": {},
   "source": [
    "##### 4. Result history\n",
    "Hyperopt will track the results internally, we can use `Trial` object to return those results. We can also save this results in a csv file."
   ]
  },
  {
   "cell_type": "code",
   "execution_count": 25,
   "metadata": {},
   "outputs": [],
   "source": [
    "from hyperopt import Trials\n",
    "\n",
    "trials = Trials()"
   ]
  },
  {
   "cell_type": "code",
   "execution_count": 17,
   "metadata": {},
   "outputs": [],
   "source": [
    "from hyperopt import fmin, tpe\n",
    "import numpy as np\n",
    "\n",
    "# Define the number of evaluations\n",
    "num_eval = 500\n",
    "\n",
    "# Use the new random number generator\n",
    "rng = np.random.default_rng(1)\n",
    "\n",
    "# Run the optimization\n",
    "best_param = fmin(objective_function, space, algo=tpe.suggest, max_evals=num_eval, trials=trials, rstate=rng)\n"
   ]
  },
  {
   "cell_type": "markdown",
   "metadata": {},
   "source": [
    "### 5.5 Imbalance dataset\n",
    "For classification dataset, there one label might have too many data while the other not so much. The machine learning models work best when the labels are roughly the same.\n",
    "\n",
    "The issues with imbalanced dataset can be:\n",
    "- Since the test data contains a few sample of the minority class, even a dumb classifier can get high accuracy. But this problem can be solved with other evaluation metrics.\n",
    "- When random subsampling, the class proportion might not be maintained, but this can be solved via Stratified Sampling."
   ]
  },
  {
   "cell_type": "markdown",
   "metadata": {},
   "source": [
    "#### Solutions\n",
    "We have 2 approaches, either to modify the data or improve the algorithm. \n",
    "##### Data level\n",
    "- **Oversampling** the data from minority class\n",
    "- **Undersampling** the data from majority class\n",
    "##### Algorithmic level\n",
    "- adjusting the costs\n",
    "- adjusting the decision threshold"
   ]
  },
  {
   "cell_type": "markdown",
   "metadata": {},
   "source": [
    "## Week 6: Linear model"
   ]
  },
  {
   "cell_type": "markdown",
   "metadata": {},
   "source": [
    "### 6.1 Kernel trick and non-linear SVM \n",
    "![picture](6.png){width=700 height=250}\n",
    "\n",
    "Sometimes, by transforming data points that are not linearly separate into a higher dimension, those data might be linearly separable. \n",
    "\n",
    "The information below is from Wilimitis, D. (2019).\n",
    "#### Intro to Support Vector Classification (SVC)\n",
    "SVC goal is to maximize the margin (the distance separating the closest pair of data points belonging to different classes). Those data points are called support vectors because they \"support\" the decision boundary. The decision boundary is the *optimal separating hyperplane*.\n",
    "\n",
    "![picture](7.png){width=500 height=500}\n",
    "\n",
    "#### The Kernel Trick\n",
    "To apply to SVC, our data needs to be linear to be separated, that is where the Kernel Trick comes in, where it projects the original non-linear data into higher dimension space where data may become linearly separable (Wilimitis, 2019).\n",
    "\n",
    "Bhavesh Bhatt (2020) provides a good tutorial on how to apply SVC in python."
   ]
  },
  {
   "cell_type": "code",
   "execution_count": 17,
   "metadata": {},
   "outputs": [],
   "source": [
    "import matplotlib.pyplot as plt\n",
    "import numpy as np\n",
    "import pandas as pd\n",
    "import sklearn\n",
    "from matplotlib.axes._axes import _log as matplotlib_axes_logger\n",
    "from matplotlib.colors import ListedColormap\n",
    "from mpl_toolkits import mplot3d\n",
    "from sklearn.metrics import accuracy_score\n",
    "from sklearn.metrics import confusion_matrix\n",
    "from sklearn.model_selection import train_test_split\n",
    "from sklearn.preprocessing import StandardScaler\n",
    "from sklearn.svm import SVC"
   ]
  },
  {
   "cell_type": "code",
   "execution_count": 18,
   "metadata": {},
   "outputs": [],
   "source": [
    "matplotlib_axes_logger.setLevel('ERROR')"
   ]
  },
  {
   "cell_type": "code",
   "execution_count": 19,
   "metadata": {},
   "outputs": [],
   "source": [
    "zero_one_colourmap = ListedColormap(('red', 'green'))"
   ]
  },
  {
   "cell_type": "markdown",
   "metadata": {},
   "source": [
    "##### Plotting Decision Boundary Function"
   ]
  },
  {
   "cell_type": "code",
   "execution_count": 43,
   "metadata": {},
   "outputs": [],
   "source": [
    "def plot_decision_boundary(X, y, clf):\n",
    "    X_set, y_set = X, y\n",
    "    X1, X2 = np.meshgrid(np.arange(start=X_set['X1'].min() - 1, \n",
    "                                   stop=X_set['X1'].max() + 1, \n",
    "                                   step=0.01),\n",
    "                         np.arange(start=X_set['X2'].min() - 1, \n",
    "                                   stop=X_set['X2'].max() + 1, \n",
    "                                   step=0.01))\n",
    "  \n",
    "    plt.contourf(X1, X2, clf.predict(np.array([X1.ravel(), \n",
    "                                               X2.ravel()]).T).reshape(X1.shape),\n",
    "                 alpha=0.75, cmap=zero_one_colourmap)\n",
    "    plt.xlim(X1.min(), X1.max())\n",
    "    plt.ylim(X2.min(), X2.max())\n",
    "    for i, j in enumerate(np.unique(y_set)):\n",
    "        plt.scatter(X_set.loc[y_set == j, 'X1'], X_set.loc[y_set == j, 'X2'],\n",
    "                    c=(zero_one_colourmap)(i), label=j)\n",
    "    plt.title('SVM Decision Boundary')\n",
    "    plt.xlabel('X1')\n",
    "    plt.ylabel('X2')\n",
    "    plt.legend()\n",
    "    plt.show()\n"
   ]
  },
  {
   "cell_type": "markdown",
   "metadata": {},
   "source": [
    "##### Plotting 3D Plot"
   ]
  },
  {
   "cell_type": "code",
   "execution_count": 29,
   "metadata": {},
   "outputs": [],
   "source": [
    "def plot_3d_plot(X, y):\n",
    "  r = np.exp(-(X ** 2).sum(1))\n",
    "  ax = plt.subplot(projection='3d')\n",
    "  ax.scatter3D(X['X1'], X['X2'], r, c=y, s=100, cmap=zero_one_colourmap)\n",
    "  ax.set_xlabel('X1')\n",
    "  ax.set_ylabel('X2')\n",
    "  ax.set_zlabel('y')\n",
    "  return ax"
   ]
  },
  {
   "cell_type": "markdown",
   "metadata": {},
   "source": [
    "##### Reading the data"
   ]
  },
  {
   "cell_type": "code",
   "execution_count": 22,
   "metadata": {},
   "outputs": [
    {
     "data": {
      "text/html": [
       "<div>\n",
       "<style scoped>\n",
       "    .dataframe tbody tr th:only-of-type {\n",
       "        vertical-align: middle;\n",
       "    }\n",
       "\n",
       "    .dataframe tbody tr th {\n",
       "        vertical-align: top;\n",
       "    }\n",
       "\n",
       "    .dataframe thead th {\n",
       "        text-align: right;\n",
       "    }\n",
       "</style>\n",
       "<table border=\"1\" class=\"dataframe\">\n",
       "  <thead>\n",
       "    <tr style=\"text-align: right;\">\n",
       "      <th></th>\n",
       "      <th>X1</th>\n",
       "      <th>X2</th>\n",
       "      <th>Y</th>\n",
       "    </tr>\n",
       "  </thead>\n",
       "  <tbody>\n",
       "    <tr>\n",
       "      <th>0</th>\n",
       "      <td>-0.364924</td>\n",
       "      <td>0.230728</td>\n",
       "      <td>1</td>\n",
       "    </tr>\n",
       "    <tr>\n",
       "      <th>1</th>\n",
       "      <td>-0.293515</td>\n",
       "      <td>-0.974130</td>\n",
       "      <td>0</td>\n",
       "    </tr>\n",
       "    <tr>\n",
       "      <th>2</th>\n",
       "      <td>0.470622</td>\n",
       "      <td>0.966409</td>\n",
       "      <td>0</td>\n",
       "    </tr>\n",
       "    <tr>\n",
       "      <th>3</th>\n",
       "      <td>-0.549030</td>\n",
       "      <td>0.869911</td>\n",
       "      <td>0</td>\n",
       "    </tr>\n",
       "    <tr>\n",
       "      <th>4</th>\n",
       "      <td>-1.072329</td>\n",
       "      <td>-0.195141</td>\n",
       "      <td>0</td>\n",
       "    </tr>\n",
       "  </tbody>\n",
       "</table>\n",
       "</div>"
      ],
      "text/plain": [
       "         X1        X2  Y\n",
       "0 -0.364924  0.230728  1\n",
       "1 -0.293515 -0.974130  0\n",
       "2  0.470622  0.966409  0\n",
       "3 -0.549030  0.869911  0\n",
       "4 -1.072329 -0.195141  0"
      ]
     },
     "execution_count": 22,
     "metadata": {},
     "output_type": "execute_result"
    }
   ],
   "source": [
    "df = pd.read_excel(\"SVM_Data.xlsx\")\n",
    "df.head()"
   ]
  },
  {
   "cell_type": "code",
   "execution_count": 25,
   "metadata": {},
   "outputs": [],
   "source": [
    "X = df.drop('Y', axis=1)\n",
    "y = df['Y']\n",
    "X_train, X_test, y_train, y_test = train_test_split(X, y, \n",
    "                                                    test_size = 0.25, \n",
    "                                                    random_state = 0)"
   ]
  },
  {
   "cell_type": "markdown",
   "metadata": {},
   "source": [
    "##### Plot the data"
   ]
  },
  {
   "cell_type": "code",
   "execution_count": 27,
   "metadata": {},
   "outputs": [
    {
     "data": {
      "image/png": "[encoded data removed]",
      "text/plain": [
       "<Figure size 640x480 with 1 Axes>"
      ]
     },
     "metadata": {},
     "output_type": "display_data"
    }
   ],
   "source": [
    "plt.scatter(X['X1'],X['X2'], c=y, s=100, cmap = zero_one_colourmap)\n",
    "plt.show()"
   ]
  },
  {
   "cell_type": "markdown",
   "metadata": {},
   "source": [
    "Green dot is 1, red dot is 0. We can see that we can not draw a single line to separate the classes."
   ]
  },
  {
   "cell_type": "code",
   "execution_count": 31,
   "metadata": {},
   "outputs": [
    {
     "data": {
      "text/plain": [
       "<Axes3D: xlabel='X1', ylabel='X2', zlabel='y'>"
      ]
     },
     "execution_count": 31,
     "metadata": {},
     "output_type": "execute_result"
    },
    {
     "data": {
      "image/png": "[encoded data removed]",
      "text/plain": [
       "<Figure size 640x480 with 1 Axes>"
      ]
     },
     "metadata": {},
     "output_type": "display_data"
    }
   ],
   "source": [
    "plot_3d_plot(X, y)"
   ]
  },
  {
   "cell_type": "markdown",
   "metadata": {},
   "source": [
    "But if we plot it on a 3D space, we can now draw a linear line to separate the classes. This is where kernel trick comes in."
   ]
  },
  {
   "cell_type": "markdown",
   "metadata": {},
   "source": [
    "##### Non Linear SVM Classifier"
   ]
  },
  {
   "cell_type": "code",
   "execution_count": 33,
   "metadata": {},
   "outputs": [
    {
     "name": "stderr",
     "output_type": "stream",
     "text": [
      "C:\\Users\\tomde\\AppData\\Local\\Temp\\ipykernel_4736\\1989455453.py:2: FutureWarning: Series.ravel is deprecated. The underlying array is already 1D, so ravel is not necessary.  Use `to_numpy()` for conversion to a numpy array instead.\n",
      "  rbf_classifier.fit(X_train, y_train.ravel())\n"
     ]
    },
    {
     "data": {
      "text/plain": [
       "1.0"
      ]
     },
     "execution_count": 33,
     "metadata": {},
     "output_type": "execute_result"
    }
   ],
   "source": [
    "rbf_classifier = SVC(kernel=\"rbf\")\n",
    "rbf_classifier.fit(X_train, y_train.ravel())\n",
    "y_pred = rbf_classifier.predict(X_test)\n",
    "accuracy_score(y_test, y_pred)"
   ]
  },
  {
   "cell_type": "code",
   "execution_count": 37,
   "metadata": {},
   "outputs": [
    {
     "data": {
      "text/plain": [
       "array([[7, 0],\n",
       "       [0, 6]], dtype=int64)"
      ]
     },
     "execution_count": 37,
     "metadata": {},
     "output_type": "execute_result"
    }
   ],
   "source": [
    "confusion_matrix(y_pred, y_test)"
   ]
  },
  {
   "cell_type": "code",
   "execution_count": 44,
   "metadata": {},
   "outputs": [
    {
     "name": "stderr",
     "output_type": "stream",
     "text": [
      "c:\\Users\\tomde\\AppData\\Local\\Programs\\Python\\Python311\\Lib\\site-packages\\sklearn\\base.py:493: UserWarning: X does not have valid feature names, but SVC was fitted with feature names\n",
      "  warnings.warn(\n",
      "C:\\Users\\tomde\\AppData\\Local\\Temp\\ipykernel_4736\\3874166005.py:16: UserWarning: *c* argument looks like a single numeric RGB or RGBA sequence, which should be avoided as value-mapping will have precedence in case its length matches with *x* & *y*.  Please use the *color* keyword-argument or provide a 2D array with a single row if you intend to specify the same RGB or RGBA value for all points.\n",
      "  plt.scatter(X_set.loc[y_set == j, 'X1'], X_set.loc[y_set == j, 'X2'],\n"
     ]
    },
    {
     "data": {
      "image/png": "[encoded data removed]",
      "text/plain": [
       "<Figure size 640x480 with 1 Axes>"
      ]
     },
     "metadata": {},
     "output_type": "display_data"
    }
   ],
   "source": [
    "plot_decision_boundary(X_test, y_test, rbf_classifier)"
   ]
  },
  {
   "cell_type": "markdown",
   "metadata": {},
   "source": [
    "### 6.2 Model complexity\n",
    "Since I have already gone over the linear regression and logistic regression in week 5, I won't go over it again (the mathematical concept) in week 6.\n",
    "\n",
    "Model complexity is the measure of how complex our model is.\n",
    "Under-fitting means that our model is very simple. Over-fitting means our model is too complex and learn the noise of our data.\n",
    "\n",
    "![picture](9.png){width=700 height=500}\n",
    "\n",
    "This picture provides a good diagnose on the complexity of our model. The main thing we need to focus on is the train error and cross validation error. Our goal is to find the sweet spot where Risk = bias + variance + noise is the minimum.\n",
    "\n",
    "Here are a few steps to try to find that sweet spot.\n",
    "\n",
    "So we know that bias means underfit, variance means overfit, noise is the Irreducible error inherent in the data. The first thing we need to do is to choose a model family, like decision tree or neural network. Then we use k-fold cross-validation and calculate the model's error, which includes bias and variance components. Then we plot the bias-variance validation.\n",
    "- **Training error**: typically decrease with model's complexity (lower bias, higher variance).\n",
    "- **Validation error**: decreases initially but increase as the model becomes overfit (higher variance).\n",
    "\n",
    "The sweet spot is where the validation error is minimized.\n",
    "\n",
    "If our model is too complex, we can use **Regularisation** to control the model complexity. "
   ]
  },
  {
   "cell_type": "markdown",
   "metadata": {},
   "source": [
    "### 6.3 Regularised linear models\n",
    "Regulariser is addition term of the loss function to avoid overfitting. It does not allow regression coefficients (or weights) to take excessively large value. The formula will now become:\n",
    "$$\n",
    "\\text{minimize } \\frac{1}{n}\\sum_{i=1}^{n} L(y_i, \\mathbf{x}^T_i\\mathbf{w}) + \\lambda \\text{Regulariser}(\\mathbf{w})\n",
    "$$\n",
    "\n",
    "There are 2 things we want our model to discourage. One is **high weights** because one small change in those features can lead to large changes in the prediction. Second is **irrelevant features**, so we want to discard those features.\n",
    "\n",
    "There are 2 options.\n",
    "- **Option 1** ($l_1$-norm): this option encourages 0 weights, this means discarding irrelevant data. \n",
    "$$\n",
    "\\text{Regulariser}(\\mathbf{w}) = \\sum_j |w_j| = ||\\mathbf{w}||_1\n",
    "$$\n",
    "\n",
    "- **Option 2** ($l_2$-norm): penalises large weights\n",
    "$$\n",
    "\\text{Regulariser}(\\mathbf{w}) = \\sum_j |w_j|^2 = ||\\mathbf{w}||_2\n",
    "$$\n",
    "\n",
    "These 2 options are part of L1 and L2 methods.\n",
    "\n",
    "1. **L1 Regularisation (LASSO)**\n",
    "\n",
    "This is a regression analysis that shrinks some coefficient to zero to discard them.\n",
    "$$\n",
    "\\text{minimize } \\frac{1}{n}\\sum_{i=1}^{n} L(y_i, \\mathbf{x}^T_i\\mathbf{w}) + \\lambda_1 ||\\mathbf{w}||_1\n",
    "$$\n",
    "\n",
    "2. **L2 Regularisation (Ridge)**\n",
    "\n",
    "This is a regression analysis that prevents overfitting by shrinking coefficients but don't remove them.\n",
    "\n",
    "$$\n",
    "\\text{minimize } \\frac{1}{n}\\sum_{i=1}^{n} L(y_i, \\mathbf{x}^T_i\\mathbf{w}) + \\lambda_2 ||\\mathbf{w}||_2\n",
    "$$\n",
    "\n",
    "Ridge is a special case of **Elastic Net** where $\\lambda_1 = \\lambda_2 =0$.\n",
    "\n",
    "Elastic Net combines both LASSO and Ridge where it overcomes the LASSO's limit of selecting at most $n$ variables before it saturates. The formula for Elastic Net is:\n",
    "$$\n",
    "\\text{minimize } \\frac{1}{n}\\sum_{i=1}^{n} L(y_i, \\mathbf{x}^T_i\\mathbf{w}) + \\lambda_1 ||\\mathbf{w}||_1 + \\lambda_2 ||\\mathbf{w}||_2\n",
    "$$\n",
    "\n",
    "The effect of Regularisation increases biases and reduces variance helps us choose the right trade-off, or the sweet spot where the validation error is minimized."
   ]
  },
  {
   "cell_type": "markdown",
   "metadata": {},
   "source": [
    "### 6.4 Feature selection with Regularised linear models\n",
    "Lasso and Ridge are regularization techniques for learn models, and not applicable for non-linear model, though the concept of regularization can be extended to non-linear models. "
   ]
  },
  {
   "cell_type": "markdown",
   "metadata": {},
   "source": [
    "### 6.5 Regularised linear regression in Python"
   ]
  },
  {
   "cell_type": "code",
   "execution_count": 1,
   "metadata": {},
   "outputs": [],
   "source": [
    "import numpy as np\n",
    "import pandas as pd\n",
    "import matplotlib.pyplot as plt"
   ]
  },
  {
   "cell_type": "code",
   "execution_count": 2,
   "metadata": {},
   "outputs": [
    {
     "data": {
      "text/html": [
       "<div>\n",
       "<style scoped>\n",
       "    .dataframe tbody tr th:only-of-type {\n",
       "        vertical-align: middle;\n",
       "    }\n",
       "\n",
       "    .dataframe tbody tr th {\n",
       "        vertical-align: top;\n",
       "    }\n",
       "\n",
       "    .dataframe thead th {\n",
       "        text-align: right;\n",
       "    }\n",
       "</style>\n",
       "<table border=\"1\" class=\"dataframe\">\n",
       "  <thead>\n",
       "    <tr style=\"text-align: right;\">\n",
       "      <th></th>\n",
       "      <th>y</th>\n",
       "      <th>x</th>\n",
       "    </tr>\n",
       "  </thead>\n",
       "  <tbody>\n",
       "    <tr>\n",
       "      <th>0</th>\n",
       "      <td>1.065763</td>\n",
       "      <td>1.047198</td>\n",
       "    </tr>\n",
       "    <tr>\n",
       "      <th>1</th>\n",
       "      <td>1.006086</td>\n",
       "      <td>1.117011</td>\n",
       "    </tr>\n",
       "    <tr>\n",
       "      <th>2</th>\n",
       "      <td>0.695374</td>\n",
       "      <td>1.186824</td>\n",
       "    </tr>\n",
       "    <tr>\n",
       "      <th>3</th>\n",
       "      <td>0.949799</td>\n",
       "      <td>1.256637</td>\n",
       "    </tr>\n",
       "    <tr>\n",
       "      <th>4</th>\n",
       "      <td>1.063496</td>\n",
       "      <td>1.326450</td>\n",
       "    </tr>\n",
       "  </tbody>\n",
       "</table>\n",
       "</div>"
      ],
      "text/plain": [
       "          y         x\n",
       "0  1.065763  1.047198\n",
       "1  1.006086  1.117011\n",
       "2  0.695374  1.186824\n",
       "3  0.949799  1.256637\n",
       "4  1.063496  1.326450"
      ]
     },
     "metadata": {},
     "output_type": "display_data"
    },
    {
     "name": "stdout",
     "output_type": "stream",
     "text": [
      "<class 'pandas.core.frame.DataFrame'>\n",
      "RangeIndex: 60 entries, 0 to 59\n",
      "Data columns (total 2 columns):\n",
      " #   Column  Non-Null Count  Dtype  \n",
      "---  ------  --------------  -----  \n",
      " 0   y       60 non-null     float64\n",
      " 1   x       60 non-null     float64\n",
      "dtypes: float64(2)\n",
      "memory usage: 1.1 KB\n"
     ]
    },
    {
     "data": {
      "text/plain": [
       "None"
      ]
     },
     "metadata": {},
     "output_type": "display_data"
    }
   ],
   "source": [
    "df = pd.read_csv('poly_data.csv')\n",
    "display(df.head())\n",
    "display(df.info())"
   ]
  },
  {
   "cell_type": "code",
   "execution_count": 3,
   "metadata": {},
   "outputs": [
    {
     "data": {
      "image/png": "[encoded data removed]",
      "text/plain": [
       "<Figure size 640x480 with 1 Axes>"
      ]
     },
     "metadata": {},
     "output_type": "display_data"
    }
   ],
   "source": [
    "# Separate the data into features and response.\n",
    "X = df['x']\n",
    "y = df['y']\n",
    "\n",
    "# Visualize the data\n",
    "plt.plot(X, y, '.')\n",
    "plt.xlabel('X')\n",
    "plt.ylabel('Y')\n",
    "plt.title('Scatter plot of our data')\n",
    "plt.show()"
   ]
  },
  {
   "cell_type": "markdown",
   "metadata": {},
   "source": [
    "In this step, we need to answer the questions\n",
    "- is there correlation between $x$ and $y$?\n",
    "- is the correlation linear or non-linear?\n",
    "\n",
    "In our case, there seems to be a non-linear correlation. First, we will fit a linear regression model to see how it fits in this non-linear data."
   ]
  },
  {
   "cell_type": "code",
   "execution_count": 4,
   "metadata": {},
   "outputs": [],
   "source": [
    "X_train = X.values.reshape(-1, 1)\n",
    "y_train = y.values"
   ]
  },
  {
   "cell_type": "code",
   "execution_count": 5,
   "metadata": {},
   "outputs": [],
   "source": [
    "# Lets fit a linear regression model to this data\n",
    "from sklearn.linear_model import LinearRegression\n",
    "\n",
    "lr1 = LinearRegression()\n",
    "lr1.fit(X_train, y_train)\n",
    "y_pred = lr1.predict(X_train)"
   ]
  },
  {
   "cell_type": "code",
   "execution_count": 6,
   "metadata": {},
   "outputs": [
    {
     "name": "stdout",
     "output_type": "stream",
     "text": [
      "Model MSE: 0.054671926649079085\n"
     ]
    },
    {
     "data": {
      "image/png": "[encoded data removed]",
      "text/plain": [
       "<Figure size 640x480 with 1 Axes>"
      ]
     },
     "metadata": {},
     "output_type": "display_data"
    }
   ],
   "source": [
    "#Evaluate our model with mean square error\n",
    "mse1 = np.mean((y_pred - y_train)**2)\n",
    "print(\"Model MSE: {}\".format(mse1))\n",
    "plt.plot(df['x'], df['y'], '.', df['x'], y_pred, '-')\n",
    "plt.show()"
   ]
  },
  {
   "cell_type": "markdown",
   "metadata": {},
   "source": [
    "To get a better fit, we can use a polynomial regression. For this case, we can generate extra features $x$."
   ]
  },
  {
   "cell_type": "code",
   "execution_count": 7,
   "metadata": {},
   "outputs": [
    {
     "data": {
      "text/html": [
       "<div>\n",
       "<style scoped>\n",
       "    .dataframe tbody tr th:only-of-type {\n",
       "        vertical-align: middle;\n",
       "    }\n",
       "\n",
       "    .dataframe tbody tr th {\n",
       "        vertical-align: top;\n",
       "    }\n",
       "\n",
       "    .dataframe thead th {\n",
       "        text-align: right;\n",
       "    }\n",
       "</style>\n",
       "<table border=\"1\" class=\"dataframe\">\n",
       "  <thead>\n",
       "    <tr style=\"text-align: right;\">\n",
       "      <th></th>\n",
       "      <th>y</th>\n",
       "      <th>x</th>\n",
       "      <th>x_2</th>\n",
       "      <th>x_3</th>\n",
       "      <th>x_4</th>\n",
       "      <th>x_5</th>\n",
       "    </tr>\n",
       "  </thead>\n",
       "  <tbody>\n",
       "    <tr>\n",
       "      <th>0</th>\n",
       "      <td>1.065763</td>\n",
       "      <td>1.047198</td>\n",
       "      <td>1.096623</td>\n",
       "      <td>1.148381</td>\n",
       "      <td>1.202581</td>\n",
       "      <td>1.259340</td>\n",
       "    </tr>\n",
       "    <tr>\n",
       "      <th>1</th>\n",
       "      <td>1.006086</td>\n",
       "      <td>1.117011</td>\n",
       "      <td>1.247713</td>\n",
       "      <td>1.393709</td>\n",
       "      <td>1.556788</td>\n",
       "      <td>1.738948</td>\n",
       "    </tr>\n",
       "    <tr>\n",
       "      <th>2</th>\n",
       "      <td>0.695374</td>\n",
       "      <td>1.186824</td>\n",
       "      <td>1.408551</td>\n",
       "      <td>1.671702</td>\n",
       "      <td>1.984016</td>\n",
       "      <td>2.354677</td>\n",
       "    </tr>\n",
       "    <tr>\n",
       "      <th>3</th>\n",
       "      <td>0.949799</td>\n",
       "      <td>1.256637</td>\n",
       "      <td>1.579137</td>\n",
       "      <td>1.984402</td>\n",
       "      <td>2.493673</td>\n",
       "      <td>3.133642</td>\n",
       "    </tr>\n",
       "    <tr>\n",
       "      <th>4</th>\n",
       "      <td>1.063496</td>\n",
       "      <td>1.326450</td>\n",
       "      <td>1.759470</td>\n",
       "      <td>2.333850</td>\n",
       "      <td>3.095735</td>\n",
       "      <td>4.106339</td>\n",
       "    </tr>\n",
       "  </tbody>\n",
       "</table>\n",
       "</div>"
      ],
      "text/plain": [
       "          y         x       x_2       x_3       x_4       x_5\n",
       "0  1.065763  1.047198  1.096623  1.148381  1.202581  1.259340\n",
       "1  1.006086  1.117011  1.247713  1.393709  1.556788  1.738948\n",
       "2  0.695374  1.186824  1.408551  1.671702  1.984016  2.354677\n",
       "3  0.949799  1.256637  1.579137  1.984402  2.493673  3.133642\n",
       "4  1.063496  1.326450  1.759470  2.333850  3.095735  4.106339"
      ]
     },
     "execution_count": 7,
     "metadata": {},
     "output_type": "execute_result"
    }
   ],
   "source": [
    "for i in range(2,6):\n",
    "   colname = \"x_%d\"%i\n",
    "   df[colname] = df.x**i\n",
    "\n",
    "df.head()"
   ]
  },
  {
   "cell_type": "code",
   "execution_count": 8,
   "metadata": {},
   "outputs": [],
   "source": [
    "X = df.drop('y', axis=1)\n",
    "y = df['y']\n",
    "\n",
    "X_train = X.values\n",
    "y_train = y.values"
   ]
  },
  {
   "cell_type": "markdown",
   "metadata": {},
   "source": [
    "Let try to fit the model"
   ]
  },
  {
   "cell_type": "code",
   "execution_count": 9,
   "metadata": {},
   "outputs": [
    {
     "name": "stdout",
     "output_type": "stream",
     "text": [
      "Model MSE: 0.01697622659290237\n"
     ]
    },
    {
     "data": {
      "image/png": "[encoded data removed]",
      "text/plain": [
       "<Figure size 640x480 with 1 Axes>"
      ]
     },
     "metadata": {},
     "output_type": "display_data"
    }
   ],
   "source": [
    "predictors = df.columns.values[1:]\n",
    "lr2 = LinearRegression()\n",
    "lr2.fit(X_train, y_train)\n",
    "y_pred2 = lr2.predict(X_train)\n",
    "\n",
    "#Evaluate our model with mean square error\n",
    "mse2 = np.mean((y_pred2 - y_train)**2)\n",
    "print(\"Model MSE: {}\".format(mse2))\n",
    "\n",
    "plt.plot(df['x'], df['y'], '.', df['x'], y_pred2, '-')\n",
    "plt.show()"
   ]
  },
  {
   "cell_type": "code",
   "execution_count": 10,
   "metadata": {},
   "outputs": [
    {
     "name": "stdout",
     "output_type": "stream",
     "text": [
      "[-5.11776235  4.72461232 -1.92856217  0.33473526 -0.02065326]\n"
     ]
    }
   ],
   "source": [
    "print(lr2.coef_)"
   ]
  },
  {
   "cell_type": "markdown",
   "metadata": {},
   "source": [
    "Let's generate 15 features"
   ]
  },
  {
   "cell_type": "code",
   "execution_count": 11,
   "metadata": {},
   "outputs": [
    {
     "data": {
      "text/html": [
       "<div>\n",
       "<style scoped>\n",
       "    .dataframe tbody tr th:only-of-type {\n",
       "        vertical-align: middle;\n",
       "    }\n",
       "\n",
       "    .dataframe tbody tr th {\n",
       "        vertical-align: top;\n",
       "    }\n",
       "\n",
       "    .dataframe thead th {\n",
       "        text-align: right;\n",
       "    }\n",
       "</style>\n",
       "<table border=\"1\" class=\"dataframe\">\n",
       "  <thead>\n",
       "    <tr style=\"text-align: right;\">\n",
       "      <th></th>\n",
       "      <th>y</th>\n",
       "      <th>x</th>\n",
       "      <th>x_2</th>\n",
       "      <th>x_3</th>\n",
       "      <th>x_4</th>\n",
       "      <th>x_5</th>\n",
       "      <th>x_6</th>\n",
       "      <th>x_7</th>\n",
       "      <th>x_8</th>\n",
       "      <th>x_9</th>\n",
       "      <th>x_10</th>\n",
       "      <th>x_11</th>\n",
       "      <th>x_12</th>\n",
       "      <th>x_13</th>\n",
       "      <th>x_14</th>\n",
       "      <th>x_15</th>\n",
       "    </tr>\n",
       "  </thead>\n",
       "  <tbody>\n",
       "    <tr>\n",
       "      <th>0</th>\n",
       "      <td>1.065763</td>\n",
       "      <td>1.047198</td>\n",
       "      <td>1.096623</td>\n",
       "      <td>1.148381</td>\n",
       "      <td>1.202581</td>\n",
       "      <td>1.259340</td>\n",
       "      <td>1.318778</td>\n",
       "      <td>1.381021</td>\n",
       "      <td>1.446202</td>\n",
       "      <td>1.514459</td>\n",
       "      <td>1.585938</td>\n",
       "      <td>1.660790</td>\n",
       "      <td>1.739176</td>\n",
       "      <td>1.821260</td>\n",
       "      <td>1.907219</td>\n",
       "      <td>1.997235</td>\n",
       "    </tr>\n",
       "    <tr>\n",
       "      <th>1</th>\n",
       "      <td>1.006086</td>\n",
       "      <td>1.117011</td>\n",
       "      <td>1.247713</td>\n",
       "      <td>1.393709</td>\n",
       "      <td>1.556788</td>\n",
       "      <td>1.738948</td>\n",
       "      <td>1.942424</td>\n",
       "      <td>2.169708</td>\n",
       "      <td>2.423588</td>\n",
       "      <td>2.707173</td>\n",
       "      <td>3.023942</td>\n",
       "      <td>3.377775</td>\n",
       "      <td>3.773011</td>\n",
       "      <td>4.214494</td>\n",
       "      <td>4.707635</td>\n",
       "      <td>5.258479</td>\n",
       "    </tr>\n",
       "    <tr>\n",
       "      <th>2</th>\n",
       "      <td>0.695374</td>\n",
       "      <td>1.186824</td>\n",
       "      <td>1.408551</td>\n",
       "      <td>1.671702</td>\n",
       "      <td>1.984016</td>\n",
       "      <td>2.354677</td>\n",
       "      <td>2.794587</td>\n",
       "      <td>3.316683</td>\n",
       "      <td>3.936319</td>\n",
       "      <td>4.671717</td>\n",
       "      <td>5.544505</td>\n",
       "      <td>6.580351</td>\n",
       "      <td>7.809718</td>\n",
       "      <td>9.268760</td>\n",
       "      <td>11.000386</td>\n",
       "      <td>13.055521</td>\n",
       "    </tr>\n",
       "    <tr>\n",
       "      <th>3</th>\n",
       "      <td>0.949799</td>\n",
       "      <td>1.256637</td>\n",
       "      <td>1.579137</td>\n",
       "      <td>1.984402</td>\n",
       "      <td>2.493673</td>\n",
       "      <td>3.133642</td>\n",
       "      <td>3.937850</td>\n",
       "      <td>4.948448</td>\n",
       "      <td>6.218404</td>\n",
       "      <td>7.814277</td>\n",
       "      <td>9.819709</td>\n",
       "      <td>12.339811</td>\n",
       "      <td>15.506664</td>\n",
       "      <td>19.486248</td>\n",
       "      <td>24.487142</td>\n",
       "      <td>30.771450</td>\n",
       "    </tr>\n",
       "    <tr>\n",
       "      <th>4</th>\n",
       "      <td>1.063496</td>\n",
       "      <td>1.326450</td>\n",
       "      <td>1.759470</td>\n",
       "      <td>2.333850</td>\n",
       "      <td>3.095735</td>\n",
       "      <td>4.106339</td>\n",
       "      <td>5.446854</td>\n",
       "      <td>7.224981</td>\n",
       "      <td>9.583578</td>\n",
       "      <td>12.712139</td>\n",
       "      <td>16.862020</td>\n",
       "      <td>22.366630</td>\n",
       "      <td>29.668222</td>\n",
       "      <td>39.353420</td>\n",
       "      <td>52.200353</td>\n",
       "      <td>69.241170</td>\n",
       "    </tr>\n",
       "  </tbody>\n",
       "</table>\n",
       "</div>"
      ],
      "text/plain": [
       "          y         x       x_2       x_3       x_4       x_5       x_6  \\\n",
       "0  1.065763  1.047198  1.096623  1.148381  1.202581  1.259340  1.318778   \n",
       "1  1.006086  1.117011  1.247713  1.393709  1.556788  1.738948  1.942424   \n",
       "2  0.695374  1.186824  1.408551  1.671702  1.984016  2.354677  2.794587   \n",
       "3  0.949799  1.256637  1.579137  1.984402  2.493673  3.133642  3.937850   \n",
       "4  1.063496  1.326450  1.759470  2.333850  3.095735  4.106339  5.446854   \n",
       "\n",
       "        x_7       x_8        x_9       x_10       x_11       x_12       x_13  \\\n",
       "0  1.381021  1.446202   1.514459   1.585938   1.660790   1.739176   1.821260   \n",
       "1  2.169708  2.423588   2.707173   3.023942   3.377775   3.773011   4.214494   \n",
       "2  3.316683  3.936319   4.671717   5.544505   6.580351   7.809718   9.268760   \n",
       "3  4.948448  6.218404   7.814277   9.819709  12.339811  15.506664  19.486248   \n",
       "4  7.224981  9.583578  12.712139  16.862020  22.366630  29.668222  39.353420   \n",
       "\n",
       "        x_14       x_15  \n",
       "0   1.907219   1.997235  \n",
       "1   4.707635   5.258479  \n",
       "2  11.000386  13.055521  \n",
       "3  24.487142  30.771450  \n",
       "4  52.200353  69.241170  "
      ]
     },
     "execution_count": 11,
     "metadata": {},
     "output_type": "execute_result"
    }
   ],
   "source": [
    "for i in range(2,16):\n",
    "   colname = \"x_%d\"%i\n",
    "   df[colname] = df.x**i\n",
    "\n",
    "df.head()"
   ]
  },
  {
   "cell_type": "code",
   "execution_count": 12,
   "metadata": {},
   "outputs": [],
   "source": [
    "X = df.drop('y', axis=1)\n",
    "y = df['y']\n",
    "\n",
    "X_train = X.values\n",
    "y_train = y.values"
   ]
  },
  {
   "cell_type": "code",
   "execution_count": 13,
   "metadata": {},
   "outputs": [
    {
     "name": "stdout",
     "output_type": "stream",
     "text": [
      "Model MSE: 0.014355284174097836\n"
     ]
    },
    {
     "data": {
      "image/png": "[encoded data removed]",
      "text/plain": [
       "<Figure size 640x480 with 1 Axes>"
      ]
     },
     "metadata": {},
     "output_type": "display_data"
    }
   ],
   "source": [
    "predictors = df.columns.values[1:]\n",
    "lr3 = LinearRegression()\n",
    "lr3.fit(X_train, y_train)\n",
    "y_pred3 = lr3.predict(X_train)\n",
    "\n",
    "#Evaluate our model with mean square error\n",
    "mse3 = np.mean((y_pred3 - y_train)**2)\n",
    "print(\"Model MSE: {}\".format(mse3))\n",
    "\n",
    "plt.plot(df['x'], df['y'], '.', df['x'], y_pred2, '-')\n",
    "plt.show()"
   ]
  },
  {
   "cell_type": "code",
   "execution_count": 14,
   "metadata": {},
   "outputs": [
    {
     "name": "stdout",
     "output_type": "stream",
     "text": [
      "[ 9.73631546e+02 -1.10259931e+03 -4.82712803e+01  1.01430307e+03\n",
      " -4.54615200e+02 -7.09004575e+02  1.12915621e+03 -7.95845556e+02\n",
      "  3.49509726e+02 -1.03970195e+02  2.14211687e+01 -3.02511424e+00\n",
      "  2.80270308e-01 -1.53750638e-02  3.79007734e-04]\n"
     ]
    }
   ],
   "source": [
    "print(lr3.coef_)"
   ]
  },
  {
   "cell_type": "markdown",
   "metadata": {},
   "source": [
    "Let's check each model."
   ]
  },
  {
   "cell_type": "code",
   "execution_count": 15,
   "metadata": {},
   "outputs": [
    {
     "name": "stdout",
     "output_type": "stream",
     "text": [
      "MSE Simple LR: 0.054671926649079085\n",
      "MSE Polynomial LR with power = 5:  0.01697622659290237\n",
      "MSE Polynomial LR with power = 15: 0.014355284174097836\n"
     ]
    }
   ],
   "source": [
    "print(\"MSE Simple LR: {}\".format(mse1))\n",
    "print(\"MSE Polynomial LR with power = 5:  {}\".format(mse2))\n",
    "print(\"MSE Polynomial LR with power = 15: {}\".format(mse3))"
   ]
  },
  {
   "cell_type": "code",
   "execution_count": 16,
   "metadata": {},
   "outputs": [
    {
     "name": "stdout",
     "output_type": "stream",
     "text": [
      "Coefficients Simple LR: [-0.61957457]\n",
      "\n",
      "Coefficients Polynomial LR with power = 5:  [-5.11776235  4.72461232 -1.92856217  0.33473526 -0.02065326]\n",
      "\n",
      "Coefficients Polynomial LR with power = 15: [ 9.73631546e+02 -1.10259931e+03 -4.82712803e+01  1.01430307e+03\n",
      " -4.54615200e+02 -7.09004575e+02  1.12915621e+03 -7.95845556e+02\n",
      "  3.49509726e+02 -1.03970195e+02  2.14211687e+01 -3.02511424e+00\n",
      "  2.80270308e-01 -1.53750638e-02  3.79007734e-04]\n"
     ]
    }
   ],
   "source": [
    "print(\"Coefficients Simple LR: {}\".format(lr1.coef_))\n",
    "print()\n",
    "print(\"Coefficients Polynomial LR with power = 5:  {}\".format(lr2.coef_))\n",
    "print()\n",
    "print(\"Coefficients Polynomial LR with power = 15: {}\".format(lr3.coef_))"
   ]
  },
  {
   "cell_type": "markdown",
   "metadata": {},
   "source": [
    "We can see that\n",
    "- MSE decreases with increasing model complexity\n",
    "- Size of coefficients increase with model complexity\n",
    "\n",
    "This means we are putting a lot of emphasis on a few large coefficients or features."
   ]
  },
  {
   "cell_type": "markdown",
   "metadata": {},
   "source": [
    "#### $L_2$ Regularised linear regression\n",
    "L2 puts restriction on feature weights from taking on very large values. The objective function of L2 is:\n",
    "\n",
    "$$\n",
    "\\text{Objective function} = \\text{Regression Loss Function} + \\text{lambda} * \\text{(sum of square of coefficients)} \n",
    "$$\n",
    "\n",
    "When lambda = 0, the objective function is a simple linear regression, when lambda = infinity, coefficient will become zero. This means lambda will be values between 0 and infinity."
   ]
  },
  {
   "cell_type": "code",
   "execution_count": 19,
   "metadata": {},
   "outputs": [],
   "source": [
    "from sklearn.preprocessing import StandardScaler\n",
    "\n",
    "scaler = StandardScaler()\n",
    "X_train_scaled = scaler.fit_transform(X_train)"
   ]
  },
  {
   "cell_type": "code",
   "execution_count": 24,
   "metadata": {},
   "outputs": [
    {
     "name": "stdout",
     "output_type": "stream",
     "text": [
      "Best alpha: 0.7390722033525775\n"
     ]
    }
   ],
   "source": [
    "from sklearn.linear_model import RidgeCV\n",
    "\n",
    "lasso_cv = RidgeCV(alphas=np.logspace(-6, 1, 100), cv=5)\n",
    "lasso_cv.fit(X_train_scaled, y_train)\n",
    "best_alpha = lasso_cv.alpha_\n",
    "print(f\"Best alpha: {best_alpha}\")"
   ]
  },
  {
   "cell_type": "code",
   "execution_count": 25,
   "metadata": {},
   "outputs": [
    {
     "name": "stderr",
     "output_type": "stream",
     "text": [
      "c:\\Users\\tomde\\AppData\\Local\\Programs\\Python\\Python311\\Lib\\site-packages\\sklearn\\linear_model\\_ridge.py:204: LinAlgWarning: Ill-conditioned matrix (rcond=5.82829e-23): result may not be accurate.\n",
      "  return linalg.solve(A, Xy, assume_a=\"pos\", overwrite_a=True).T\n"
     ]
    },
    {
     "data": {
      "image/png": "[encoded data removed]",
      "text/plain": [
       "<Figure size 640x480 with 1 Axes>"
      ]
     },
     "metadata": {},
     "output_type": "display_data"
    },
    {
     "name": "stdout",
     "output_type": "stream",
     "text": [
      "\n",
      "Model MSE: 0.015701999212003704\n",
      "\n",
      "Model Coeff: [ 7.83485709e-03  1.99785770e-02  3.03460203e-02  2.98713758e-02\n",
      "  1.26609049e-02 -1.33834760e-02 -2.31852868e-02 -4.78349408e-05\n",
      "  1.94867521e-02 -1.16328302e-02  2.59364431e-03 -8.50744751e-05\n",
      " -6.32258826e-05  1.07433949e-05 -5.48810682e-07]\n"
     ]
    }
   ],
   "source": [
    "from sklearn.linear_model import Ridge\n",
    "\n",
    "#call the ridge regression model with penalty (lambda) = 0.7390722033525775\n",
    "ridgelr = Ridge(alpha=0.7390722033525775) # alpha in the function represents lambda\n",
    "\n",
    "#Fit our data\n",
    "ridgelr.fit(X_train, y_train)\n",
    "\n",
    "# Do a prediction\n",
    "y_pred4 = ridgelr.predict(X_train)\n",
    "\n",
    "#Evaluate our model with mean square error\n",
    "mse4 = np.mean((y_pred4 - y_train)**2)\n",
    "plt.plot(df['x'], df['y'], '.', df['x'], y_pred4, '-')\n",
    "plt.show()\n",
    "print()\n",
    "print(\"Model MSE: {}\".format(mse4))\n",
    "print()\n",
    "print(\"Model Coeff: {}\".format(ridgelr.coef_))"
   ]
  },
  {
   "cell_type": "markdown",
   "metadata": {},
   "source": [
    "#### $L_1$ Regularised linear regression\n",
    "L1 makes unimportant features to be zero."
   ]
  },
  {
   "cell_type": "code",
   "execution_count": 27,
   "metadata": {},
   "outputs": [
    {
     "name": "stderr",
     "output_type": "stream",
     "text": [
      "c:\\Users\\tomde\\AppData\\Local\\Programs\\Python\\Python311\\Lib\\site-packages\\sklearn\\linear_model\\_coordinate_descent.py:664: ConvergenceWarning: Objective did not converge. You might want to increase the number of iterations. Duality gap: 0.006266450672398838, tolerance: 0.00232181565979582\n",
      "  model = cd_fast.enet_coordinate_descent_gram(\n",
      "c:\\Users\\tomde\\AppData\\Local\\Programs\\Python\\Python311\\Lib\\site-packages\\sklearn\\linear_model\\_coordinate_descent.py:664: ConvergenceWarning: Objective did not converge. You might want to increase the number of iterations. Duality gap: 0.009930625191225673, tolerance: 0.00232181565979582\n",
      "  model = cd_fast.enet_coordinate_descent_gram(\n",
      "c:\\Users\\tomde\\AppData\\Local\\Programs\\Python\\Python311\\Lib\\site-packages\\sklearn\\linear_model\\_coordinate_descent.py:664: ConvergenceWarning: Objective did not converge. You might want to increase the number of iterations. Duality gap: 0.01475851260122596, tolerance: 0.00232181565979582\n",
      "  model = cd_fast.enet_coordinate_descent_gram(\n",
      "c:\\Users\\tomde\\AppData\\Local\\Programs\\Python\\Python311\\Lib\\site-packages\\sklearn\\linear_model\\_coordinate_descent.py:664: ConvergenceWarning: Objective did not converge. You might want to increase the number of iterations. Duality gap: 0.02088804877233319, tolerance: 0.00232181565979582\n",
      "  model = cd_fast.enet_coordinate_descent_gram(\n",
      "c:\\Users\\tomde\\AppData\\Local\\Programs\\Python\\Python311\\Lib\\site-packages\\sklearn\\linear_model\\_coordinate_descent.py:664: ConvergenceWarning: Objective did not converge. You might want to increase the number of iterations. Duality gap: 0.004809728565369709, tolerance: 0.0029053668204388284\n",
      "  model = cd_fast.enet_coordinate_descent_gram(\n",
      "c:\\Users\\tomde\\AppData\\Local\\Programs\\Python\\Python311\\Lib\\site-packages\\sklearn\\linear_model\\_coordinate_descent.py:664: ConvergenceWarning: Objective did not converge. You might want to increase the number of iterations. Duality gap: 0.009948806041046088, tolerance: 0.0029053668204388284\n",
      "  model = cd_fast.enet_coordinate_descent_gram(\n",
      "c:\\Users\\tomde\\AppData\\Local\\Programs\\Python\\Python311\\Lib\\site-packages\\sklearn\\linear_model\\_coordinate_descent.py:664: ConvergenceWarning: Objective did not converge. You might want to increase the number of iterations. Duality gap: 0.014954506547189661, tolerance: 0.0029053668204388284\n",
      "  model = cd_fast.enet_coordinate_descent_gram(\n",
      "c:\\Users\\tomde\\AppData\\Local\\Programs\\Python\\Python311\\Lib\\site-packages\\sklearn\\linear_model\\_coordinate_descent.py:664: ConvergenceWarning: Objective did not converge. You might want to increase the number of iterations. Duality gap: 0.02068988613838446, tolerance: 0.0029053668204388284\n",
      "  model = cd_fast.enet_coordinate_descent_gram(\n",
      "c:\\Users\\tomde\\AppData\\Local\\Programs\\Python\\Python311\\Lib\\site-packages\\sklearn\\linear_model\\_coordinate_descent.py:664: ConvergenceWarning: Objective did not converge. You might want to increase the number of iterations. Duality gap: 0.026787822774817283, tolerance: 0.0029053668204388284\n",
      "  model = cd_fast.enet_coordinate_descent_gram(\n",
      "c:\\Users\\tomde\\AppData\\Local\\Programs\\Python\\Python311\\Lib\\site-packages\\sklearn\\linear_model\\_coordinate_descent.py:664: ConvergenceWarning: Objective did not converge. You might want to increase the number of iterations. Duality gap: 0.033167433960775816, tolerance: 0.0029053668204388284\n",
      "  model = cd_fast.enet_coordinate_descent_gram(\n",
      "c:\\Users\\tomde\\AppData\\Local\\Programs\\Python\\Python311\\Lib\\site-packages\\sklearn\\linear_model\\_coordinate_descent.py:664: ConvergenceWarning: Objective did not converge. You might want to increase the number of iterations. Duality gap: 0.01472318432095554, tolerance: 0.0029053668204388284\n",
      "  model = cd_fast.enet_coordinate_descent_gram(\n",
      "c:\\Users\\tomde\\AppData\\Local\\Programs\\Python\\Python311\\Lib\\site-packages\\sklearn\\linear_model\\_coordinate_descent.py:664: ConvergenceWarning: Objective did not converge. You might want to increase the number of iterations. Duality gap: 0.03284559781736468, tolerance: 0.0029053668204388284\n",
      "  model = cd_fast.enet_coordinate_descent_gram(\n",
      "c:\\Users\\tomde\\AppData\\Local\\Programs\\Python\\Python311\\Lib\\site-packages\\sklearn\\linear_model\\_coordinate_descent.py:664: ConvergenceWarning: Objective did not converge. You might want to increase the number of iterations. Duality gap: 0.05650115269960654, tolerance: 0.0029053668204388284\n",
      "  model = cd_fast.enet_coordinate_descent_gram(\n",
      "c:\\Users\\tomde\\AppData\\Local\\Programs\\Python\\Python311\\Lib\\site-packages\\sklearn\\linear_model\\_coordinate_descent.py:664: ConvergenceWarning: Objective did not converge. You might want to increase the number of iterations. Duality gap: 0.08122232465307411, tolerance: 0.0029053668204388284\n",
      "  model = cd_fast.enet_coordinate_descent_gram(\n",
      "c:\\Users\\tomde\\AppData\\Local\\Programs\\Python\\Python311\\Lib\\site-packages\\sklearn\\linear_model\\_coordinate_descent.py:664: ConvergenceWarning: Objective did not converge. You might want to increase the number of iterations. Duality gap: 0.10440872942687646, tolerance: 0.0029053668204388284\n",
      "  model = cd_fast.enet_coordinate_descent_gram(\n",
      "c:\\Users\\tomde\\AppData\\Local\\Programs\\Python\\Python311\\Lib\\site-packages\\sklearn\\linear_model\\_coordinate_descent.py:664: ConvergenceWarning: Objective did not converge. You might want to increase the number of iterations. Duality gap: 0.12493078780678002, tolerance: 0.0029053668204388284\n",
      "  model = cd_fast.enet_coordinate_descent_gram(\n",
      "c:\\Users\\tomde\\AppData\\Local\\Programs\\Python\\Python311\\Lib\\site-packages\\sklearn\\linear_model\\_coordinate_descent.py:664: ConvergenceWarning: Objective did not converge. You might want to increase the number of iterations. Duality gap: 0.14260594916942615, tolerance: 0.0029053668204388284\n",
      "  model = cd_fast.enet_coordinate_descent_gram(\n",
      "c:\\Users\\tomde\\AppData\\Local\\Programs\\Python\\Python311\\Lib\\site-packages\\sklearn\\linear_model\\_coordinate_descent.py:664: ConvergenceWarning: Objective did not converge. You might want to increase the number of iterations. Duality gap: 0.15762644385987518, tolerance: 0.0029053668204388284\n",
      "  model = cd_fast.enet_coordinate_descent_gram(\n",
      "c:\\Users\\tomde\\AppData\\Local\\Programs\\Python\\Python311\\Lib\\site-packages\\sklearn\\linear_model\\_coordinate_descent.py:664: ConvergenceWarning: Objective did not converge. You might want to increase the number of iterations. Duality gap: 0.004109369179797651, tolerance: 0.0035810008174670714\n",
      "  model = cd_fast.enet_coordinate_descent_gram(\n",
      "c:\\Users\\tomde\\AppData\\Local\\Programs\\Python\\Python311\\Lib\\site-packages\\sklearn\\linear_model\\_coordinate_descent.py:664: ConvergenceWarning: Objective did not converge. You might want to increase the number of iterations. Duality gap: 0.005705015378108191, tolerance: 0.0035810008174670714\n",
      "  model = cd_fast.enet_coordinate_descent_gram(\n",
      "c:\\Users\\tomde\\AppData\\Local\\Programs\\Python\\Python311\\Lib\\site-packages\\sklearn\\linear_model\\_coordinate_descent.py:664: ConvergenceWarning: Objective did not converge. You might want to increase the number of iterations. Duality gap: 0.011302232445445148, tolerance: 0.0035810008174670714\n",
      "  model = cd_fast.enet_coordinate_descent_gram(\n",
      "c:\\Users\\tomde\\AppData\\Local\\Programs\\Python\\Python311\\Lib\\site-packages\\sklearn\\linear_model\\_coordinate_descent.py:664: ConvergenceWarning: Objective did not converge. You might want to increase the number of iterations. Duality gap: 0.016186171260111015, tolerance: 0.0035810008174670714\n",
      "  model = cd_fast.enet_coordinate_descent_gram(\n",
      "c:\\Users\\tomde\\AppData\\Local\\Programs\\Python\\Python311\\Lib\\site-packages\\sklearn\\linear_model\\_coordinate_descent.py:664: ConvergenceWarning: Objective did not converge. You might want to increase the number of iterations. Duality gap: 0.01933926397464436, tolerance: 0.0035810008174670714\n",
      "  model = cd_fast.enet_coordinate_descent_gram(\n",
      "c:\\Users\\tomde\\AppData\\Local\\Programs\\Python\\Python311\\Lib\\site-packages\\sklearn\\linear_model\\_coordinate_descent.py:664: ConvergenceWarning: Objective did not converge. You might want to increase the number of iterations. Duality gap: 0.02084533190431359, tolerance: 0.0035810008174670714\n",
      "  model = cd_fast.enet_coordinate_descent_gram(\n",
      "c:\\Users\\tomde\\AppData\\Local\\Programs\\Python\\Python311\\Lib\\site-packages\\sklearn\\linear_model\\_coordinate_descent.py:664: ConvergenceWarning: Objective did not converge. You might want to increase the number of iterations. Duality gap: 0.021734522923148925, tolerance: 0.0035810008174670714\n",
      "  model = cd_fast.enet_coordinate_descent_gram(\n",
      "c:\\Users\\tomde\\AppData\\Local\\Programs\\Python\\Python311\\Lib\\site-packages\\sklearn\\linear_model\\_coordinate_descent.py:664: ConvergenceWarning: Objective did not converge. You might want to increase the number of iterations. Duality gap: 0.022032330165259073, tolerance: 0.0035810008174670714\n",
      "  model = cd_fast.enet_coordinate_descent_gram(\n",
      "c:\\Users\\tomde\\AppData\\Local\\Programs\\Python\\Python311\\Lib\\site-packages\\sklearn\\linear_model\\_coordinate_descent.py:664: ConvergenceWarning: Objective did not converge. You might want to increase the number of iterations. Duality gap: 0.0230324974120637, tolerance: 0.0035810008174670714\n",
      "  model = cd_fast.enet_coordinate_descent_gram(\n",
      "c:\\Users\\tomde\\AppData\\Local\\Programs\\Python\\Python311\\Lib\\site-packages\\sklearn\\linear_model\\_coordinate_descent.py:664: ConvergenceWarning: Objective did not converge. You might want to increase the number of iterations. Duality gap: 0.024007335455524137, tolerance: 0.0035810008174670714\n",
      "  model = cd_fast.enet_coordinate_descent_gram(\n",
      "c:\\Users\\tomde\\AppData\\Local\\Programs\\Python\\Python311\\Lib\\site-packages\\sklearn\\linear_model\\_coordinate_descent.py:664: ConvergenceWarning: Objective did not converge. You might want to increase the number of iterations. Duality gap: 0.02722226273765649, tolerance: 0.0035810008174670714\n",
      "  model = cd_fast.enet_coordinate_descent_gram(\n",
      "c:\\Users\\tomde\\AppData\\Local\\Programs\\Python\\Python311\\Lib\\site-packages\\sklearn\\linear_model\\_coordinate_descent.py:664: ConvergenceWarning: Objective did not converge. You might want to increase the number of iterations. Duality gap: 0.03268661565424402, tolerance: 0.0035810008174670714\n",
      "  model = cd_fast.enet_coordinate_descent_gram(\n",
      "c:\\Users\\tomde\\AppData\\Local\\Programs\\Python\\Python311\\Lib\\site-packages\\sklearn\\linear_model\\_coordinate_descent.py:664: ConvergenceWarning: Objective did not converge. You might want to increase the number of iterations. Duality gap: 0.039240798560403856, tolerance: 0.0035810008174670714\n",
      "  model = cd_fast.enet_coordinate_descent_gram(\n",
      "c:\\Users\\tomde\\AppData\\Local\\Programs\\Python\\Python311\\Lib\\site-packages\\sklearn\\linear_model\\_coordinate_descent.py:664: ConvergenceWarning: Objective did not converge. You might want to increase the number of iterations. Duality gap: 0.04757082421783676, tolerance: 0.0035810008174670714\n",
      "  model = cd_fast.enet_coordinate_descent_gram(\n",
      "c:\\Users\\tomde\\AppData\\Local\\Programs\\Python\\Python311\\Lib\\site-packages\\sklearn\\linear_model\\_coordinate_descent.py:664: ConvergenceWarning: Objective did not converge. You might want to increase the number of iterations. Duality gap: 0.06054858295376475, tolerance: 0.0035810008174670714\n",
      "  model = cd_fast.enet_coordinate_descent_gram(\n",
      "c:\\Users\\tomde\\AppData\\Local\\Programs\\Python\\Python311\\Lib\\site-packages\\sklearn\\linear_model\\_coordinate_descent.py:664: ConvergenceWarning: Objective did not converge. You might want to increase the number of iterations. Duality gap: 0.07492414744526843, tolerance: 0.0035810008174670714\n",
      "  model = cd_fast.enet_coordinate_descent_gram(\n",
      "c:\\Users\\tomde\\AppData\\Local\\Programs\\Python\\Python311\\Lib\\site-packages\\sklearn\\linear_model\\_coordinate_descent.py:664: ConvergenceWarning: Objective did not converge. You might want to increase the number of iterations. Duality gap: 0.004561989029383762, tolerance: 0.002780194041837499\n",
      "  model = cd_fast.enet_coordinate_descent_gram(\n",
      "c:\\Users\\tomde\\AppData\\Local\\Programs\\Python\\Python311\\Lib\\site-packages\\sklearn\\linear_model\\_coordinate_descent.py:664: ConvergenceWarning: Objective did not converge. You might want to increase the number of iterations. Duality gap: 0.004847290066245957, tolerance: 0.002780194041837499\n",
      "  model = cd_fast.enet_coordinate_descent_gram(\n",
      "c:\\Users\\tomde\\AppData\\Local\\Programs\\Python\\Python311\\Lib\\site-packages\\sklearn\\linear_model\\_coordinate_descent.py:664: ConvergenceWarning: Objective did not converge. You might want to increase the number of iterations. Duality gap: 0.005821195798560774, tolerance: 0.002780194041837499\n",
      "  model = cd_fast.enet_coordinate_descent_gram(\n",
      "c:\\Users\\tomde\\AppData\\Local\\Programs\\Python\\Python311\\Lib\\site-packages\\sklearn\\linear_model\\_coordinate_descent.py:664: ConvergenceWarning: Objective did not converge. You might want to increase the number of iterations. Duality gap: 0.007338924264963742, tolerance: 0.002780194041837499\n",
      "  model = cd_fast.enet_coordinate_descent_gram(\n",
      "c:\\Users\\tomde\\AppData\\Local\\Programs\\Python\\Python311\\Lib\\site-packages\\sklearn\\linear_model\\_coordinate_descent.py:664: ConvergenceWarning: Objective did not converge. You might want to increase the number of iterations. Duality gap: 0.004203604645783843, tolerance: 0.002780194041837499\n",
      "  model = cd_fast.enet_coordinate_descent_gram(\n",
      "c:\\Users\\tomde\\AppData\\Local\\Programs\\Python\\Python311\\Lib\\site-packages\\sklearn\\linear_model\\_coordinate_descent.py:664: ConvergenceWarning: Objective did not converge. You might want to increase the number of iterations. Duality gap: 0.004815794776167337, tolerance: 0.002780194041837499\n",
      "  model = cd_fast.enet_coordinate_descent_gram(\n",
      "c:\\Users\\tomde\\AppData\\Local\\Programs\\Python\\Python311\\Lib\\site-packages\\sklearn\\linear_model\\_coordinate_descent.py:664: ConvergenceWarning: Objective did not converge. You might want to increase the number of iterations. Duality gap: 0.0063740450114798675, tolerance: 0.002780194041837499\n",
      "  model = cd_fast.enet_coordinate_descent_gram(\n",
      "c:\\Users\\tomde\\AppData\\Local\\Programs\\Python\\Python311\\Lib\\site-packages\\sklearn\\linear_model\\_coordinate_descent.py:664: ConvergenceWarning: Objective did not converge. You might want to increase the number of iterations. Duality gap: 0.003156618879459394, tolerance: 0.002780194041837499\n",
      "  model = cd_fast.enet_coordinate_descent_gram(\n",
      "c:\\Users\\tomde\\AppData\\Local\\Programs\\Python\\Python311\\Lib\\site-packages\\sklearn\\linear_model\\_coordinate_descent.py:664: ConvergenceWarning: Objective did not converge. You might want to increase the number of iterations. Duality gap: 0.0037308690562051217, tolerance: 0.002780194041837499\n",
      "  model = cd_fast.enet_coordinate_descent_gram(\n",
      "c:\\Users\\tomde\\AppData\\Local\\Programs\\Python\\Python311\\Lib\\site-packages\\sklearn\\linear_model\\_coordinate_descent.py:664: ConvergenceWarning: Objective did not converge. You might want to increase the number of iterations. Duality gap: 0.006572937175349791, tolerance: 0.002780194041837499\n",
      "  model = cd_fast.enet_coordinate_descent_gram(\n",
      "c:\\Users\\tomde\\AppData\\Local\\Programs\\Python\\Python311\\Lib\\site-packages\\sklearn\\linear_model\\_coordinate_descent.py:664: ConvergenceWarning: Objective did not converge. You might want to increase the number of iterations. Duality gap: 0.010246307299103474, tolerance: 0.002780194041837499\n",
      "  model = cd_fast.enet_coordinate_descent_gram(\n",
      "c:\\Users\\tomde\\AppData\\Local\\Programs\\Python\\Python311\\Lib\\site-packages\\sklearn\\linear_model\\_coordinate_descent.py:664: ConvergenceWarning: Objective did not converge. You might want to increase the number of iterations. Duality gap: 0.007009711114461137, tolerance: 0.002780194041837499\n",
      "  model = cd_fast.enet_coordinate_descent_gram(\n",
      "c:\\Users\\tomde\\AppData\\Local\\Programs\\Python\\Python311\\Lib\\site-packages\\sklearn\\linear_model\\_coordinate_descent.py:664: ConvergenceWarning: Objective did not converge. You might want to increase the number of iterations. Duality gap: 0.017643071836190627, tolerance: 0.002780194041837499\n",
      "  model = cd_fast.enet_coordinate_descent_gram(\n",
      "c:\\Users\\tomde\\AppData\\Local\\Programs\\Python\\Python311\\Lib\\site-packages\\sklearn\\linear_model\\_coordinate_descent.py:664: ConvergenceWarning: Objective did not converge. You might want to increase the number of iterations. Duality gap: 0.029845473450619164, tolerance: 0.002780194041837499\n",
      "  model = cd_fast.enet_coordinate_descent_gram(\n",
      "c:\\Users\\tomde\\AppData\\Local\\Programs\\Python\\Python311\\Lib\\site-packages\\sklearn\\linear_model\\_coordinate_descent.py:664: ConvergenceWarning: Objective did not converge. You might want to increase the number of iterations. Duality gap: 0.04047968305515137, tolerance: 0.002780194041837499\n",
      "  model = cd_fast.enet_coordinate_descent_gram(\n",
      "c:\\Users\\tomde\\AppData\\Local\\Programs\\Python\\Python311\\Lib\\site-packages\\sklearn\\linear_model\\_coordinate_descent.py:664: ConvergenceWarning: Objective did not converge. You might want to increase the number of iterations. Duality gap: 0.051495165062496184, tolerance: 0.002780194041837499\n",
      "  model = cd_fast.enet_coordinate_descent_gram(\n",
      "c:\\Users\\tomde\\AppData\\Local\\Programs\\Python\\Python311\\Lib\\site-packages\\sklearn\\linear_model\\_coordinate_descent.py:664: ConvergenceWarning: Objective did not converge. You might want to increase the number of iterations. Duality gap: 0.062204235007343955, tolerance: 0.002780194041837499\n",
      "  model = cd_fast.enet_coordinate_descent_gram(\n",
      "c:\\Users\\tomde\\AppData\\Local\\Programs\\Python\\Python311\\Lib\\site-packages\\sklearn\\linear_model\\_coordinate_descent.py:664: ConvergenceWarning: Objective did not converge. You might want to increase the number of iterations. Duality gap: 0.0737385931296517, tolerance: 0.002780194041837499\n",
      "  model = cd_fast.enet_coordinate_descent_gram(\n",
      "c:\\Users\\tomde\\AppData\\Local\\Programs\\Python\\Python311\\Lib\\site-packages\\sklearn\\linear_model\\_coordinate_descent.py:664: ConvergenceWarning: Objective did not converge. You might want to increase the number of iterations. Duality gap: 0.08831151298388651, tolerance: 0.002780194041837499\n",
      "  model = cd_fast.enet_coordinate_descent_gram(\n",
      "c:\\Users\\tomde\\AppData\\Local\\Programs\\Python\\Python311\\Lib\\site-packages\\sklearn\\linear_model\\_coordinate_descent.py:664: ConvergenceWarning: Objective did not converge. You might want to increase the number of iterations. Duality gap: 0.10664474595051865, tolerance: 0.002780194041837499\n",
      "  model = cd_fast.enet_coordinate_descent_gram(\n",
      "c:\\Users\\tomde\\AppData\\Local\\Programs\\Python\\Python311\\Lib\\site-packages\\sklearn\\linear_model\\_coordinate_descent.py:664: ConvergenceWarning: Objective did not converge. You might want to increase the number of iterations. Duality gap: 0.004588271637504526, tolerance: 0.0023324241397638234\n",
      "  model = cd_fast.enet_coordinate_descent_gram(\n",
      "c:\\Users\\tomde\\AppData\\Local\\Programs\\Python\\Python311\\Lib\\site-packages\\sklearn\\linear_model\\_coordinate_descent.py:664: ConvergenceWarning: Objective did not converge. You might want to increase the number of iterations. Duality gap: 0.011944715378968684, tolerance: 0.0023324241397638234\n",
      "  model = cd_fast.enet_coordinate_descent_gram(\n",
      "c:\\Users\\tomde\\AppData\\Local\\Programs\\Python\\Python311\\Lib\\site-packages\\sklearn\\linear_model\\_coordinate_descent.py:664: ConvergenceWarning: Objective did not converge. You might want to increase the number of iterations. Duality gap: 0.02161539514005195, tolerance: 0.0023324241397638234\n",
      "  model = cd_fast.enet_coordinate_descent_gram(\n",
      "c:\\Users\\tomde\\AppData\\Local\\Programs\\Python\\Python311\\Lib\\site-packages\\sklearn\\linear_model\\_coordinate_descent.py:664: ConvergenceWarning: Objective did not converge. You might want to increase the number of iterations. Duality gap: 0.032407493140383936, tolerance: 0.0023324241397638234\n",
      "  model = cd_fast.enet_coordinate_descent_gram(\n",
      "c:\\Users\\tomde\\AppData\\Local\\Programs\\Python\\Python311\\Lib\\site-packages\\sklearn\\linear_model\\_coordinate_descent.py:664: ConvergenceWarning: Objective did not converge. You might want to increase the number of iterations. Duality gap: 0.044100583629465895, tolerance: 0.0023324241397638234\n",
      "  model = cd_fast.enet_coordinate_descent_gram(\n",
      "c:\\Users\\tomde\\AppData\\Local\\Programs\\Python\\Python311\\Lib\\site-packages\\sklearn\\linear_model\\_coordinate_descent.py:664: ConvergenceWarning: Objective did not converge. You might want to increase the number of iterations. Duality gap: 0.05627859695780024, tolerance: 0.0023324241397638234\n",
      "  model = cd_fast.enet_coordinate_descent_gram(\n",
      "c:\\Users\\tomde\\AppData\\Local\\Programs\\Python\\Python311\\Lib\\site-packages\\sklearn\\linear_model\\_coordinate_descent.py:664: ConvergenceWarning: Objective did not converge. You might want to increase the number of iterations. Duality gap: 0.08475704879460388, tolerance: 0.0023324241397638234\n",
      "  model = cd_fast.enet_coordinate_descent_gram(\n"
     ]
    },
    {
     "name": "stdout",
     "output_type": "stream",
     "text": [
      "Best alpha: 0.001788649529057435\n"
     ]
    },
    {
     "name": "stderr",
     "output_type": "stream",
     "text": [
      "c:\\Users\\tomde\\AppData\\Local\\Programs\\Python\\Python311\\Lib\\site-packages\\sklearn\\linear_model\\_coordinate_descent.py:664: ConvergenceWarning: Objective did not converge. You might want to increase the number of iterations. Duality gap: 0.13268303494094347, tolerance: 0.0023324241397638234\n",
      "  model = cd_fast.enet_coordinate_descent_gram(\n"
     ]
    }
   ],
   "source": [
    "from sklearn.linear_model import LassoCV\n",
    "\n",
    "lasso_cv = LassoCV(alphas=np.logspace(-6, 1, 100), cv=5, max_iter=100000)\n",
    "lasso_cv.fit(X_train_scaled, y_train)\n",
    "best_alpha = lasso_cv.alpha_\n",
    "print(f\"Best alpha: {best_alpha}\")"
   ]
  },
  {
   "cell_type": "code",
   "execution_count": 28,
   "metadata": {},
   "outputs": [
    {
     "name": "stderr",
     "output_type": "stream",
     "text": [
      "c:\\Users\\tomde\\AppData\\Local\\Programs\\Python\\Python311\\Lib\\site-packages\\sklearn\\linear_model\\_coordinate_descent.py:678: ConvergenceWarning: Objective did not converge. You might want to increase the number of iterations, check the scale of the features or consider increasing regularisation. Duality gap: 4.954e-01, tolerance: 3.695e-03\n",
      "  model = cd_fast.enet_coordinate_descent(\n"
     ]
    },
    {
     "data": {
      "image/png": "[encoded data removed]",
      "text/plain": [
       "<Figure size 640x480 with 1 Axes>"
      ]
     },
     "metadata": {},
     "output_type": "display_data"
    },
    {
     "name": "stdout",
     "output_type": "stream",
     "text": [
      "\n",
      "Model MSE: 0.016291175410678548\n",
      "\n",
      "Model Coeff: [ 0.00000000e+00  4.35322678e-02  0.00000000e+00 -1.83832546e-02\n",
      " -2.50730227e-05  3.09973196e-04  3.85145543e-05  3.63052521e-06\n",
      "  3.62094120e-07  5.42846677e-08  1.00204982e-08  1.31531145e-09\n",
      " -8.13443028e-11 -1.30999980e-10 -5.73667120e-11]\n"
     ]
    }
   ],
   "source": [
    "from sklearn.linear_model import Lasso\n",
    "\n",
    "#call the lasso regression model with penalty (alpha) = 0.001788649529057435\n",
    "# we also specify the max number of iterations as 10^5\n",
    "lassoreg = Lasso(alpha=0.001788649529057435, max_iter=100000) # alpha in the function represents lambda \n",
    "\n",
    "#Fit our data\n",
    "lassoreg.fit(X_train, y_train)\n",
    "\n",
    "# Do a prediction\n",
    "y_pred5 = lassoreg.predict(X_train)\n",
    "\n",
    "#Evaluate our model with mean square error\n",
    "mse5 = np.mean((y_pred5 - y_train)**2)\n",
    "\n",
    "plt.plot(df['x'], df['y'], '.', df['x'], y_pred5, '-')\n",
    "plt.show()\n",
    "print()\n",
    "print (\"Model MSE: {}\".format(mse5))\n",
    "print()\n",
    "print(\"Model Coeff: {}\".format(lassoreg.coef_))"
   ]
  },
  {
   "cell_type": "markdown",
   "metadata": {},
   "source": [
    "### 6.6 Logistic regression in python"
   ]
  },
  {
   "cell_type": "code",
   "execution_count": 1,
   "metadata": {},
   "outputs": [
    {
     "data": {
      "text/html": [
       "<div>\n",
       "<style scoped>\n",
       "    .dataframe tbody tr th:only-of-type {\n",
       "        vertical-align: middle;\n",
       "    }\n",
       "\n",
       "    .dataframe tbody tr th {\n",
       "        vertical-align: top;\n",
       "    }\n",
       "\n",
       "    .dataframe thead th {\n",
       "        text-align: right;\n",
       "    }\n",
       "</style>\n",
       "<table border=\"1\" class=\"dataframe\">\n",
       "  <thead>\n",
       "    <tr style=\"text-align: right;\">\n",
       "      <th></th>\n",
       "      <th>Patient_ID</th>\n",
       "      <th>Diagnosis</th>\n",
       "      <th>f1</th>\n",
       "      <th>f2</th>\n",
       "      <th>f3</th>\n",
       "      <th>f4</th>\n",
       "      <th>f5</th>\n",
       "      <th>f6</th>\n",
       "      <th>f7</th>\n",
       "      <th>f8</th>\n",
       "      <th>...</th>\n",
       "      <th>f21</th>\n",
       "      <th>f22</th>\n",
       "      <th>f23</th>\n",
       "      <th>f24</th>\n",
       "      <th>f25</th>\n",
       "      <th>f26</th>\n",
       "      <th>f27</th>\n",
       "      <th>f28</th>\n",
       "      <th>f29</th>\n",
       "      <th>f30</th>\n",
       "    </tr>\n",
       "  </thead>\n",
       "  <tbody>\n",
       "    <tr>\n",
       "      <th>0</th>\n",
       "      <td>909410</td>\n",
       "      <td>B</td>\n",
       "      <td>14.02</td>\n",
       "      <td>15.66</td>\n",
       "      <td>89.59</td>\n",
       "      <td>606.5</td>\n",
       "      <td>0.07966</td>\n",
       "      <td>0.05581</td>\n",
       "      <td>0.02087</td>\n",
       "      <td>0.02652</td>\n",
       "      <td>...</td>\n",
       "      <td>14.91</td>\n",
       "      <td>19.31</td>\n",
       "      <td>96.53</td>\n",
       "      <td>688.9</td>\n",
       "      <td>0.10340</td>\n",
       "      <td>0.1017</td>\n",
       "      <td>0.06260</td>\n",
       "      <td>0.08216</td>\n",
       "      <td>0.2136</td>\n",
       "      <td>0.06710</td>\n",
       "    </tr>\n",
       "    <tr>\n",
       "      <th>1</th>\n",
       "      <td>84358402</td>\n",
       "      <td>M</td>\n",
       "      <td>20.29</td>\n",
       "      <td>14.34</td>\n",
       "      <td>135.10</td>\n",
       "      <td>1297.0</td>\n",
       "      <td>0.10030</td>\n",
       "      <td>0.13280</td>\n",
       "      <td>0.19800</td>\n",
       "      <td>0.10430</td>\n",
       "      <td>...</td>\n",
       "      <td>22.54</td>\n",
       "      <td>16.67</td>\n",
       "      <td>152.20</td>\n",
       "      <td>1575.0</td>\n",
       "      <td>0.13740</td>\n",
       "      <td>0.2050</td>\n",
       "      <td>0.40000</td>\n",
       "      <td>0.16250</td>\n",
       "      <td>0.2364</td>\n",
       "      <td>0.07678</td>\n",
       "    </tr>\n",
       "    <tr>\n",
       "      <th>2</th>\n",
       "      <td>8912284</td>\n",
       "      <td>B</td>\n",
       "      <td>12.89</td>\n",
       "      <td>15.70</td>\n",
       "      <td>84.08</td>\n",
       "      <td>516.6</td>\n",
       "      <td>0.07818</td>\n",
       "      <td>0.09580</td>\n",
       "      <td>0.11150</td>\n",
       "      <td>0.03390</td>\n",
       "      <td>...</td>\n",
       "      <td>13.90</td>\n",
       "      <td>19.69</td>\n",
       "      <td>92.12</td>\n",
       "      <td>595.6</td>\n",
       "      <td>0.09926</td>\n",
       "      <td>0.2317</td>\n",
       "      <td>0.33440</td>\n",
       "      <td>0.10170</td>\n",
       "      <td>0.1999</td>\n",
       "      <td>0.07127</td>\n",
       "    </tr>\n",
       "    <tr>\n",
       "      <th>3</th>\n",
       "      <td>90317302</td>\n",
       "      <td>B</td>\n",
       "      <td>10.26</td>\n",
       "      <td>12.22</td>\n",
       "      <td>65.75</td>\n",
       "      <td>321.6</td>\n",
       "      <td>0.09996</td>\n",
       "      <td>0.07542</td>\n",
       "      <td>0.01923</td>\n",
       "      <td>0.01968</td>\n",
       "      <td>...</td>\n",
       "      <td>11.38</td>\n",
       "      <td>15.65</td>\n",
       "      <td>73.23</td>\n",
       "      <td>394.5</td>\n",
       "      <td>0.13430</td>\n",
       "      <td>0.1650</td>\n",
       "      <td>0.08615</td>\n",
       "      <td>0.06696</td>\n",
       "      <td>0.2937</td>\n",
       "      <td>0.07722</td>\n",
       "    </tr>\n",
       "    <tr>\n",
       "      <th>4</th>\n",
       "      <td>914102</td>\n",
       "      <td>B</td>\n",
       "      <td>13.16</td>\n",
       "      <td>20.54</td>\n",
       "      <td>84.06</td>\n",
       "      <td>538.7</td>\n",
       "      <td>0.07335</td>\n",
       "      <td>0.05275</td>\n",
       "      <td>0.01800</td>\n",
       "      <td>0.01256</td>\n",
       "      <td>...</td>\n",
       "      <td>14.50</td>\n",
       "      <td>28.46</td>\n",
       "      <td>95.29</td>\n",
       "      <td>648.3</td>\n",
       "      <td>0.11180</td>\n",
       "      <td>0.1646</td>\n",
       "      <td>0.07698</td>\n",
       "      <td>0.04195</td>\n",
       "      <td>0.2687</td>\n",
       "      <td>0.07429</td>\n",
       "    </tr>\n",
       "  </tbody>\n",
       "</table>\n",
       "<p>5 rows × 32 columns</p>\n",
       "</div>"
      ],
      "text/plain": [
       "   Patient_ID Diagnosis     f1     f2      f3      f4       f5       f6  \\\n",
       "0      909410         B  14.02  15.66   89.59   606.5  0.07966  0.05581   \n",
       "1    84358402         M  20.29  14.34  135.10  1297.0  0.10030  0.13280   \n",
       "2     8912284         B  12.89  15.70   84.08   516.6  0.07818  0.09580   \n",
       "3    90317302         B  10.26  12.22   65.75   321.6  0.09996  0.07542   \n",
       "4      914102         B  13.16  20.54   84.06   538.7  0.07335  0.05275   \n",
       "\n",
       "        f7       f8  ...    f21    f22     f23     f24      f25     f26  \\\n",
       "0  0.02087  0.02652  ...  14.91  19.31   96.53   688.9  0.10340  0.1017   \n",
       "1  0.19800  0.10430  ...  22.54  16.67  152.20  1575.0  0.13740  0.2050   \n",
       "2  0.11150  0.03390  ...  13.90  19.69   92.12   595.6  0.09926  0.2317   \n",
       "3  0.01923  0.01968  ...  11.38  15.65   73.23   394.5  0.13430  0.1650   \n",
       "4  0.01800  0.01256  ...  14.50  28.46   95.29   648.3  0.11180  0.1646   \n",
       "\n",
       "       f27      f28     f29      f30  \n",
       "0  0.06260  0.08216  0.2136  0.06710  \n",
       "1  0.40000  0.16250  0.2364  0.07678  \n",
       "2  0.33440  0.10170  0.1999  0.07127  \n",
       "3  0.08615  0.06696  0.2937  0.07722  \n",
       "4  0.07698  0.04195  0.2687  0.07429  \n",
       "\n",
       "[5 rows x 32 columns]"
      ]
     },
     "execution_count": 1,
     "metadata": {},
     "output_type": "execute_result"
    }
   ],
   "source": [
    "from sklearn.model_selection import train_test_split\n",
    "import pandas as pd\n",
    "train_data=pd.read_csv(\"train_wbcd.csv\")\n",
    "test_data=pd.read_csv(\"test_wbcd.csv\")\n",
    "train_data.head()"
   ]
  },
  {
   "cell_type": "code",
   "execution_count": 2,
   "metadata": {},
   "outputs": [
    {
     "name": "stdout",
     "output_type": "stream",
     "text": [
      "Train:  (98, 32)\n",
      "Test:  (19, 32)\n"
     ]
    }
   ],
   "source": [
    "from sklearn import preprocessing\n",
    "le = preprocessing.LabelEncoder()\n",
    "train_data=train_data.dropna()\n",
    "test_data=test_data.dropna()\n",
    "# Encode “diagnosis” to numerical values\n",
    "train_data['Diagnosis'] = le.fit_transform(train_data['Diagnosis'].values)#[1 if each == 'M' else 0 for each in train_data['Diagnosis']]\n",
    "test_data['Diagnosis'] = le.fit_transform(test_data['Diagnosis'].values)\n",
    "X_train=train_data.iloc[:,2:]\n",
    "y_train=train_data.iloc[:,1]\n",
    "X_test=test_data.iloc[:,2:]\n",
    "y_test=test_data.iloc[:,1]\n",
    "print(\"Train: \",train_data.shape)\n",
    "print(\"Test: \",test_data.shape)"
   ]
  },
  {
   "cell_type": "markdown",
   "metadata": {},
   "source": [
    "#### Regularization using $L_1$ and $L_2$\n",
    "- Penalty: can either be L1 or L2.\n",
    "- C: inverse of regularization parameter lambda or alpha, the smaller the values, the stronger the regularizer.\n",
    "\n",
    "We will try with lambda = 0.1, and C = 1/0.1"
   ]
  },
  {
   "cell_type": "code",
   "execution_count": 4,
   "metadata": {},
   "outputs": [
    {
     "name": "stdout",
     "output_type": "stream",
     "text": [
      "Model Accuracy is: 0.8421052631578947\n",
      "Model Coeff: [-2.09606231e-01 -1.36150529e+00 -1.93521967e-01 -2.79829408e+00\n",
      "  1.95540780e-01  1.98827219e-02  1.35160464e-01  1.98270589e-01\n",
      "  8.30472097e-02  4.02900688e-02  6.80496375e-04 -5.90643773e-02\n",
      " -5.65560243e-01  3.53530855e-01 -1.70851704e-01  1.67244250e-03\n",
      "  3.13264070e-02  4.93750403e-02  1.26806220e-02 -4.95102566e-05\n",
      "  2.74942670e-03 -1.62013320e+00  1.29460817e+00  1.59352200e+00\n",
      " -1.84163116e-02  3.88088236e-02  3.96018730e-01  5.25100507e-01\n",
      "  1.65878430e-01  8.30877217e-02  2.55865001e-02]\n"
     ]
    },
    {
     "name": "stderr",
     "output_type": "stream",
     "text": [
      "c:\\Users\\tomde\\AppData\\Local\\Programs\\Python\\Python311\\Lib\\site-packages\\sklearn\\linear_model\\_logistic.py:469: ConvergenceWarning: lbfgs failed to converge (status=1):\n",
      "STOP: TOTAL NO. of ITERATIONS REACHED LIMIT.\n",
      "\n",
      "Increase the number of iterations (max_iter) or scale the data as shown in:\n",
      "    https://scikit-learn.org/stable/modules/preprocessing.html\n",
      "Please also refer to the documentation for alternative solver options:\n",
      "    https://scikit-learn.org/stable/modules/linear_model.html#logistic-regression\n",
      "  n_iter_i = _check_optimize_result(\n"
     ]
    }
   ],
   "source": [
    "from sklearn.linear_model import LogisticRegression\n",
    "from sklearn.metrics import accuracy_score\n",
    "import numpy as np\n",
    "\n",
    "lambda_val = 0.1\n",
    "#Initialize the Logitic regression model with l2 penalty\n",
    "lr = LogisticRegression(C=1/lambda_val, penalty='l2')\n",
    "lr.fit(X_train, y_train)\n",
    "y_predict = lr.predict(X_test)\n",
    "\n",
    "#Evaluate our model\n",
    "model_acc = accuracy_score(y_predict, y_test)\n",
    "print(\"Model Accuracy is: {}\".format(model_acc))\n",
    "\n",
    "print(\"Model Coeff: {}\".format(np.append(lr.intercept_, lr.coef_)))"
   ]
  },
  {
   "cell_type": "markdown",
   "metadata": {},
   "source": [
    "Let's calculate the average accuracy over 500 runs of L1 and L2 regularised Logistic regression. "
   ]
  },
  {
   "cell_type": "code",
   "execution_count": 12,
   "metadata": {},
   "outputs": [],
   "source": [
    "def runLRmodel(trials, data, label, penalty_type, penalty_score):\n",
    "\n",
    "   model_acc     = 0\n",
    "   model_weights = np.zeros([1,31])\n",
    "\n",
    "   for i in range(0,trials):\n",
    "      Dtrain, Dtest = train_test_split(train_data, test_size=0.3)\n",
    "      lr = LogisticRegression(C=1/penalty_score, penalty=penalty_type, solver='liblinear', max_iter=100000)\n",
    "      lr.fit(Dtrain.iloc[:,2:], Dtrain[label])\n",
    "      y_predict = lr.predict(Dtest.iloc[:,2:])\n",
    "      model_acc += accuracy_score(y_predict, Dtest[label])\n",
    "      model_weights += np.append(lr.intercept_, lr.coef_)\n",
    "\n",
    "   model_acc /= trials\n",
    "   model_weights /= trials\n",
    "\n",
    "   return np.round(model_acc, decimals=2), np.round(model_weights,decimals=2)"
   ]
  },
  {
   "cell_type": "markdown",
   "metadata": {},
   "source": [
    "L2"
   ]
  },
  {
   "cell_type": "code",
   "execution_count": 13,
   "metadata": {},
   "outputs": [
    {
     "name": "stdout",
     "output_type": "stream",
     "text": [
      "Acc: [0.95 0.95 0.95 0.95 0.95 0.95 0.95 0.95 0.94 0.94 0.93 0.92]\n",
      "Best Lambda: 0.0001\n"
     ]
    }
   ],
   "source": [
    "lambda_vals = [.0001,.0003,.001,.003,.01,.03,.1,.3,1,3,5,10]\n",
    "l2_acc = np.zeros(len(lambda_vals))\n",
    "index = 0\n",
    "#L2 regularization\n",
    "for l in lambda_vals:\n",
    "   l2_acc[index], w = runLRmodel(500,train_data, 'Diagnosis', 'l2', float(l))\n",
    "   index += 1\n",
    "\n",
    "print(\"Acc: {}\".format(l2_acc))\n",
    "# penalty at which validation accuracy is maximum\n",
    "max_index_l2  = np.argmax(l2_acc)\n",
    "best_lambda = lambda_vals[max_index_l2]\n",
    "print(\"Best Lambda: {}\".format(best_lambda))"
   ]
  },
  {
   "cell_type": "markdown",
   "metadata": {},
   "source": [
    "L1"
   ]
  },
  {
   "cell_type": "code",
   "execution_count": 14,
   "metadata": {},
   "outputs": [
    {
     "name": "stdout",
     "output_type": "stream",
     "text": [
      "Acc: [0.95 0.95 0.96 0.96 0.96 0.96 0.96 0.96 0.93 0.92 0.92 0.91]\n",
      "Best Alpha: 0.001\n"
     ]
    }
   ],
   "source": [
    "alpha_vals = [.0001,.0003,.001,.003,.01,.03,.1,.3,1,3,5,10]\n",
    "l1_acc = np.zeros(len(alpha_vals))\n",
    "index = 0\n",
    "#L2 regularization\n",
    "for l in alpha_vals:\n",
    "   l1_acc[index], w = runLRmodel(500,train_data, 'Diagnosis', 'l1', float(l))\n",
    "   index += 1\n",
    "\n",
    "print(\"Acc: {}\".format(l1_acc))\n",
    "# penalty at which validation accuracy is maximum\n",
    "max_index_l1  = np.argmax(l1_acc)\n",
    "best_alpha = alpha_vals[max_index_l1]\n",
    "print(\"Best Alpha: {}\".format(best_alpha))"
   ]
  },
  {
   "cell_type": "markdown",
   "metadata": {},
   "source": [
    "Plot the average model accuracy with respect the alpha or lambda."
   ]
  },
  {
   "cell_type": "code",
   "execution_count": 16,
   "metadata": {},
   "outputs": [
    {
     "data": {
      "image/png": "[encoded data removed]",
      "text/plain": [
       "<Figure size 640x480 with 1 Axes>"
      ]
     },
     "metadata": {},
     "output_type": "display_data"
    }
   ],
   "source": [
    "import matplotlib.pyplot as plt\n",
    "\n",
    "#plot the accuracy curve\n",
    "plt.plot(range(0,len(lambda_vals)), l2_acc, color='b', label='L2')\n",
    "plt.plot(range(0,len(lambda_vals)), l1_acc, color='r', label='L1')\n",
    "#replace the x-axis labels with penalty values\n",
    "plt.xticks(range(0,len(lambda_vals)), lambda_vals, rotation='vertical')\n",
    "\n",
    "#Highlight the best values of alpha and lambda\n",
    "plt.plot((max_index_l2, max_index_l2), (0, l2_acc[max_index_l2]), ls='dotted', color='b')\n",
    "plt.plot((max_index_l1, max_index_l1), (0, l1_acc[max_index_l1]), ls='dotted', color='r')\n",
    "\n",
    "#Set the y-axis from 0 to 1.0\n",
    "axes = plt.gca()\n",
    "axes.set_ylim([0, 1.0])\n",
    "\n",
    "plt.legend(loc=\"lower left\")\n",
    "plt.show()"
   ]
  },
  {
   "cell_type": "markdown",
   "metadata": {},
   "source": [
    "## Quiz\n",
    "<!-- ![picture](quiz.png){width=1000 height=700} -->\n",
    "<img src=\"quiz.png\" width=\"1000\" height=\"700\" alt=\"picture\">"
   ]
  },
  {
   "cell_type": "markdown",
   "metadata": {},
   "source": [
    "## Reflection\n",
    "Week 5, 6 have taught me the basic of supervised learning that is linear regression and logistic regression. It also shows me techniques to split data, metrics to test model, and how to diagnose the model."
   ]
  },
  {
   "cell_type": "markdown",
   "metadata": {},
   "source": [
    "## References\n",
    "GeeksforGeeks (2024). Dataset for Linear Regression. [online] GeeksforGeeks. Available at: https://www.geeksforgeeks.org/dataset-for-linear-regression/ [Accessed 16 Aug. 2024].\n",
    "\n",
    "Ng, A. (n.d.). Machine Learning Specialization. [online] DeepLearning.AI. Available at: https://www.deeplearning.ai/courses/machine-learning-specialization/.\n",
    "\n",
    "Kaggle (n.d.). Pima Indians Diabetes Database. [online] www.kaggle.com. Available at: https://www.kaggle.com/datasets/uciml/pima-indians-diabetes-database.\n",
    "\n",
    "Navlani, A. (2019). Python Logistic Regression Tutorial with Sklearn & Scikit. [online] www.datacamp.com. Available at: https://www.datacamp.com/tutorial/understanding-logistic-regression-python.\n",
    "\n",
    "Banerjee, P. (n.d.). Bayesian Optimization using Hyperopt. [online] kaggle.com. Available at: https://www.kaggle.com/code/prashant111/bayesian-optimization-using-hyperopt/notebook.\n",
    "\n",
    "Wilimitis, D. (2019). The Kernel Trick. [online] Medium. Available at: https://towardsdatascience.com/the-kernel-trick-c98cdbcaeb3f.\n",
    "\n",
    "Bhavesh Bhatt (2020). Kernel Trick in Support Vector Machine (SVM). [online] YouTube. Available at: https://www.youtube.com/watch?v=aglNRO18R7g [Accessed 21 Aug. 2024]."
   ]
  }
 ],
 "metadata": {
  "kernelspec": {
   "display_name": "Python 3 (ipykernel)",
   "language": "python",
   "name": "python3"
  },
  "language_info": {
   "codemirror_mode": {
    "name": "ipython",
    "version": 3
   },
   "file_extension": ".py",
   "mimetype": "text/x-python",
   "name": "python",
   "nbconvert_exporter": "python",
   "pygments_lexer": "ipython3",
   "version": "3.11.5"
  }
 },
 "nbformat": 4,
 "nbformat_minor": 4
}
